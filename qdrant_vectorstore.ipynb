{
 "cells": [
  {
   "cell_type": "markdown",
   "metadata": {
    "id": "QnjdW7tgMlCm"
   },
   "source": [
    "## Financial Services"
   ]
  },
  {
   "cell_type": "code",
   "execution_count": 32,
   "metadata": {
    "colab": {
     "base_uri": "https://localhost:8080/"
    },
    "id": "Rz3ZR4OtMylp",
    "outputId": "f56d68a4-0133-494b-b7ae-39ede4416c2f"
   },
   "outputs": [
    {
     "name": "stderr",
     "output_type": "stream",
     "text": [
      "huggingface/tokenizers: The current process just got forked, after parallelism has already been used. Disabling parallelism to avoid deadlocks...\n",
      "To disable this warning, you can either:\n",
      "\t- Avoid using `tokenizers` before the fork if possible\n",
      "\t- Explicitly set the environment variable TOKENIZERS_PARALLELISM=(true | false)\n"
     ]
    },
    {
     "name": "stdout",
     "output_type": "stream",
     "text": [
      "\n",
      "\u001b[1m[\u001b[0m\u001b[34;49mnotice\u001b[0m\u001b[1;39;49m]\u001b[0m\u001b[39;49m A new release of pip is available: \u001b[0m\u001b[31;49m24.1.2\u001b[0m\u001b[39;49m -> \u001b[0m\u001b[32;49m24.2\u001b[0m\n",
      "\u001b[1m[\u001b[0m\u001b[34;49mnotice\u001b[0m\u001b[1;39;49m]\u001b[0m\u001b[39;49m To update, run: \u001b[0m\u001b[32;49mpip install --upgrade pip\u001b[0m\n"
     ]
    }
   ],
   "source": [
    "!pip install -r requirements.txt --quiet"
   ]
  },
  {
   "cell_type": "code",
   "execution_count": 33,
   "metadata": {
    "colab": {
     "base_uri": "https://localhost:8080/"
    },
    "id": "fOASNVdZMlCo",
    "outputId": "972f00fe-9ce5-4ec5-ac12-0257248d7b03"
   },
   "outputs": [],
   "source": [
    "from langchain.text_splitter import RecursiveCharacterTextSplitter\n",
    "from langchain.docstore.document import Document\n",
    "from langchain.document_loaders import UnstructuredURLLoader\n",
    "from langchain.chains.qa_with_sources import load_qa_with_sources_chain\n",
    "from langchain_community.vectorstores import Qdrant\n",
    "from langchain.chains import RetrievalQA\n",
    "from qdrant_client import QdrantClient\n",
    "from qdrant_client.http.models import VectorParams\n",
    "from langchain_huggingface import HuggingFaceEmbeddings\n",
    "from cleantext import clean"
   ]
  },
  {
   "cell_type": "code",
   "execution_count": 34,
   "metadata": {
    "colab": {
     "base_uri": "https://localhost:8080/"
    },
    "id": "ZRa2s2JNMlCp",
    "outputId": "c4cd8774-dda8-4dae-adc5-f91546ece1e2"
   },
   "outputs": [
    {
     "name": "stderr",
     "output_type": "stream",
     "text": [
      "huggingface/tokenizers: The current process just got forked, after parallelism has already been used. Disabling parallelism to avoid deadlocks...\n",
      "To disable this warning, you can either:\n",
      "\t- Avoid using `tokenizers` before the fork if possible\n",
      "\t- Explicitly set the environment variable TOKENIZERS_PARALLELISM=(true | false)\n"
     ]
    },
    {
     "name": "stdout",
     "output_type": "stream",
     "text": [
      "Requirement already satisfied: python-dotenv in /system/conda/miniconda3/envs/cloudspace/lib/python3.10/site-packages (1.0.1)\n",
      "\n",
      "\u001b[1m[\u001b[0m\u001b[34;49mnotice\u001b[0m\u001b[1;39;49m]\u001b[0m\u001b[39;49m A new release of pip is available: \u001b[0m\u001b[31;49m24.1.2\u001b[0m\u001b[39;49m -> \u001b[0m\u001b[32;49m24.2\u001b[0m\n",
      "\u001b[1m[\u001b[0m\u001b[34;49mnotice\u001b[0m\u001b[1;39;49m]\u001b[0m\u001b[39;49m To update, run: \u001b[0m\u001b[32;49mpip install --upgrade pip\u001b[0m\n"
     ]
    }
   ],
   "source": [
    "!pip install python-dotenv"
   ]
  },
  {
   "cell_type": "code",
   "execution_count": 35,
   "metadata": {
    "id": "okv3EFL8MlCp"
   },
   "outputs": [],
   "source": [
    "from dotenv import load_dotenv\n",
    "import os\n",
    "import nltk\n",
    "import time"
   ]
  },
  {
   "cell_type": "code",
   "execution_count": 37,
   "metadata": {
    "id": "nybAOyFiMlCq"
   },
   "outputs": [],
   "source": [
    "# Load environment variables from .env file\n",
    "load_dotenv()\n",
    "\n",
    "# Access the environment variables\n",
    "qdrant_api_key = \"7hCtBhv8qcjRZ6O6DdeEIvd_lXkTombKa64-MrO6nsdLptTWecPFtQ\"\n"
   ]
  },
  {
   "cell_type": "code",
   "execution_count": 38,
   "metadata": {
    "colab": {
     "base_uri": "https://localhost:8080/"
    },
    "id": "9o57F9dDNlO1",
    "outputId": "0e36068a-4197-4af2-91f3-a12434aa2d44"
   },
   "outputs": [
    {
     "name": "stdout",
     "output_type": "stream",
     "text": [
      "7hCtBhv8qcjRZ6O6DdeEIvd_lXkTombKa64-MrO6nsdLptTWecPFtQ\n"
     ]
    }
   ],
   "source": [
    "print(qdrant_api_key)"
   ]
  },
  {
   "cell_type": "markdown",
   "metadata": {
    "id": "IqkxPT6mMlCq"
   },
   "source": [
    "#### Wikipedia"
   ]
  },
  {
   "cell_type": "code",
   "execution_count": 7,
   "metadata": {
    "id": "9SI4TVmKMlCq"
   },
   "outputs": [],
   "source": [
    "from langchain_community.document_loaders import WikipediaLoader"
   ]
  },
  {
   "cell_type": "code",
   "execution_count": 39,
   "metadata": {
    "id": "fjgT8qSRMlCq"
   },
   "outputs": [],
   "source": [
    "docs = WikipediaLoader(query=\"International Financial Services Centres Authority\", doc_content_chars_max = 100000, load_max_docs=1).load()"
   ]
  },
  {
   "cell_type": "code",
   "execution_count": 40,
   "metadata": {
    "colab": {
     "base_uri": "https://localhost:8080/"
    },
    "id": "K5VpiesKMlCq",
    "outputId": "87c300a3-4511-47eb-eaee-6a2447299164"
   },
   "outputs": [
    {
     "data": {
      "text/plain": [
       "{'title': 'International Financial Services Centres Authority',\n",
       " 'summary': 'The International Financial Services Centres Authority (IFSCA) is the regulatory body for the Indian special economic zones such as the GIFT International Financial Services Centre for International Financial Services and commodity markets under the ownership of the Government of India. It was established in 2020, under the International Financial Services Centres Authority Act, 2019. The International Financial Services Centre (IFSC) is located in Gujarat International Finance Tec-City (GIFT City).',\n",
       " 'source': 'https://en.wikipedia.org/wiki/International_Financial_Services_Centres_Authority'}"
      ]
     },
     "execution_count": 40,
     "metadata": {},
     "output_type": "execute_result"
    }
   ],
   "source": [
    "docs[0].metadata  # meta-information of the Document"
   ]
  },
  {
   "cell_type": "code",
   "execution_count": 41,
   "metadata": {
    "colab": {
     "base_uri": "https://localhost:8080/"
    },
    "id": "am75bVu1MlCr",
    "outputId": "87668b58-65a6-4828-ead7-a7ca69b83d84"
   },
   "outputs": [
    {
     "name": "stdout",
     "output_type": "stream",
     "text": [
      "The International Financial Services Centres Authority (IFSCA) is the regulatory body for the Indian special economic zones such as the GIFT International Financial Services Centre for International Financial Services and commodity markets under the ownership of the Government of India. It was established in 2020, under the International Financial Services Centres Authority Act, 2019. The International Financial Services Centre (IFSC) is located in Gujarat International Finance Tec-City (GIFT City).\n",
      "\n",
      "\n",
      "== History ==\n",
      "\n",
      "\n",
      "=== Developments that led to the IFSCA ===\n",
      "In December 2015 the first International Financial Services Centre (IFSC) in India was set up in Gujarat International Finance Tec-City (GIFT City).\n",
      "In 2019 the Government of India enacted an Act of Parliament called the International Financial Services Centres Authority Act, 2019. \n",
      "\n",
      "\n",
      "=== Establishment ===\n",
      "On April 27, 2020, The IFSCA was established as a statutory body under the International Financial Services Centres Authority Act, 2019. On April 27, 2020, inauguration of the IFSCA by the Finance Minister of India, Nirmala Sitharaman.\n",
      "On May 27, 2020, the IFSCA released its first set of regulations, namely the IFSCA (Banking) Regulations, 2020.\n",
      "\n",
      "\n",
      "=== Developments ===\n",
      "On June 17, 2020, the IFSCA signed an MoU with the Monetary Authority of Singapore (MAS) to strengthen cooperation in financial services between India and Singapore.\n",
      "On July 1, 2020, the IFSCA announced the launch of its regulatory sandbox framework for testing innovative financial products, services, and business models.\n",
      "On September 1, 2020, the IFSCA issued the IFSCA (Insurance) Regulations, 2020, for regulating the insurance sector in the IFSC.\n",
      "On December 7, 2020, the IFSCA signed an MoU with the Abu Dhabi Global Market (ADGM) to promote and develop the financial services industry in their respective jurisdictions.\n",
      "On February 17, 2021, the IFSCA issued the IFSCA (Capital Market Intermediaries) Regulations, 2021, for regulating capital market intermediaries in the IFSC. On March 16, 2021, the IFSCA issued the IFSCA (Investment Advisors) Regulations, 2021, for regulating investment advisors in the IFSCA.\n",
      "\n",
      "\n",
      "== Organisation structure ==\n",
      "The International Financial Services Centres Authority (IFSCA) is headed by a chairperson who is appointed by the Government of India. The chairperson is assisted by a full-time Member (Finance) and such number of other Members as may be appointed by the Central Government.\n",
      "\n",
      "\n",
      "== Subsidiary ==\n",
      "The International Financial Services Centres Authority (IFSCA) has several child agencies or subsidiary bodies that help it carry out its functions. Some of these agencies are:\n",
      "\n",
      "International Financial Services Centres Authority Advisory Committee (IFSCA-AC) - This committee advises the IFSCA on various issues related to the development and regulation of financial services in IFSCs.\n",
      "International Financial Services Centres Authority Committee on Fund Administration (IFSCA-CFA) - This committee regulates and oversees the functioning of fund administration services in IFSCs.\n",
      "International Financial Services Centres Authority Committee on Depository Receipts (IFSCA-CDR) - This committee regulates and oversees the issuance and trading of depository receipts in IFSCs.\n",
      "International Financial Services Centres Authority Committee on Market Infrastructure Institutions (IFSCA-CMII) - This committee regulates and oversees the functioning of market infrastructure institutions like stock exchanges, clearing corporations, and depositories in IFSCs.\n",
      "International Financial Services Centres Authority Committee on Financial Benchmarks (IFSCA-CFB) - This committee regulates and oversees the functioning of financial benchmarks in IFSCs.\n",
      "International Financial Services Centres Authority Committee on Investment Advisers (IFSCA-CIA) - This committee regulates and oversees the functioning of investment advisers in IFSCs.\n",
      "International Financial Services Centres Authority Committee on Commodity Derivatives Markets (IFSCA-CCDM) - This committee regulates and oversees the functioning of commodity derivatives markets in IFSCs.\n",
      "International Financial Services Centres Authority Committee on Regulatory Sandbox (IFSCA-CRS) - This committee facilitates the testing and experimentation of innovative financial products, services, and technologies in a controlled environment in IFSCs.\n",
      "International Financial Services Centres Authority Committee on Financial Services (IFSCA-CFS) - This committee regulates and oversees the functioning of all financial services in IFSCs.\n",
      "International Financial Services Centres Authority Committee on Regulation of Depositories (IFSCA-CRD) - This committee regulates and oversees the functioning of depositories in IFSCs.\n",
      "International Financial Services Centres Authority Committee on Accounting Standards (IFSCA-CAS) - This committee regulates and oversees the adoption of accounting standards in IFSCs.\n",
      "International Financial Services Centres Authority Committee on Cyber Security (IFSCA-CCS) - This committee regulates and oversees the cyber security and data protection measures taken by entities in IFSCs.\n",
      "International Financial Services Centres Authority Committee on Money Market and Foreign Exchange Markets (IFSCA-CMFM) - This committee regulates and oversees the functioning of money market and foreign exchange markets in IFSCs.\n",
      "International Financial Services Centres Authority Committee on Governance and Ethics (IFSCA-CGE) - This committee promotes good governance and ethical practices in entities operating in IFSCs.\n",
      "International Financial Services Centres Authority Committee on Risk Management (IFSCA-CRM) - This committee regulates and oversees the risk management practices adopted by entities in IFSCs.\n",
      "International Financial Services Centres Authority Committee on Insurance (IFSCA-CI) - This committee regulates and oversees the functioning of insurance services in IFSCs.\n",
      "International Financial Services Centres Authority Committee on Retail Business Development (IFSCA-CRBD) -  To develop international retail business along with potential strategies for making IFSC attractive for international financial services .\n",
      "\n",
      "\n",
      "== Functions and responsibilities ==\n",
      "The International Financial Services Centres Authority (IFSCA) has been established to regulate and develop financial services in the International Financial Services Centres (IFSCs) located in India. Here are the key functions and responsibilities of IFSCA:\n",
      "\n",
      "Regulatory and development functions: The IFSCA is responsible for regulating financial services and products offered in the IFSCs, including banking, insurance, securities markets, and other financial products and services. It is also responsible for promoting and developing the IFSCs in India.\n",
      "Granting of approvals and permissions: The IFSCA has the power to grant approvals and permissions to entities operating in the IFSCs, including financial institutions, intermediaries, and other service providers.\n",
      "Promoting International Financial Services Centre: The IFSCA is responsible for promoting IFSCs and developing them into world-class financial centers. It has the power to enter into MoUs with other regulatory bodies, financial institutions, and governments of foreign countries to promote financial services in IFSCs.\n",
      "Framing of regulations and rules: The IFSCA has the power to frame regulations and rules for the conduct of financial services and products in the IFSCs. It can also make recommendations to the Central Government on matters related to the regulation and development of financial services in the IFSCs.\n",
      "Regulating Capital Markets: The IFSCA regulates capital markets in IFSCs and has the power to issue regulations, guidelines, and directions for entities operating in these markets.\n",
      "Regulating Banking Services: The IFSCA regulates banking services in IFSCs and has the power to issue regulations, guidelines, and directions for entities operating in these services.\n",
      "Regulating Insurance Services: The IFSCA regulates insurance services in IFSCs and has the power to issue regulations, guidelines, and directions for entities operating in these services.\n",
      "Monitoring and surveillance: The IFSCA is responsible for monitoring and conducting surveillance of the financial services and products offered in the IFSCs to ensure compliance with regulations and rules.\n",
      "Dispute resolution: The IFSCA has the power to resolve disputes arising out of financial transactions in the IFSCs, including between parties located in the IFSCs and parties located outside the IFSCs.\n",
      "International cooperation: The IFSCA can enter into agreements with other regulatory bodies and organizations outside India to promote and develop the financial services industry in the IFSCs and to enhance international cooperation in this regard.\n",
      "\n",
      "\n",
      "== Departments ==\n",
      "The International Financial Services Centres Authority (IFSCA) is a regulatory authority established by the Government of India to develop and regulate the financial services market. The IFSCA has several departments to oversee different areas of financial services.\n",
      "\n",
      "\n",
      "== See also ==\n",
      "Securities and Exchange Board of India\n",
      "Reserve Bank of India\n",
      "List of financial regulatory authorities by jurisdiction\n",
      "\n",
      "\n",
      "== References ==\n",
      "\n",
      "\n",
      "== External links ==\n",
      "Official website \n",
      "International Financial Services Centres Authority Headquarters at GIFT City\n"
     ]
    }
   ],
   "source": [
    "print(docs[0].page_content)"
   ]
  },
  {
   "cell_type": "code",
   "execution_count": 42,
   "metadata": {
    "id": "vE_AK9phMlCr"
   },
   "outputs": [],
   "source": [
    "documents = []\n",
    "documents.extend(docs)"
   ]
  },
  {
   "cell_type": "code",
   "execution_count": 43,
   "metadata": {
    "colab": {
     "base_uri": "https://localhost:8080/"
    },
    "id": "jZJZv7MjMlCr",
    "outputId": "b955e809-f4ae-4455-c838-1cb438df93ab"
   },
   "outputs": [
    {
     "data": {
      "text/plain": [
       "1"
      ]
     },
     "execution_count": 43,
     "metadata": {},
     "output_type": "execute_result"
    }
   ],
   "source": [
    "len(documents)"
   ]
  },
  {
   "cell_type": "code",
   "execution_count": 44,
   "metadata": {
    "id": "JuNfl1pxMlCr"
   },
   "outputs": [
    {
     "data": {
      "text/plain": [
       "9374"
      ]
     },
     "execution_count": 44,
     "metadata": {},
     "output_type": "execute_result"
    }
   ],
   "source": [
    "len(documents[0].page_content)"
   ]
  },
  {
   "cell_type": "code",
   "execution_count": 45,
   "metadata": {
    "colab": {
     "base_uri": "https://localhost:8080/"
    },
    "id": "FJOVwJdOMlCr",
    "outputId": "f984dcb5-8cd1-4e47-fea8-c4d51536b108"
   },
   "outputs": [],
   "source": [
    "text_splitter = RecursiveCharacterTextSplitter(chunk_size=500, chunk_overlap=20)\n",
    "texts = text_splitter.split_documents(documents)"
   ]
  },
  {
   "cell_type": "code",
   "execution_count": 46,
   "metadata": {},
   "outputs": [
    {
     "data": {
      "text/plain": [
       "27"
      ]
     },
     "execution_count": 46,
     "metadata": {},
     "output_type": "execute_result"
    }
   ],
   "source": [
    "len(texts)"
   ]
  },
  {
   "cell_type": "code",
   "execution_count": 47,
   "metadata": {
    "id": "HZqHKI9sMlCr"
   },
   "outputs": [],
   "source": [
    "model_name = 'sentence-transformers/all-MiniLM-L12-v1'"
   ]
  },
  {
   "cell_type": "code",
   "execution_count": 48,
   "metadata": {
    "colab": {
     "base_uri": "https://localhost:8080/",
     "height": 424,
     "referenced_widgets": [
      "d0a7c773049a45028803a71768985894",
      "e3d7c6e91bf54c0ea628283ffd758909",
      "61cd1fb6a7864214920459af3f2a9a83",
      "ad581a8f94b74141baf4d80cc7890d1b",
      "ca9ea383ce824625a0486056eafb43da",
      "d822bb181d554468ac95a2576ccb039c",
      "f0e52ff9e33745d59dd626e3be805d27",
      "50885075c627469c8c97c7a869cf2394",
      "858e1e048b324ee8a0ddb69fe685f377",
      "0a900cb5417545468e53c59d66d2e5bd",
      "2c0d1da35f7c4907b07034c759d98f4d",
      "7b786e8d0be7438a852cfe574f6387fd",
      "abe82e98b56e4574aa102f5668acf059",
      "b92b2a16ecf34e01bfd1573e745fd8d6",
      "ed2feafc088a4e19a9e933f7551dc271",
      "d976e9a70962423db062148cb21ec2b2",
      "d2f53e83054a40629cc03c1270da3c39",
      "2bcee6ddbfc447e690e822decf74be02",
      "a80cc3498c104fe2acc4a276b9e7fb30",
      "75586789270a4efcb6e0fd1debc9c225",
      "613f4ecdecdf49bc9fd98fa005d0b8e6",
      "57997aaceed94a7fbc9f671a1508cdab",
      "0b790eebc9e04dfb9d1ccf1089a353bb",
      "5a993d4614c0494ca4f729999f00256c",
      "2566493e05064ee5b406b5aa08d38fed",
      "4d52da43babf46b8a21cddd8f1d75c5e",
      "cd0210303db04559a62acbeddbce8baf",
      "acee102de11449bcbdb3193c6ffe21d4",
      "a03be1fae3144d35ae190027b15ee69b",
      "7808a46a0d5041c4b04c156fc4d2a7d6",
      "20952f62c5a24bfa88ada09f25122c62",
      "5a7c662c94474c9fb3654f7c7ab270af",
      "f353552c1f554d94b3787fb0c645c159",
      "e8c40b3ebef54d0190122cf2011ed2cd",
      "7c7edcbcd8664dada21266b144c9f5de",
      "ac186c5e9fd74c9eac4c06dd50855936",
      "ee691533cfb74a9ea57929188fa9d029",
      "f2a2dae9f88c49ec899eb713cbbf7823",
      "19ffba008fda4107b06796a55d73c4dd",
      "7a3af1a4f5b4415482d58e140149e66b",
      "64f4fd050de64272befda3ef2cfef912",
      "7777308dea0244c2be6eecf1f3704a22",
      "48b0a73bbe7641d7a820c62728ea4f59",
      "8f1c9b4baa1b4f0d9b2c14cfbefcce14",
      "ce77fa045f6a47a383e3f45ca818752c",
      "20d22c02228949a88dd73cbc66424dc5",
      "607b96f938544910b9f4572e20f6584a",
      "43283fc55e284b50abc164f351f347d8",
      "88bfd8944cf94bb887cacec2e7989951",
      "5b5b58e6f5ac4e8db07cdce262ce305b",
      "de4495f1478f46f8a5ac7cbe64f736fb",
      "27d51655655a4eb5a0d87c4fe3974ca6",
      "112b613a127946ca85d0a9cdc97ed22e",
      "4b8f4ffc1d664e28bb6042dc1168c19c",
      "c4ec4535d2544eb897a76b9e9faa00e3",
      "c10bcf8050694d8a8be51ec6092e5e03",
      "6a67d78ebbc24f05b7ec24dd2b274745",
      "62f9673afdb64ce1bda2b13536e96f2b",
      "025969b4b1d643b99066d4331cb37aea",
      "5dc35828d7b646a3b7149ec81cfa0251",
      "9031fab4e0f947289f78e7012c41b64c",
      "79ac4f5dbecb4ab78c0e38d077c5eebd",
      "bc88037a504b4a9c881b5831490e42d0",
      "111fd9c141b748f6b7922b5af83e921c",
      "16b2824841da4c64892dbc0d238be414",
      "480a899fd1a2430fb23382a01a1fd885",
      "6833a871a2024614818059e5feef9f34",
      "4269a09651d34156bc9923596538422b",
      "c6658252535b41ed8209d7c93e4ccb3b",
      "2913c66e36c5489594cada15833ed0c4",
      "2cd188081d984d06963d0ac1e0d40405",
      "ce3509c8115048f4893180d0231272c1",
      "16275bb0343d4ce19d7c5f4d477e039c",
      "7f26006cc6b240cd849f9608bc0bc5ce",
      "611ca9e3378749009dbe46777b549127",
      "57f2a31f66fc4113852b8db3130b2600",
      "7c8ff5569769424aad46f6a60324d532",
      "1e65ec20476b4d67929b5821585971e6",
      "3650f87a5ac24289865cac5c9b470bb1",
      "a858a1afdd45446a8eb6c40a6094d6ba",
      "22befc56d3a449fbb651140baf9a00d5",
      "c123457be89f46b4b48ff6ad72332874",
      "d79e228338734b16b6c54d29b31a3195",
      "bb1e91b9c751403c968d3df61cd5417c",
      "dfa44288797e4a1b9b9f05072c025478",
      "1be76586657f493baba89d9d47172a55",
      "64581c3d3c3d4c70a799cb5b06851c27",
      "46096783f5c84e039854aff632314eaf",
      "adcd43c1ecb84bde9ae9c9218296f293",
      "ed3854aa1b484170bc074b86b6093a1e",
      "09dd8141919347189b6268a11abf8fd5",
      "29cbe9aefb9c49f391976e74b0204952",
      "f2e9c52f67f74b31b388323266019dc8",
      "b3db694dee8846d3acf2016d68681fd7",
      "a93807fa280e40b481c5255c1dd41f04",
      "acbc722e966448c7a42259f704aba82f",
      "b49faa9d8b2f4760ad76c2eb6ad3fedd",
      "9eb08887de344177ad213925cdd85ff4",
      "474e0fdd32f64894aac34959fc47cdf3",
      "b361cf85a79c4dca96695895b21651b0",
      "4706f81314d8423888eace4ff87066ac",
      "6642f6f802944416badc11fe834d687b",
      "eb47d743a2ba4c94bc38af5214536897",
      "0bba04c1692242318d733e2278464b3c",
      "f79c76550e9547569760ae06b733e80a",
      "6b28cf31200343928f374ea0e44957e3",
      "842a563323dd4bd6913b7e144bf4d738",
      "f31ea4644f9f4d32a290c242dde00d20",
      "597420753ccf47db81aca5f226cacc4a",
      "ee18727fddf34202ac4c262321abb200",
      "4d1947f7916b497ea47b4d71d4738b2e",
      "10b0389460184adcbfb24872a69a8079",
      "2440c6b73ae34b3f94f67cacab122a52",
      "b46e780cd0a04a12bae3c414b75f2cab",
      "c7914e77cf974c7fb60f1d368e471338",
      "3dcab98063aa4cc79ab9fb767abb30bd",
      "a02c0bd0e68c42f9802a7e49c84b5ed1",
      "a78505109d3c4108b157c03a18e99bb6",
      "25bf1b6569bb44b6a0e74599d4793c34",
      "744d9c867ca0499fa02a791fcc8ea7e7",
      "eb7b42058da947c09407613be0ba84d0"
     ]
    },
    "id": "iSqJN-2PMlCr",
    "outputId": "3313af56-1ca2-44c4-dcc3-08bf41524373"
   },
   "outputs": [],
   "source": [
    "# Define model parameters\n",
    "model_kwargs = {'device': 'cpu', 'trust_remote_code': True}\n",
    "encode_kwargs = {'normalize_embeddings': True}\n",
    "\n",
    "# Initialize HuggingFace embeddings\n",
    "embeddings_model = HuggingFaceEmbeddings(model_name=model_name,model_kwargs=model_kwargs,encode_kwargs=encode_kwargs)"
   ]
  },
  {
   "cell_type": "code",
   "execution_count": 49,
   "metadata": {
    "id": "iFP_Lp44MlCs"
   },
   "outputs": [],
   "source": [
    "# Define the URL for Qdrant\n",
    "url=\"https://a1fbbfce-ca47-437d-b308-e79724650692.us-east4-0.gcp.cloud.qdrant.io:6333\""
   ]
  },
  {
   "cell_type": "code",
   "execution_count": 50,
   "metadata": {
    "id": "xo_ynw2VMlCs"
   },
   "outputs": [],
   "source": [
    "# Initialize Qdrant client\n",
    "client =  QdrantClient(url=url, api_key=qdrant_api_key)"
   ]
  },
  {
   "cell_type": "code",
   "execution_count": 51,
   "metadata": {
    "id": "LpiIZrysMlCs"
   },
   "outputs": [],
   "source": [
    "# Get vector size by embedding a test query\n",
    "vector_size = len(embeddings_model.embed_query(\"test\"))\n",
    "# Collection name\n",
    "collection_name = \"finance_collection\""
   ]
  },
  {
   "cell_type": "code",
   "execution_count": 52,
   "metadata": {
    "id": "3VRSBie-MlCs"
   },
   "outputs": [],
   "source": [
    "# Check if the collection already exists\n",
    "if client.collection_exists(collection_name):\n",
    "    # Create a collection with the calculated vector size\n",
    "    client.delete_collection(collection_name=collection_name)\n",
    "    client.create_collection(\n",
    "            collection_name=collection_name,\n",
    "            vectors_config=VectorParams(size=vector_size, distance=\"Dot\")\n",
    "        )\n",
    "else:\n",
    "    client.create_collection(\n",
    "            collection_name=collection_name,\n",
    "            vectors_config=VectorParams(size=vector_size, distance=\"Dot\")\n",
    "        )"
   ]
  },
  {
   "cell_type": "code",
   "execution_count": 53,
   "metadata": {
    "colab": {
     "base_uri": "https://localhost:8080/"
    },
    "id": "KGXw3h84MlCs",
    "outputId": "56a87567-220d-4b96-f82e-098b1af4d2e7"
   },
   "outputs": [
    {
     "name": "stdout",
     "output_type": "stream",
     "text": [
      "Time taken is: 1.0052828788757324 seconds\n"
     ]
    }
   ],
   "source": [
    "start =time.time()\n",
    "# Insert documents into the collection\n",
    "qdrant = Qdrant.from_documents(texts,embeddings_model,url=url,prefer_grpc=False,api_key=qdrant_api_key,collection_name=collection_name,force_recreate=False,distance_func=\"Dot\")\n",
    "end =time.time()\n",
    "print(\"Time taken is:\", end-start,\"seconds\")"
   ]
  },
  {
   "cell_type": "code",
   "execution_count": 54,
   "metadata": {
    "colab": {
     "base_uri": "https://localhost:8080/"
    },
    "id": "81pQ_HWFMlCs",
    "outputId": "1bb10be1-f76f-4861-e332-4b5f0cc0f8ca"
   },
   "outputs": [
    {
     "data": {
      "text/plain": [
       "[(Document(metadata={'source': 'https://en.wikipedia.org/wiki/International_Financial_Services_Centres_Authority', 'summary': 'The International Financial Services Centres Authority (IFSCA) is the regulatory body for the Indian special economic zones such as the GIFT International Financial Services Centre for International Financial Services and commodity markets under the ownership of the Government of India. It was established in 2020, under the International Financial Services Centres Authority Act, 2019. The International Financial Services Centre (IFSC) is located in Gujarat International Finance Tec-City (GIFT City).', 'title': 'International Financial Services Centres Authority', '_id': '5632b19a-61f5-40d8-ac04-75495190d274', '_collection_name': 'finance_collection'}, page_content='== Organisation structure ==\\nThe International Financial Services Centres Authority (IFSCA) is headed by a chairperson who is appointed by the Government of India. The chairperson is assisted by a full-time Member (Finance) and such number of other Members as may be appointed by the Central Government.'),\n",
       "  0.47740817),\n",
       " (Document(metadata={'source': 'https://en.wikipedia.org/wiki/International_Financial_Services_Centres_Authority', 'summary': 'The International Financial Services Centres Authority (IFSCA) is the regulatory body for the Indian special economic zones such as the GIFT International Financial Services Centre for International Financial Services and commodity markets under the ownership of the Government of India. It was established in 2020, under the International Financial Services Centres Authority Act, 2019. The International Financial Services Centre (IFSC) is located in Gujarat International Finance Tec-City (GIFT City).', 'title': 'International Financial Services Centres Authority', '_id': 'a4865cf3-fee5-4aae-a9ad-8740bcce995c', '_collection_name': 'finance_collection'}, page_content='== Subsidiary ==\\nThe International Financial Services Centres Authority (IFSCA) has several child agencies or subsidiary bodies that help it carry out its functions. Some of these agencies are:'),\n",
       "  0.41567498),\n",
       " (Document(metadata={'source': 'https://en.wikipedia.org/wiki/International_Financial_Services_Centres_Authority', 'summary': 'The International Financial Services Centres Authority (IFSCA) is the regulatory body for the Indian special economic zones such as the GIFT International Financial Services Centre for International Financial Services and commodity markets under the ownership of the Government of India. It was established in 2020, under the International Financial Services Centres Authority Act, 2019. The International Financial Services Centre (IFSC) is located in Gujarat International Finance Tec-City (GIFT City).', 'title': 'International Financial Services Centres Authority', '_id': '1cf06b42-f75c-4b61-bb95-6ff01b9375f9', '_collection_name': 'finance_collection'}, page_content='International Financial Services Centres Authority Committee on Risk Management (IFSCA-CRM) - This committee regulates and oversees the risk management practices adopted by entities in IFSCs.\\nInternational Financial Services Centres Authority Committee on Insurance (IFSCA-CI) - This committee regulates and oversees the functioning of insurance services in IFSCs.'),\n",
       "  0.3695321),\n",
       " (Document(metadata={'source': 'https://en.wikipedia.org/wiki/International_Financial_Services_Centres_Authority', 'summary': 'The International Financial Services Centres Authority (IFSCA) is the regulatory body for the Indian special economic zones such as the GIFT International Financial Services Centre for International Financial Services and commodity markets under the ownership of the Government of India. It was established in 2020, under the International Financial Services Centres Authority Act, 2019. The International Financial Services Centre (IFSC) is located in Gujarat International Finance Tec-City (GIFT City).', 'title': 'International Financial Services Centres Authority', '_id': '8e94c518-104e-48c2-8efa-da262aca3ea6', '_collection_name': 'finance_collection'}, page_content='== Departments ==\\nThe International Financial Services Centres Authority (IFSCA) is a regulatory authority established by the Government of India to develop and regulate the financial services market. The IFSCA has several departments to oversee different areas of financial services.\\n\\n\\n== See also ==\\nSecurities and Exchange Board of India\\nReserve Bank of India\\nList of financial regulatory authorities by jurisdiction\\n\\n\\n== References =='),\n",
       "  0.33362493)]"
      ]
     },
     "execution_count": 54,
     "metadata": {},
     "output_type": "execute_result"
    }
   ],
   "source": [
    "query = \"What's the organisation structure?\"\n",
    "qdrant.similarity_search_with_score(query)"
   ]
  },
  {
   "cell_type": "markdown",
   "metadata": {
    "id": "wFLRLEx8MlCs"
   },
   "source": [
    "## LLM result"
   ]
  },
  {
   "cell_type": "code",
   "execution_count": null,
   "metadata": {
    "id": "mrDM1ZEkMlCt"
   },
   "outputs": [],
   "source": [
    "# from langchain_openai import ChatOpenAI\n",
    "# from langchain.chains import RetrievalQA\n",
    "# # completion llm\n",
    "# llm = ChatOpenAI(\n",
    "#     openai_api_key=os.getenv(\"OPENAI_API_KEY\"),\n",
    "#     model_name='gpt-4o-mini',\n",
    "#     temperature=0.0\n",
    "# )\n",
    "# qa = RetrievalQA.from_chain_type(\n",
    "#     llm=llm,\n",
    "#     chain_type=\"stuff\",\n",
    "#     retriever=qdrant.as_retriever()\n",
    "# )\n",
    "# qa.run(query)"
   ]
  },
  {
   "cell_type": "markdown",
   "metadata": {
    "id": "tuFxESonMlCt"
   },
   "source": [
    "#### URL"
   ]
  },
  {
   "cell_type": "code",
   "execution_count": 55,
   "metadata": {
    "colab": {
     "base_uri": "https://localhost:8080/"
    },
    "id": "IjUs-c28MlCt",
    "outputId": "fd09f3af-0231-4f77-8c8a-7bc98643e9a6"
   },
   "outputs": [
    {
     "name": "stdin",
     "output_type": "stream",
     "text": [
      "Enter Link: https://finance.ec.europa.eu/financial-crime/anti-money-laundering-and-countering-financing-terrorism-eu-level_en#legislation\n"
     ]
    },
    {
     "name": "stdout",
     "output_type": "stream",
     "text": [
      "URL: ['https://finance.ec.europa.eu/financial-crime/anti-money-laundering-and-countering-financing-terrorism-eu-level_en#legislation']\n"
     ]
    }
   ],
   "source": [
    "#n_weblinks = int(input(\"How many web links you want the RAG agent to refer for response generation & insights? Enter here: \"))\n",
    "urls = []\n",
    "inp = input(\"Enter Link:\")\n",
    "urls.append(inp)\n",
    "print(\"URL:\", urls)"
   ]
  },
  {
   "cell_type": "code",
   "execution_count": null,
   "metadata": {
    "id": "LrJgEqzDMlCt"
   },
   "outputs": [],
   "source": [
    "#https://finance.ec.europa.eu/financial-crime/anti-money-laundering-and-countering-financing-terrorism-eu-level_en#legislation"
   ]
  },
  {
   "cell_type": "code",
   "execution_count": 56,
   "metadata": {
    "colab": {
     "base_uri": "https://localhost:8080/"
    },
    "id": "_Hnm7dvCMlCt",
    "outputId": "d085956c-43e4-47b5-cc99-971f7092015e"
   },
   "outputs": [
    {
     "name": "stderr",
     "output_type": "stream",
     "text": [
      "[nltk_data] Downloading package punkt to\n",
      "[nltk_data]     /teamspace/studios/this_studio/nltk_data...\n",
      "[nltk_data]   Unzipping tokenizers/punkt.zip.\n",
      "[nltk_data] Downloading package averaged_perceptron_tagger to\n",
      "[nltk_data]     /teamspace/studios/this_studio/nltk_data...\n",
      "[nltk_data]   Unzipping taggers/averaged_perceptron_tagger.zip.\n",
      "100%|██████████| 1/1 [00:00<00:00,  2.08it/s]\n"
     ]
    }
   ],
   "source": [
    "loader = UnstructuredURLLoader(urls=urls, show_progress_bar=True)\n",
    "urls = loader.load()"
   ]
  },
  {
   "cell_type": "code",
   "execution_count": 60,
   "metadata": {},
   "outputs": [
    {
     "data": {
      "text/plain": [
       "{'source': 'https://finance.ec.europa.eu/financial-crime/anti-money-laundering-and-countering-financing-terrorism-eu-level_en#legislation'}"
      ]
     },
     "execution_count": 60,
     "metadata": {},
     "output_type": "execute_result"
    }
   ],
   "source": [
    "urls[0].metadata"
   ]
  },
  {
   "cell_type": "code",
   "execution_count": 63,
   "metadata": {},
   "outputs": [
    {
     "data": {
      "text/plain": [
       "17220"
      ]
     },
     "execution_count": 63,
     "metadata": {},
     "output_type": "execute_result"
    }
   ],
   "source": [
    "raw_text =urls[0].page_content\n",
    "len(raw_text)"
   ]
  },
  {
   "cell_type": "code",
   "execution_count": 64,
   "metadata": {},
   "outputs": [],
   "source": [
    "clean_url_text = clean(text=raw_text,\n",
    "            fix_unicode=True,\n",
    "            to_ascii=True,\n",
    "            lower=True,\n",
    "            no_line_breaks=False,\n",
    "            no_urls=False,\n",
    "            no_emails=False,\n",
    "            no_phone_numbers=False,\n",
    "            no_numbers=False,\n",
    "            no_digits=False,\n",
    "            no_currency_symbols=False,\n",
    "            no_punct=False,\n",
    "            lang=\"en\"\n",
    "            )"
   ]
  },
  {
   "cell_type": "code",
   "execution_count": 65,
   "metadata": {},
   "outputs": [
    {
     "data": {
      "text/plain": [
       "17037"
      ]
     },
     "execution_count": 65,
     "metadata": {},
     "output_type": "execute_result"
    }
   ],
   "source": [
    "len(clean_url_text)"
   ]
  },
  {
   "cell_type": "code",
   "execution_count": 67,
   "metadata": {
    "id": "wxmCBPF-MlCt"
   },
   "outputs": [],
   "source": [
    "from langchain.schema import Document\n",
    "metadata = {\n",
    "    \"source\": 'https://finance.ec.europa.eu/financial-crime/anti-money-laundering-and-countering-financing-terrorism-eu-level_en#legislation'\n",
    "}\n",
    "\n",
    "doc = Document(page_content=clean_url_text, metadata=metadata)\n",
    "document =[doc]"
   ]
  },
  {
   "cell_type": "code",
   "execution_count": 68,
   "metadata": {
    "colab": {
     "base_uri": "https://localhost:8080/"
    },
    "id": "evpXm1zyMlCt",
    "outputId": "f361091e-856d-4054-c289-24d4af3726ea"
   },
   "outputs": [
    {
     "data": {
      "text/plain": [
       "[Document(metadata={'source': 'https://finance.ec.europa.eu/financial-crime/anti-money-laundering-and-countering-financing-terrorism-eu-level_en#legislation'}, page_content=\"page contents\\nwhat the eu is doing and why\\nit is essential that gatekeepers (banks and other obliged entities) apply measures to prevent money laundering and terrorist financing. traceability of financial information has an important deterrent effect.\\nthe european commission carries out risk assessments in order to identify and respond to risks affecting the euinternal market.the european union adopted robust legislation to fight against money laundering and terrorist financing (aml). the first anti-money laundering directive was adopted in 1990 in order to prevent the misuse of the financial system for the purpose of money laundering. it provides that obliged entities shall apply customer due diligence requirements when entering into a business relationship (i.e. identify and verify the identity of clients, monitor transactions and report suspicious transactions).\\nthe eulaws have been constantly revised in order to mitigate new risks relating to money laundering and terrorist financing.\\nthe legislative framework not only covers a range of areas posing such risks, including virtual assets and crowdfunding, but also complements other regulations such as markets in crypto-assets regulation (mica).\\nthe new regulation on the traceability of transfers of funds (tfr) ensures the traceability of crypto-assets transfers and the authentication of users, aligning with fatf standards. it will apply as of december2024.\\nthe commission ensures effective application of this legislation by reviewing transposition of eulaw and cooperating with competent authorities.\\nenhancing access to financial information by law enforcement\\nterrorists and criminals have demonstrated their ability to transfer funds quickly between different banks, often in different countries, but lack of timely access to financial information means that many investigations come to a dead end. there is therefore a clear need to enhance cooperation between authorities responsible for combating terrorism and serious crime when financial information is a key part of an investigation.\\ndirective (eu) 2019/1153 enhances the use of financial information by giving law-enforcement authorities direct access to information about the identity of bank-account holders contained in national centralised registries. in addition, it gives law enforcement the possibility to access certain information from national financial intelligence units (fius) including data on financial transactions and also improves the information exchange between fius as well as their access to law enforcement information necessary for the performance of their tasks. these measures will speed up criminal investigations and enable authorities to combat cross-border crime more effectively.\\nrisk assessment\\nthe commission publishes every year a supranational risk assessment report. it assesses the vulnerability of financial products and services to risks of money laundering and terrorist financing. this risk analysis is conceived as a key tool to identify, analyse and address money laundering and terrorist financing risks in the eu. it aims at providing a comprehensive mapping of risks on all relevant areas, as well as recommendations to member states, european supervisory authorities and obliged entities to mitigate these risks. this risk analysis support member states and obliged entities when carrying out their respective risk assessments.\\nsupervision and regulatory technical standards\\nthe commission's services work closely with the european supervisory authorities in the implementation of the aml/cft rules. the joint committee of the european supervisory authorities on aml/cft issues guidelines and opinions to help national competent authorities to understand the regulatory expectations.\\nas part of its legal obligation stemming from the 4th anti-money laundering directive the commission adopted delegated regulations in relation to the following regulatory technical standards that have been developed by the european supervisory authorities (esas)\\nregulatory technical standards for the minimum action and the type of additional measures credit and financial institutions must take to mitigate money laundering and terrorist financing risk in certain third countries\\nregulatory technical standards on the criteria for the appointment of central contact points for electronic money issuers and payment service providers and with rules on their functions\\nthe new regulation on the anti-money laundering authority (amla) will create a new euauthority (amla). it will transform aml/cft supervision in theeu and support the cooperation among financial intelligence units (fius). furthermore, it will be the central authority coordinating national authorities to ensure the private sector correctly and consistently applies eurules.\\nanti-money laundering authority (amla)\\nthe new regulation on the anti-money laundering authority (amla) will create a new eu authority. it will establish a new coordination mechanism for aml/cft supervision in the eu and support cooperation amongst financial intelligence units (fius).\\nmore information on the amla\\neu-wide cooperation\\nan expert group on money laundering and terrorist financing meets regularly to share views and help the commission define policy and draft new legislation\\na committee on the prevention of money laundering and terrorist financing may also be convened to give its opinion on implementing measures put forward by the commission\\nthe european commission also organises meetings of an expert group (the eu fiu's platform) that brings financial intelligence units together in order to facilitate cooperation among national fius and to provide advice and expertise to the commission\\nthe european commission organises meetings of an expert group on eid and remote know-your-customer (kyc) processes that brings public and private experts together to explore issues relating to electronic identification and remote kyc processes to provide advice and expertise to the commission\\naml explained\\neu finance podcast\\nepisode 5 - the one about amla\\nstronger eu aml rules\\nfactsheet on fighting financial crime\\nanti-money laundering\\nfinance news hub article\\nfighting financial crime?\\nyoutube video\\npolicy making timeline\\n24 april 2024european parliament plenary votes on the reports on anti-money laundering and countering the financing of terrorism legislative packagelatest update on the legislative package on anti-money laundering and countering the financing of terrorism\\n22 march 2024report - amld ivpublication of a report from the commission to the european parliament and the council on the implementation of the 4thanti-money laundering directivetext of the report\\nstaff working document accompanying the report\\nstudy by the council of europe on the assessment of the concrete implementation and effective application of the 4th anti-money laundering directive in the european union\\n22 february 2024seat selection procedure - amlapolitical agreement between the european parliament and the council on the location of the seat of amla in frankfurt.read the remarks by commissioner mcguinness at the press conference on the selection of the amla seat.\\n18 january 2024legislation - financial crimepolitical agreement between the european parliament and the council on commission's package of legislative proposals to strengthen the eu's anti-money laundering and countering the financing of terrorism (aml/cft) rules.\\n10 january 2024seat selection procedure - amla commission submitted its assessments of the applications to host amla.\\n18 december 2023call for application - amlapolitical agreement reached by co-legislators on the procedure to select the seat for amla.\\n13 december 2023legislation - amlapolitical agreement between the european parliament and the council on commission's proposal to establish an euanti-money laundering and countering terrorism financing authority (amla).\\n10 november 2023call for application - amlathe call for applications to member states came to an end, with applications for the selection of the seat of amla received from 9countries.\\n28 september 2023call for application - amlaat the request of the co-legislators, which have agreed on the selection criteria, the commission has launched a call for applications to member states for the selection of the seat of amla.\\ndeadline: 10november2023\\n27 october 2022staff working document - public-private partnershipscommission staff working document on the use of public-private partnerships in the framework of preventing and fighting money laundering and terrorist financing.\\n29 june 2022legislation - transfer of funds regulationpolitical agreement reached by co-legislators on commission's proposal to amend the transfer of funds regulation (tfr).the agreement provides for an obligation for all crypto service providers involved in crypto transfers to collect data on the originators and beneficiaries of the crypto-assets transfers they operate, and make them available to the competent authorities in charge of the fight against money laundering and terrorism financing.\\n22 february 2022manuals - financial crimethe european commission presented a trainers' manual and its corresponding user's manual for those who train lawyers on anti-money laundering (aml) and counter terrorist financing (ctf) rules at eulevel.\\n20 july 2021legislative proposal - financial crimethe european commission presented an ambitious package of legislative proposals to strengthen the eu's anti-money laundering and countering the financing of terrorism (aml/cft) rules. the package harmonises aml/cft rules across theeu. it also proposes the creation of a new euauthority to fight money laundering (amla).\\n16 september 2020report - trusts and similar legal arrangementsthe european commission adopted a report assessing whether member states have duly identified and made subject to the obligations of directive (eu) 2015/849 all trusts and similar legal arrangements governed under their laws. directive (eu) 2015/849 (the 5th anti-money laundering directive) indeed extended to trusts and similar legal arrangements the transparency rules and obligations applicable to legal entities, requiring member states to identify and notify trusts or trust-like arrangements governed under their legal framework.\\n7 may 2020action plan - financial crimethe european commission adopted an action plan for a comprehensive union policy on preventing money laundering and the financing of terrorism built on six pillars. to gather the views of citizens and stakeholder on these measures, the commission launched a public consultation in parallel to the adoption of this action plan.\\n24 july 2019communication - financial crimethe european commission adopted a communication entitled 'towards better implementation of the eu's anti-money laundering and countering the financing of terrorism framework' accompanied by 4reports.\\n8 november 2018opinion - maltacommission opinion of 8 november 2018 addressed to the financial intelligence analysis unit of malta, based on article 17(4) of regulation (eu) no 1093/2010, on the action necessary to comply with union law.\\n12 september 2018communication - anti-money laundering supervisioncommunication on strengthening the union framework for prudential and anti-money laundering supervision, including targeted changes to the three regulations establishing the supervisory authorities.\\n9 july 2018legislation - amld ventry into force of the 5th anti-money laundering directive (directive (eu) 2018/843), which amends the 4th anti-money laundering directive.these amendments introduced substantial improvement to better equip the union to prevent the financial system from being used for money laundering and for funding terrorist activities.these amendments were introduced toenhance transparency by setting up publicly available registers for companies, trusts and other legal arrangementsenhance the powers of eu financial intelligence units, and provide them with access to broad information for the carrying out of their taskslimit the anonymity related to virtual currencies and wallet providers, but also for pre-paid cardsbroaden the criteria for the assessment of high-risk third countries and improve the safeguards for financial transactions to and from such countriesset up central bank account registries or retrieval systems in all member statesimprove the cooperation and enhance of information between anti-money laundering supervisors between them and between them and prudential supervisors and the european central banksee also the factsheet on the main changes of the 5th anti-money laundering directive\\n26 june 2017guidelines - esaspublication of the final guidelines on anti-money laundering and countering the financing of terrorism by the joint committee of the three european supervisory authorities (eba, eiopa and esma - esas).\\n25 june 2015legislation - amld iventry into force of the 4th anti-money laundering directive (directive (eu) 2015/849).\\nshow 18 more items\\n2012recommendations - fatfrecommendations of the financial action task force (fatf).\\nrelevant legislation\\nanti-money laundering and terrorist financing directive vi (amld vi) - 2024/1640/eu\\nbasic information\\ntext of the amldvi (2024/1640/eu)\\nlegislative history\\noriginal legislative proposal for the amldvi\\nimpact assessment accompanying the legislative proposal for the amldvi\\nexecutive summary of the impact assessment accompanying the legislative proposal for the amldvi\\naml legislative package\\nhistory of the legislative initiative on new national mechanisms for preventing money laundering and counter-terrorist financing\\nanti-money laundering and terrorist financing regulation (amlr) - 2024/1624/eu\\nbasic information\\ntext of the amlr (2024/1624/eu)\\nlegislative history\\noriginal legislative proposal for the amlr\\nimpact assessment accompanying the legislative proposal for the amlr\\nexecutive summary of the impact assessment accompanying the legislative proposal for the amlr\\naml legislative package\\nhistory of the legislative initiative on new rules for the private sector for preventing money laundering and counter-terrorist financing\\nregulation establishing the authority for anti-money laundering and countering the financing of terrorism (amla regulation) - 2024/1620/eu\\nbasic information\\ntext of the amla regulation (2024/1620/eu)\\nlegislative history\\noriginal legislative proposal for the amla regulation\\nimpact assessment accompanying the legislative proposal for the amla regulation\\nexecutive summary of the impact assessment accompanying the legislative proposal for the amla regulation\\naml legislative package\\nhistory of the legislative initiative on a new eu authority for preventing money laundering and counter-terrorist financing\\nanti-money laundering and terrorist financing directive v (amld v) - 2018/843/eu\\nbasic information\\ntext of the amldv (2018/843/eu)\\ntransposition by eumember states\\ntransposition status of the amldv by eumember states\\ntransposition history of the amldv by eumember states\\nlegislative history\\noriginal legislative proposal for the amldv\\nimpact assessment accompanying the legislative proposal for the amldv\\nexecutive summary of the impact assessment accompanying the legislative proposal for the amldv\\nanti-money laundering and terrorist financing directive iv (amld iv) - 2015/849/eu\\nbasic information\\ntext of the amldiv (2015/849/eu)\\nsummary of the legislation: preventing abuse of the financial system for money laundering and terrorism purposes\\ndelegated and implementing acts\\ndelegated and implementing acts to the amldiv\\ntransposition by eumember states\\nthe amldiv was transposed by all eumember states into their national law.\\ntransposition history of the amldiv by eumember states\\nmonitoring and enforcement\\nlist of competent authorities under article 48(1a) of the amldiv\\nongoing revision\\nongoing revision of the amldiv\\nlegislative initiative on the review of amldiv\\nlegislative history\\noriginal legislative proposal for the amldiv\\nimpact assessment accompanying the legislative proposal for the amldiv\\nexecutive summary of the impact assessment accompanying the legislative proposal for the amldiv\\nuse of financial information directive - 2019/1153/eu\\nbasic information\\ntext of the use of financial information directive (2019/1153/eu)\\nsummary of the legislation: using financial information for preventing, detecting, investigating and prosecuting criminal offences\\ntransposition by eumember states\\ntransposition history of the use of financial information directive by eumember states\\nlegislative history\\noriginal legislative proposal for the use of financial information directive\\nimpact assessment accompanying the legislative proposal for the use of financial information directive\\nexecutive summary of the impact assessment accompanying the legislative proposal for the use of financial information directive\\nrelated links\\nanti-money laundering/countering the financing of terrorism authority (amla)\\nfinancial action task force\\nshare this page\")]"
      ]
     },
     "execution_count": 68,
     "metadata": {},
     "output_type": "execute_result"
    }
   ],
   "source": [
    "document"
   ]
  },
  {
   "cell_type": "code",
   "execution_count": 69,
   "metadata": {
    "colab": {
     "base_uri": "https://localhost:8080/"
    },
    "id": "M2u1OnTlMlCt",
    "outputId": "a7e0cffe-7206-453d-e45b-d58ee22b57e3"
   },
   "outputs": [
    {
     "name": "stdout",
     "output_type": "stream",
     "text": [
      "The International Financial Services Centres Authority (IFSCA) is the regulatory body for the Indian special economic zones such as the GIFT International Financial Services Centre for International Financial Services and commodity markets under the ownership of the Government of India. It was established in 2020, under the International Financial Services Centres Authority Act, 2019. The International Financial Services Centre (IFSC) is located in Gujarat International Finance Tec-City (GIFT City).\n",
      "\n",
      "\n",
      "== History ==\n",
      "\n",
      "\n",
      "=== Developments that led to the IFSCA ===\n",
      "In December 2015 the first International Financial Services Centre (IFSC) in India was set up in Gujarat International Finance Tec-City (GIFT City).\n",
      "In 2019 the Government of India enacted an Act of Parliament called the International Financial Services Centres Authority Act, 2019. \n",
      "\n",
      "\n",
      "=== Establishment ===\n",
      "On April 27, 2020, The IFSCA was established as a statutory body under the International Financial Services Centres Authority Act, 2019. On April 27, 2020, inauguration of the IFSCA by the Finance Minister of India, Nirmala Sitharaman.\n",
      "On May 27, 2020, the IFSCA released its first set of regulations, namely the IFSCA (Banking) Regulations, 2020.\n",
      "\n",
      "\n",
      "=== Developments ===\n",
      "On June 17, 2020, the IFSCA signed an MoU with the Monetary Authority of Singapore (MAS) to strengthen cooperation in financial services between India and Singapore.\n",
      "On July 1, 2020, the IFSCA announced the launch of its regulatory sandbox framework for testing innovative financial products, services, and business models.\n",
      "On September 1, 2020, the IFSCA issued the IFSCA (Insurance) Regulations, 2020, for regulating the insurance sector in the IFSC.\n",
      "On December 7, 2020, the IFSCA signed an MoU with the Abu Dhabi Global Market (ADGM) to promote and develop the financial services industry in their respective jurisdictions.\n",
      "On February 17, 2021, the IFSCA issued the IFSCA (Capital Market Intermediaries) Regulations, 2021, for regulating capital market intermediaries in the IFSC. On March 16, 2021, the IFSCA issued the IFSCA (Investment Advisors) Regulations, 2021, for regulating investment advisors in the IFSCA.\n",
      "\n",
      "\n",
      "== Organisation structure ==\n",
      "The International Financial Services Centres Authority (IFSCA) is headed by a chairperson who is appointed by the Government of India. The chairperson is assisted by a full-time Member (Finance) and such number of other Members as may be appointed by the Central Government.\n",
      "\n",
      "\n",
      "== Subsidiary ==\n",
      "The International Financial Services Centres Authority (IFSCA) has several child agencies or subsidiary bodies that help it carry out its functions. Some of these agencies are:\n",
      "\n",
      "International Financial Services Centres Authority Advisory Committee (IFSCA-AC) - This committee advises the IFSCA on various issues related to the development and regulation of financial services in IFSCs.\n",
      "International Financial Services Centres Authority Committee on Fund Administration (IFSCA-CFA) - This committee regulates and oversees the functioning of fund administration services in IFSCs.\n",
      "International Financial Services Centres Authority Committee on Depository Receipts (IFSCA-CDR) - This committee regulates and oversees the issuance and trading of depository receipts in IFSCs.\n",
      "International Financial Services Centres Authority Committee on Market Infrastructure Institutions (IFSCA-CMII) - This committee regulates and oversees the functioning of market infrastructure institutions like stock exchanges, clearing corporations, and depositories in IFSCs.\n",
      "International Financial Services Centres Authority Committee on Financial Benchmarks (IFSCA-CFB) - This committee regulates and oversees the functioning of financial benchmarks in IFSCs.\n",
      "International Financial Services Centres Authority Committee on Investment Advisers (IFSCA-CIA) - This committee regulates and oversees the functioning of investment advisers in IFSCs.\n",
      "International Financial Services Centres Authority Committee on Commodity Derivatives Markets (IFSCA-CCDM) - This committee regulates and oversees the functioning of commodity derivatives markets in IFSCs.\n",
      "International Financial Services Centres Authority Committee on Regulatory Sandbox (IFSCA-CRS) - This committee facilitates the testing and experimentation of innovative financial products, services, and technologies in a controlled environment in IFSCs.\n",
      "International Financial Services Centres Authority Committee on Financial Services (IFSCA-CFS) - This committee regulates and oversees the functioning of all financial services in IFSCs.\n",
      "International Financial Services Centres Authority Committee on Regulation of Depositories (IFSCA-CRD) - This committee regulates and oversees the functioning of depositories in IFSCs.\n",
      "International Financial Services Centres Authority Committee on Accounting Standards (IFSCA-CAS) - This committee regulates and oversees the adoption of accounting standards in IFSCs.\n",
      "International Financial Services Centres Authority Committee on Cyber Security (IFSCA-CCS) - This committee regulates and oversees the cyber security and data protection measures taken by entities in IFSCs.\n",
      "International Financial Services Centres Authority Committee on Money Market and Foreign Exchange Markets (IFSCA-CMFM) - This committee regulates and oversees the functioning of money market and foreign exchange markets in IFSCs.\n",
      "International Financial Services Centres Authority Committee on Governance and Ethics (IFSCA-CGE) - This committee promotes good governance and ethical practices in entities operating in IFSCs.\n",
      "International Financial Services Centres Authority Committee on Risk Management (IFSCA-CRM) - This committee regulates and oversees the risk management practices adopted by entities in IFSCs.\n",
      "International Financial Services Centres Authority Committee on Insurance (IFSCA-CI) - This committee regulates and oversees the functioning of insurance services in IFSCs.\n",
      "International Financial Services Centres Authority Committee on Retail Business Development (IFSCA-CRBD) -  To develop international retail business along with potential strategies for making IFSC attractive for international financial services .\n",
      "\n",
      "\n",
      "== Functions and responsibilities ==\n",
      "The International Financial Services Centres Authority (IFSCA) has been established to regulate and develop financial services in the International Financial Services Centres (IFSCs) located in India. Here are the key functions and responsibilities of IFSCA:\n",
      "\n",
      "Regulatory and development functions: The IFSCA is responsible for regulating financial services and products offered in the IFSCs, including banking, insurance, securities markets, and other financial products and services. It is also responsible for promoting and developing the IFSCs in India.\n",
      "Granting of approvals and permissions: The IFSCA has the power to grant approvals and permissions to entities operating in the IFSCs, including financial institutions, intermediaries, and other service providers.\n",
      "Promoting International Financial Services Centre: The IFSCA is responsible for promoting IFSCs and developing them into world-class financial centers. It has the power to enter into MoUs with other regulatory bodies, financial institutions, and governments of foreign countries to promote financial services in IFSCs.\n",
      "Framing of regulations and rules: The IFSCA has the power to frame regulations and rules for the conduct of financial services and products in the IFSCs. It can also make recommendations to the Central Government on matters related to the regulation and development of financial services in the IFSCs.\n",
      "Regulating Capital Markets: The IFSCA regulates capital markets in IFSCs and has the power to issue regulations, guidelines, and directions for entities operating in these markets.\n",
      "Regulating Banking Services: The IFSCA regulates banking services in IFSCs and has the power to issue regulations, guidelines, and directions for entities operating in these services.\n",
      "Regulating Insurance Services: The IFSCA regulates insurance services in IFSCs and has the power to issue regulations, guidelines, and directions for entities operating in these services.\n",
      "Monitoring and surveillance: The IFSCA is responsible for monitoring and conducting surveillance of the financial services and products offered in the IFSCs to ensure compliance with regulations and rules.\n",
      "Dispute resolution: The IFSCA has the power to resolve disputes arising out of financial transactions in the IFSCs, including between parties located in the IFSCs and parties located outside the IFSCs.\n",
      "International cooperation: The IFSCA can enter into agreements with other regulatory bodies and organizations outside India to promote and develop the financial services industry in the IFSCs and to enhance international cooperation in this regard.\n",
      "\n",
      "\n",
      "== Departments ==\n",
      "The International Financial Services Centres Authority (IFSCA) is a regulatory authority established by the Government of India to develop and regulate the financial services market. The IFSCA has several departments to oversee different areas of financial services.\n",
      "\n",
      "\n",
      "== See also ==\n",
      "Securities and Exchange Board of India\n",
      "Reserve Bank of India\n",
      "List of financial regulatory authorities by jurisdiction\n",
      "\n",
      "\n",
      "== References ==\n",
      "\n",
      "\n",
      "== External links ==\n",
      "Official website \n",
      "International Financial Services Centres Authority Headquarters at GIFT City\n"
     ]
    }
   ],
   "source": [
    "print(documents[0].page_content)"
   ]
  },
  {
   "cell_type": "code",
   "execution_count": 70,
   "metadata": {
    "colab": {
     "base_uri": "https://localhost:8080/"
    },
    "id": "NM1oqVDpMlCt",
    "outputId": "f05a65e8-738e-452a-99ed-70ae39068dc7"
   },
   "outputs": [],
   "source": [
    "text_splitter = RecursiveCharacterTextSplitter(chunk_size=500, chunk_overlap=20)\n",
    "texts = text_splitter.split_documents(document)"
   ]
  },
  {
   "cell_type": "code",
   "execution_count": 71,
   "metadata": {
    "colab": {
     "base_uri": "https://localhost:8080/"
    },
    "id": "mgopm8FNVrJO",
    "outputId": "390c8535-64d5-421b-fb29-ac9c93950a37"
   },
   "outputs": [
    {
     "data": {
      "text/plain": [
       "45"
      ]
     },
     "execution_count": 71,
     "metadata": {},
     "output_type": "execute_result"
    }
   ],
   "source": [
    "len(texts)"
   ]
  },
  {
   "cell_type": "code",
   "execution_count": 72,
   "metadata": {
    "id": "CqaOZbsOMlCu"
   },
   "outputs": [],
   "source": [
    "collection_name = \"finance_collection\""
   ]
  },
  {
   "cell_type": "code",
   "execution_count": 73,
   "metadata": {
    "colab": {
     "base_uri": "https://localhost:8080/"
    },
    "id": "cwsxcL9FMlCu",
    "outputId": "5017259c-7604-4ca6-bb39-76241225e223"
   },
   "outputs": [
    {
     "name": "stdout",
     "output_type": "stream",
     "text": [
      "Time taken is: 1.7736268043518066 seconds\n"
     ]
    }
   ],
   "source": [
    "start =time.time()\n",
    "# Insert documents into the collection\n",
    "qdrant = Qdrant.from_documents(texts,embeddings_model,url=url,prefer_grpc=False,api_key=qdrant_api_key,collection_name=collection_name,force_recreate=False,distance_func=\"Dot\")\n",
    "end =time.time()\n",
    "print(\"Time taken is:\", end-start,\"seconds\")"
   ]
  },
  {
   "cell_type": "code",
   "execution_count": 75,
   "metadata": {
    "colab": {
     "base_uri": "https://localhost:8080/"
    },
    "id": "ED6LCWDVMlCu",
    "outputId": "97a72891-4dc7-43ae-f860-2219167feb36"
   },
   "outputs": [
    {
     "data": {
      "text/plain": [
       "[(Document(metadata={'source': 'https://en.wikipedia.org/wiki/International_Financial_Services_Centres_Authority', 'summary': 'The International Financial Services Centres Authority (IFSCA) is the regulatory body for the Indian special economic zones such as the GIFT International Financial Services Centre for International Financial Services and commodity markets under the ownership of the Government of India. It was established in 2020, under the International Financial Services Centres Authority Act, 2019. The International Financial Services Centre (IFSC) is located in Gujarat International Finance Tec-City (GIFT City).', 'title': 'International Financial Services Centres Authority', '_id': '5632b19a-61f5-40d8-ac04-75495190d274', '_collection_name': 'finance_collection'}, page_content='== Organisation structure ==\\nThe International Financial Services Centres Authority (IFSCA) is headed by a chairperson who is appointed by the Government of India. The chairperson is assisted by a full-time Member (Finance) and such number of other Members as may be appointed by the Central Government.'),\n",
       "  0.47740817),\n",
       " (Document(metadata={'source': 'https://en.wikipedia.org/wiki/International_Financial_Services_Centres_Authority', 'summary': 'The International Financial Services Centres Authority (IFSCA) is the regulatory body for the Indian special economic zones such as the GIFT International Financial Services Centre for International Financial Services and commodity markets under the ownership of the Government of India. It was established in 2020, under the International Financial Services Centres Authority Act, 2019. The International Financial Services Centre (IFSC) is located in Gujarat International Finance Tec-City (GIFT City).', 'title': 'International Financial Services Centres Authority', '_id': 'a4865cf3-fee5-4aae-a9ad-8740bcce995c', '_collection_name': 'finance_collection'}, page_content='== Subsidiary ==\\nThe International Financial Services Centres Authority (IFSCA) has several child agencies or subsidiary bodies that help it carry out its functions. Some of these agencies are:'),\n",
       "  0.41567498),\n",
       " (Document(metadata={'source': 'https://en.wikipedia.org/wiki/International_Financial_Services_Centres_Authority', 'summary': 'The International Financial Services Centres Authority (IFSCA) is the regulatory body for the Indian special economic zones such as the GIFT International Financial Services Centre for International Financial Services and commodity markets under the ownership of the Government of India. It was established in 2020, under the International Financial Services Centres Authority Act, 2019. The International Financial Services Centre (IFSC) is located in Gujarat International Finance Tec-City (GIFT City).', 'title': 'International Financial Services Centres Authority', '_id': '1cf06b42-f75c-4b61-bb95-6ff01b9375f9', '_collection_name': 'finance_collection'}, page_content='International Financial Services Centres Authority Committee on Risk Management (IFSCA-CRM) - This committee regulates and oversees the risk management practices adopted by entities in IFSCs.\\nInternational Financial Services Centres Authority Committee on Insurance (IFSCA-CI) - This committee regulates and oversees the functioning of insurance services in IFSCs.'),\n",
       "  0.3695321),\n",
       " (Document(metadata={'source': 'https://finance.ec.europa.eu/financial-crime/anti-money-laundering-and-countering-financing-terrorism-eu-level_en#legislation', '_id': '5dc51af1-d598-42f4-ba7f-087373d182e1', '_collection_name': 'finance_collection'}, page_content='entering into a business relationship (i.e. identify and verify the identity of clients, monitor transactions and report suspicious transactions).'),\n",
       "  0.35838038)]"
      ]
     },
     "execution_count": 75,
     "metadata": {},
     "output_type": "execute_result"
    }
   ],
   "source": [
    "query = \"What's the organisation structure?\"\n",
    "qdrant.similarity_search_with_score(query)"
   ]
  },
  {
   "cell_type": "code",
   "execution_count": null,
   "metadata": {
    "id": "rT-ih2AtMlCu"
   },
   "outputs": [],
   "source": [
    "# from langchain_openai import ChatOpenAI\n",
    "# from langchain.chains import RetrievalQA\n",
    "# # completion llm\n",
    "# llm = ChatOpenAI(\n",
    "#     openai_api_key=os.getenv(\"OPENAI_API_KEY\"),\n",
    "#     model_name='gpt-3.5-turbo',\n",
    "#     temperature=0.0\n",
    "# )\n",
    "# qa = RetrievalQA.from_chain_type(\n",
    "#     llm=llm,\n",
    "#     chain_type=\"stuff\",\n",
    "#     retriever=vectorstore.as_retriever()\n",
    "# )\n",
    "# print(qa.run(query))"
   ]
  },
  {
   "cell_type": "markdown",
   "metadata": {
    "id": "kw_Iof00MlCz"
   },
   "source": [
    "## Healthcare & Data Privacy"
   ]
  },
  {
   "cell_type": "markdown",
   "metadata": {
    "id": "y74Q5MCCMlCz"
   },
   "source": [
    "#### Wikipedia"
   ]
  },
  {
   "cell_type": "code",
   "execution_count": 76,
   "metadata": {
    "id": "2vv_qyOrMlCz"
   },
   "outputs": [],
   "source": [
    "from langchain_community.document_loaders import WikipediaLoader"
   ]
  },
  {
   "cell_type": "code",
   "execution_count": 77,
   "metadata": {
    "id": "oEpZD16wMlC0"
   },
   "outputs": [],
   "source": [
    "docs = WikipediaLoader(query=\"General Data Protection Regulation\", doc_content_chars_max = 100000, load_max_docs=1).load()"
   ]
  },
  {
   "cell_type": "code",
   "execution_count": 83,
   "metadata": {
    "colab": {
     "base_uri": "https://localhost:8080/"
    },
    "id": "FWcxATfSMlC0",
    "outputId": "d3b9e596-c0f2-45c7-9f40-33e23bb9ac75"
   },
   "outputs": [
    {
     "data": {
      "text/plain": [
       "{'title': 'General Data Protection Regulation',\n",
       " 'summary': 'The General Data Protection Regulation (Regulation (EU) 2016/679, abbreviated GDPR) is a European Union regulation on information privacy in the European Union (EU) and the European Economic Area (EEA). The GDPR is an important component of EU privacy law and human rights law, in particular Article 8(1) of the Charter of Fundamental Rights of the European Union. It also governs the transfer of personal data outside the EU and EEA. The GDPR\\'s goals are to enhance individuals\\' control and rights over their personal information and to simplify the regulations for international business.  It supersedes the Data Protection Directive 95/46/EC and, among other things, simplifies the terminology.\\nThe European Parliament and Council of the European Union adopted the GDPR on 14 April 2016, to become effective on 25 May 2018. As an EU regulation (instead of a directive), GDPR is directly applicable with force of law on its own without the need of transposition. However, it also provides flexibility for individual member states to modify (derogate from) some of its provisions.\\nAs an example of the Brussels effect, the regulation became a model for many other laws around the world, including in Brazil, Japan, Singapore, South Africa, South Korea, Sri Lanka, and Thailand. After leaving the European Union the United Kingdom enacted its \"UK GDPR\", identical to the GDPR. The California Consumer Privacy Act (CCPA), adopted on 28 June 2018, has many similarities with the GDPR.',\n",
       " 'source': 'https://en.wikipedia.org/wiki/General_Data_Protection_Regulation'}"
      ]
     },
     "execution_count": 83,
     "metadata": {},
     "output_type": "execute_result"
    }
   ],
   "source": [
    "docs[0].metadata  # meta-information of the Document"
   ]
  },
  {
   "cell_type": "code",
   "execution_count": 85,
   "metadata": {
    "id": "gUj7_pv1MlC0"
   },
   "outputs": [],
   "source": [
    "text_splitter = RecursiveCharacterTextSplitter(chunk_size=500, chunk_overlap=20)\n",
    "texts = text_splitter.split_documents(documents)"
   ]
  },
  {
   "cell_type": "code",
   "execution_count": 86,
   "metadata": {
    "id": "v7ZlBfmTZjfx"
   },
   "outputs": [],
   "source": [
    "# Collection name\n",
    "collection_name = \"DataProtection_collection\""
   ]
  },
  {
   "cell_type": "code",
   "execution_count": 87,
   "metadata": {
    "id": "C0jEPd3VZjjF"
   },
   "outputs": [],
   "source": [
    "# Check if the collection already exists\n",
    "if client.collection_exists(collection_name):\n",
    "    # Create a collection with the calculated vector size\n",
    "    client.delete_collection(collection_name=collection_name)\n",
    "    client.create_collection(\n",
    "            collection_name=collection_name,\n",
    "            vectors_config=VectorParams(size=vector_size, distance=\"Dot\")\n",
    "        )\n",
    "else:\n",
    "    client.create_collection(\n",
    "            collection_name=collection_name,\n",
    "            vectors_config=VectorParams(size=vector_size, distance=\"Dot\")\n",
    "        )"
   ]
  },
  {
   "cell_type": "code",
   "execution_count": 88,
   "metadata": {
    "colab": {
     "base_uri": "https://localhost:8080/"
    },
    "id": "pmqJjWUGaYww",
    "outputId": "8f207325-c1d0-425b-8929-79a45930567f"
   },
   "outputs": [
    {
     "name": "stdout",
     "output_type": "stream",
     "text": [
      "Time taken is: 4.185298919677734 seconds\n"
     ]
    }
   ],
   "source": [
    "start =time.time()\n",
    "# Insert documents into the collection\n",
    "qdrant = Qdrant.from_documents(texts,embeddings_model,url=url,prefer_grpc=False,api_key=qdrant_api_key,collection_name=collection_name,force_recreate=False,distance_func=\"Dot\")\n",
    "end =time.time()\n",
    "print(\"Time taken is:\", end-start,\"seconds\")"
   ]
  },
  {
   "cell_type": "code",
   "execution_count": 89,
   "metadata": {
    "colab": {
     "base_uri": "https://localhost:8080/"
    },
    "id": "3OJ8EBi-MlC2",
    "outputId": "651714cf-1bcb-42a4-e597-ffce8e9127bf"
   },
   "outputs": [
    {
     "data": {
      "text/plain": [
       "[(Document(metadata={'source': 'https://en.wikipedia.org/wiki/General_Data_Protection_Regulation', 'summary': 'The General Data Protection Regulation (Regulation (EU) 2016/679, abbreviated GDPR) is a European Union regulation on information privacy in the European Union (EU) and the European Economic Area (EEA). The GDPR is an important component of EU privacy law and human rights law, in particular Article 8(1) of the Charter of Fundamental Rights of the European Union. It also governs the transfer of personal data outside the EU and EEA. The GDPR\\'s goals are to enhance individuals\\' control and rights over their personal information and to simplify the regulations for international business.  It supersedes the Data Protection Directive 95/46/EC and, among other things, simplifies the terminology.\\nThe European Parliament and Council of the European Union adopted the GDPR on 14 April 2016, to become effective on 25 May 2018. As an EU regulation (instead of a directive), GDPR is directly applicable with force of law on its own without the need of transposition. However, it also provides flexibility for individual member states to modify (derogate from) some of its provisions.\\nAs an example of the Brussels effect, the regulation became a model for many other laws around the world, including in Brazil, Japan, Singapore, South Africa, South Korea, Sri Lanka, and Thailand. After leaving the European Union the United Kingdom enacted its \"UK GDPR\", identical to the GDPR. The California Consumer Privacy Act (CCPA), adopted on 28 June 2018, has many similarities with the GDPR.', 'title': 'General Data Protection Regulation', '_id': '9a01b86f-975d-4899-88b4-a85c01de4de2', '_collection_name': 'DataProtection_collection'}, page_content=\"The General Data Protection Regulation (Regulation (EU) 2016/679, abbreviated GDPR) is a European Union regulation on information privacy in the European Union (EU) and the European Economic Area (EEA). The GDPR is an important component of EU privacy law and human rights law, in particular Article 8(1) of the Charter of Fundamental Rights of the European Union. It also governs the transfer of personal data outside the EU and EEA. The GDPR's goals are to enhance individuals' control and rights\"),\n",
       "  0.79502493),\n",
       " (Document(metadata={'source': 'https://en.wikipedia.org/wiki/General_Data_Protection_Regulation', 'summary': 'The General Data Protection Regulation (Regulation (EU) 2016/679, abbreviated GDPR) is a European Union regulation on information privacy in the European Union (EU) and the European Economic Area (EEA). The GDPR is an important component of EU privacy law and human rights law, in particular Article 8(1) of the Charter of Fundamental Rights of the European Union. It also governs the transfer of personal data outside the EU and EEA. The GDPR\\'s goals are to enhance individuals\\' control and rights over their personal information and to simplify the regulations for international business.  It supersedes the Data Protection Directive 95/46/EC and, among other things, simplifies the terminology.\\nThe European Parliament and Council of the European Union adopted the GDPR on 14 April 2016, to become effective on 25 May 2018. As an EU regulation (instead of a directive), GDPR is directly applicable with force of law on its own without the need of transposition. However, it also provides flexibility for individual member states to modify (derogate from) some of its provisions.\\nAs an example of the Brussels effect, the regulation became a model for many other laws around the world, including in Brazil, Japan, Singapore, South Africa, South Korea, Sri Lanka, and Thailand. After leaving the European Union the United Kingdom enacted its \"UK GDPR\", identical to the GDPR. The California Consumer Privacy Act (CCPA), adopted on 28 June 2018, has many similarities with the GDPR.', 'title': 'General Data Protection Regulation', '_id': '5f60e44d-a421-4882-a178-3d93e73df5d9', '_collection_name': 'DataProtection_collection'}, page_content='== Contents ==\\nThe GDPR 2016 has eleven chapters, concerning general provisions, principles, rights of the data subject, duties of data controllers or processors, transfers of personal data to third countries, supervisory authorities, cooperation among member states, remedies, liability or penalties for breach of rights, and miscellaneous final provisions. Recital 4 proclaims that ‘processing of personal data should be designed to serve mankind’.'),\n",
       "  0.68030405),\n",
       " (Document(metadata={'source': 'https://en.wikipedia.org/wiki/General_Data_Protection_Regulation', 'summary': 'The General Data Protection Regulation (Regulation (EU) 2016/679, abbreviated GDPR) is a European Union regulation on information privacy in the European Union (EU) and the European Economic Area (EEA). The GDPR is an important component of EU privacy law and human rights law, in particular Article 8(1) of the Charter of Fundamental Rights of the European Union. It also governs the transfer of personal data outside the EU and EEA. The GDPR\\'s goals are to enhance individuals\\' control and rights over their personal information and to simplify the regulations for international business.  It supersedes the Data Protection Directive 95/46/EC and, among other things, simplifies the terminology.\\nThe European Parliament and Council of the European Union adopted the GDPR on 14 April 2016, to become effective on 25 May 2018. As an EU regulation (instead of a directive), GDPR is directly applicable with force of law on its own without the need of transposition. However, it also provides flexibility for individual member states to modify (derogate from) some of its provisions.\\nAs an example of the Brussels effect, the regulation became a model for many other laws around the world, including in Brazil, Japan, Singapore, South Africa, South Korea, Sri Lanka, and Thailand. After leaving the European Union the United Kingdom enacted its \"UK GDPR\", identical to the GDPR. The California Consumer Privacy Act (CCPA), adopted on 28 June 2018, has many similarities with the GDPR.', 'title': 'General Data Protection Regulation', '_id': '3e0ca7db-2daa-42e5-9d5a-5c16ce72922e', '_collection_name': 'DataProtection_collection'}, page_content='The European Parliament and Council of the European Union adopted the GDPR on 14 April 2016, to become effective on 25 May 2018. As an EU regulation (instead of a directive), GDPR is directly applicable with force of law on its own without the need of transposition. However, it also provides flexibility for individual member states to modify (derogate from) some of its provisions.'),\n",
       "  0.6595252),\n",
       " (Document(metadata={'source': 'https://en.wikipedia.org/wiki/General_Data_Protection_Regulation', 'summary': 'The General Data Protection Regulation (Regulation (EU) 2016/679, abbreviated GDPR) is a European Union regulation on information privacy in the European Union (EU) and the European Economic Area (EEA). The GDPR is an important component of EU privacy law and human rights law, in particular Article 8(1) of the Charter of Fundamental Rights of the European Union. It also governs the transfer of personal data outside the EU and EEA. The GDPR\\'s goals are to enhance individuals\\' control and rights over their personal information and to simplify the regulations for international business.  It supersedes the Data Protection Directive 95/46/EC and, among other things, simplifies the terminology.\\nThe European Parliament and Council of the European Union adopted the GDPR on 14 April 2016, to become effective on 25 May 2018. As an EU regulation (instead of a directive), GDPR is directly applicable with force of law on its own without the need of transposition. However, it also provides flexibility for individual member states to modify (derogate from) some of its provisions.\\nAs an example of the Brussels effect, the regulation became a model for many other laws around the world, including in Brazil, Japan, Singapore, South Africa, South Korea, Sri Lanka, and Thailand. After leaving the European Union the United Kingdom enacted its \"UK GDPR\", identical to the GDPR. The California Consumer Privacy Act (CCPA), adopted on 28 June 2018, has many similarities with the GDPR.', 'title': 'General Data Protection Regulation', '_id': '833d42d3-97af-4613-b86a-609c6b191fb0', '_collection_name': 'DataProtection_collection'}, page_content='== Impact ==\\nAcademic experts who participated in the formulation of the GDPR wrote that the law \"is the most consequential regulatory development in information policy in a generation. The GDPR brings personal data into a complex and protective regulatory regime.\"'),\n",
       "  0.6330116)]"
      ]
     },
     "execution_count": 89,
     "metadata": {},
     "output_type": "execute_result"
    }
   ],
   "source": [
    "query = \"What is GDPR?\"\n",
    "qdrant.similarity_search_with_score(query)"
   ]
  },
  {
   "cell_type": "code",
   "execution_count": 91,
   "metadata": {
    "id": "zpSdLJ0tMlC2"
   },
   "outputs": [],
   "source": [
    "# from langchain_openai import ChatOpenAI\n",
    "# from langchain.chains import RetrievalQA\n",
    "# # completion llm\n",
    "# llm = ChatOpenAI(\n",
    "#     openai_api_key=os.getenv(\"OPENAI_API_KEY\"),\n",
    "#     model_name='gpt-4o-mini',\n",
    "#     temperature=0.0\n",
    "# )\n",
    "# qa = RetrievalQA.from_chain_type(\n",
    "#     llm=llm,\n",
    "#     chain_type=\"stuff\",\n",
    "#     retriever=vectorstore.as_retriever()\n",
    "# )\n",
    "# qa.run(query)"
   ]
  },
  {
   "cell_type": "markdown",
   "metadata": {
    "id": "RSzfBULxMlC2"
   },
   "source": [
    "#### URLs"
   ]
  },
  {
   "cell_type": "code",
   "execution_count": 90,
   "metadata": {
    "colab": {
     "base_uri": "https://localhost:8080/"
    },
    "id": "UJ4PburhMlC2",
    "outputId": "91027192-e65b-4fdc-a618-9637e7c52220"
   },
   "outputs": [
    {
     "name": "stdin",
     "output_type": "stream",
     "text": [
      "Enter Link: https://www.proofpoint.com/us/threat-reference/ccpa-compliance#:~:text=CCPA%20compliance%20is%20a%20set%20of%20regulations%20that,implement%20reasonable%20security%20measures%20to%20protect%20user%20data\n"
     ]
    },
    {
     "name": "stdout",
     "output_type": "stream",
     "text": [
      "URL: ['https://www.proofpoint.com/us/threat-reference/ccpa-compliance#:~:text=CCPA%20compliance%20is%20a%20set%20of%20regulations%20that,implement%20reasonable%20security%20measures%20to%20protect%20user%20data']\n"
     ]
    }
   ],
   "source": [
    "#n_weblinks = int(input(\"How many web links you want the RAG agent to refer for response generation & insights? Enter here: \"))\n",
    "urls = []\n",
    "inp = input(\"Enter Link:\")\n",
    "urls.append(inp)\n",
    "print(\"URL:\", urls)"
   ]
  },
  {
   "cell_type": "code",
   "execution_count": 91,
   "metadata": {
    "colab": {
     "base_uri": "https://localhost:8080/"
    },
    "id": "gVs0xB0GMlC2",
    "outputId": "b8efe8ba-4ede-4921-92e2-7bd954bac3bf"
   },
   "outputs": [
    {
     "name": "stderr",
     "output_type": "stream",
     "text": [
      "100%|██████████| 1/1 [00:00<00:00,  2.35it/s]\n"
     ]
    }
   ],
   "source": [
    "loader = UnstructuredURLLoader(urls=urls, show_progress_bar=True)\n",
    "urls = loader.load()"
   ]
  },
  {
   "cell_type": "code",
   "execution_count": 92,
   "metadata": {},
   "outputs": [
    {
     "data": {
      "text/plain": [
       "14402"
      ]
     },
     "execution_count": 92,
     "metadata": {},
     "output_type": "execute_result"
    }
   ],
   "source": [
    "raw_text =urls[0].page_content\n",
    "len(raw_text)"
   ]
  },
  {
   "cell_type": "code",
   "execution_count": 93,
   "metadata": {},
   "outputs": [],
   "source": [
    "clean_url_text = clean(text=raw_text,\n",
    "            fix_unicode=True,\n",
    "            to_ascii=True,\n",
    "            lower=True,\n",
    "            no_line_breaks=False,\n",
    "            no_urls=False,\n",
    "            no_emails=False,\n",
    "            no_phone_numbers=False,\n",
    "            no_numbers=False,\n",
    "            no_digits=False,\n",
    "            no_currency_symbols=False,\n",
    "            no_punct=False,\n",
    "            lang=\"en\"\n",
    "            )"
   ]
  },
  {
   "cell_type": "code",
   "execution_count": 94,
   "metadata": {},
   "outputs": [
    {
     "data": {
      "text/plain": [
       "14270"
      ]
     },
     "execution_count": 94,
     "metadata": {},
     "output_type": "execute_result"
    }
   ],
   "source": [
    "len(clean_url_text)"
   ]
  },
  {
   "cell_type": "code",
   "execution_count": 95,
   "metadata": {},
   "outputs": [],
   "source": [
    "from langchain.schema import Document\n",
    "metadata = {\n",
    "    \"source\": 'https://finance.ec.europa.eu/financial-crime/anti-money-laundering-and-countering-financing-terrorism-eu-level_en#legislation'\n",
    "}\n",
    "\n",
    "doc = Document(page_content=clean_url_text, metadata=metadata)\n",
    "document =[doc]"
   ]
  },
  {
   "cell_type": "code",
   "execution_count": 97,
   "metadata": {
    "id": "kzCc68m-MlC2"
   },
   "outputs": [],
   "source": [
    "text_splitter = RecursiveCharacterTextSplitter(chunk_size=500, chunk_overlap=20)\n",
    "texts = text_splitter.split_documents(document)\n",
    "#texts"
   ]
  },
  {
   "cell_type": "code",
   "execution_count": 98,
   "metadata": {
    "colab": {
     "base_uri": "https://localhost:8080/"
    },
    "id": "CA3SOjg7cRV9",
    "outputId": "c7a12dc9-142a-4de7-97ad-bf4287c98a38"
   },
   "outputs": [
    {
     "data": {
      "text/plain": [
       "37"
      ]
     },
     "execution_count": 98,
     "metadata": {},
     "output_type": "execute_result"
    }
   ],
   "source": [
    "len(texts)"
   ]
  },
  {
   "cell_type": "code",
   "execution_count": 99,
   "metadata": {
    "colab": {
     "base_uri": "https://localhost:8080/"
    },
    "id": "LUllgEuTcRZa",
    "outputId": "7b794252-0e26-4615-9f64-edafdb951a59"
   },
   "outputs": [
    {
     "name": "stdout",
     "output_type": "stream",
     "text": [
      "Time taken is: 1.1621510982513428 seconds\n"
     ]
    }
   ],
   "source": [
    "start =time.time()\n",
    "# Insert documents into the collection\n",
    "qdrant = Qdrant.from_documents(texts,embeddings_model,url=url,prefer_grpc=False,api_key=qdrant_api_key,collection_name=collection_name,force_recreate=False,distance_func=\"Dot\")\n",
    "end =time.time()\n",
    "print(\"Time taken is:\", end-start,\"seconds\")"
   ]
  },
  {
   "cell_type": "code",
   "execution_count": 100,
   "metadata": {
    "colab": {
     "base_uri": "https://localhost:8080/"
    },
    "id": "RGzSDS6kMlC3",
    "outputId": "476f773d-c070-488d-87f3-64324b4db0a6"
   },
   "outputs": [
    {
     "data": {
      "text/plain": [
       "[(Document(metadata={'source': 'https://finance.ec.europa.eu/financial-crime/anti-money-laundering-and-countering-financing-terrorism-eu-level_en#legislation', '_id': '5ef42ab5-24a9-4cfb-abfe-6780fd2026c8', '_collection_name': 'DataProtection_collection'}, page_content='definition\\nthe california consumer privacy act (ccpa) was enacted in 2018 to combat the numerous data breaches in big tech from poorly defined access controls and privacy management. modeled after the european union (eu) general data protection regulation (gdpr), the new regulations give users the right to know when and how their information is being collected and sold, as well as the ability to opt-out.'),\n",
       "  0.72756207),\n",
       " (Document(metadata={'source': 'https://finance.ec.europa.eu/financial-crime/anti-money-laundering-and-countering-financing-terrorism-eu-level_en#legislation', '_id': '2284e8a1-d00e-4d33-b7cf-95f1e7f29f20', '_collection_name': 'DataProtection_collection'}, page_content=\"ccpa compliance is a set of regulations that organizations must follow to protect the data privacy rights of california residents. it requires organizations to be transparent about their data collection and usage practices, to respond to consumer requests, and to implement reasonable security measures to protect user data.\\ncybersecurity education and training begins here\\nstart a free trial\\nhere's how your free trial works:\"),\n",
       "  0.70746905),\n",
       " (Document(metadata={'source': 'https://finance.ec.europa.eu/financial-crime/anti-money-laundering-and-countering-financing-terrorism-eu-level_en#legislation', '_id': '83629d8d-bde4-4ec0-af8d-f6824c6b9a41', '_collection_name': 'DataProtection_collection'}, page_content='ccpa compliance training is a requirement for organizations that collect and process the personal information of california residents. these organizations must provide training to all individuals responsible for handling consumer data, particularly those involved in processing data rights requests.'),\n",
       "  0.6748769),\n",
       " (Document(metadata={'source': 'https://finance.ec.europa.eu/financial-crime/anti-money-laundering-and-countering-financing-terrorism-eu-level_en#legislation', '_id': '61eba92a-6389-4e7e-b701-fe65a5c8d17f', '_collection_name': 'DataProtection_collection'}, page_content=\"compliance violations also leave organizations open to additional lawsuits. should a critical data breach affect numerous consumers, the organization could face years of litigation and additional costs in attorney's fees and reparations.\\nwhat does ccpa mean for cybersecurity?\"),\n",
       "  0.6354234)]"
      ]
     },
     "execution_count": 100,
     "metadata": {},
     "output_type": "execute_result"
    }
   ],
   "source": [
    "query = \"What is CCPA?\"\n",
    "qdrant.similarity_search_with_score(query)"
   ]
  },
  {
   "cell_type": "code",
   "execution_count": null,
   "metadata": {
    "id": "k0bJX2SuMlC3"
   },
   "outputs": [],
   "source": [
    "# from langchain_openai import ChatOpenAI\n",
    "# from langchain.chains import RetrievalQA\n",
    "# # completion llm\n",
    "# llm = ChatOpenAI(\n",
    "#     openai_api_key=os.getenv(\"OPENAI_API_KEY\"),\n",
    "#     model_name='gpt-4o-mini',\n",
    "#     temperature=0.0\n",
    "# )\n",
    "# qa = RetrievalQA.from_chain_type(\n",
    "#     llm=llm,\n",
    "#     chain_type=\"stuff\",\n",
    "#     retriever=vectorstore.as_retriever()\n",
    "# )\n",
    "# print(qa.run(query))"
   ]
  },
  {
   "cell_type": "markdown",
   "metadata": {},
   "source": [
    "HEALTHCARE"
   ]
  },
  {
   "cell_type": "markdown",
   "metadata": {
    "id": "mglQ3Md-emD4"
   },
   "source": [
    "**WIKIPEDIA**"
   ]
  },
  {
   "cell_type": "code",
   "execution_count": 101,
   "metadata": {
    "id": "TaApZSS0eoPT"
   },
   "outputs": [],
   "source": [
    "#Food_and_Drug_Administration\n",
    "docs = WikipediaLoader(query=\"Food_and_Drug_Administration\", doc_content_chars_max = 100000, load_max_docs=1).load()\n"
   ]
  },
  {
   "cell_type": "code",
   "execution_count": 102,
   "metadata": {
    "colab": {
     "base_uri": "https://localhost:8080/"
    },
    "id": "BSTkLzBWfXEK",
    "outputId": "72677f4e-1675-4704-a6b0-99b382d46982"
   },
   "outputs": [
    {
     "data": {
      "text/plain": [
       "{'title': 'Food and Drug Administration',\n",
       " 'summary': \"The United States Food and Drug Administration (FDA or US FDA) is a federal agency of the Department of Health and Human Services. The FDA is responsible for protecting and promoting public health through the control and supervision of food safety, tobacco products, caffeine products, dietary supplements, prescription and over-the-counter pharmaceutical drugs (medications), vaccines, biopharmaceuticals, blood transfusions, medical devices, electromagnetic radiation emitting devices (ERED), cosmetics, animal foods & feed and veterinary products.\\nThe FDA's primary focus is enforcement of the Federal Food, Drug, and Cosmetic Act (FD&C). However, the agency also enforces other laws, notably Section 361 of the Public Health Service Act as well as associated regulations. Much of this regulatory-enforcement work is not directly related to food or drugs but involves other factors like regulating lasers, cellular phones, and condoms. In addition, the FDA takes control of diseases in the contexts varying from household pets to human sperm donated for use in assisted reproduction.\\nThe FDA is led by the Commissioner of Food and Drugs, appointed by the President with the advice and consent of the Senate. The Commissioner reports to the Secretary of Health and Human Services. Robert Califf is the current Commissioner as of 17 February 2022.\\nThe FDA's headquarters is located in the White Oak area of Silver Spring, Maryland. The agency has 223 field offices and 13 laboratories located across the 50 states, the United States Virgin Islands, and Puerto Rico. In 2008, the FDA began to post employees to foreign countries, including China, India, Costa Rica, Chile, Belgium, and the United Kingdom.\",\n",
       " 'source': 'https://en.wikipedia.org/wiki/Food_and_Drug_Administration'}"
      ]
     },
     "execution_count": 102,
     "metadata": {},
     "output_type": "execute_result"
    }
   ],
   "source": [
    "docs[0].metadata  # meta-information of the Document"
   ]
  },
  {
   "cell_type": "code",
   "execution_count": 103,
   "metadata": {
    "id": "nzQ4Ka3Qfa-J"
   },
   "outputs": [],
   "source": [
    "documents = []\n",
    "documents.extend(docs)"
   ]
  },
  {
   "cell_type": "code",
   "execution_count": 104,
   "metadata": {
    "colab": {
     "base_uri": "https://localhost:8080/"
    },
    "id": "gZpve71Pfe9k",
    "outputId": "a7a4a94a-4edf-4837-c63b-939ec78e8ad2"
   },
   "outputs": [
    {
     "data": {
      "text/plain": [
       "1"
      ]
     },
     "execution_count": 104,
     "metadata": {},
     "output_type": "execute_result"
    }
   ],
   "source": [
    "len(documents)"
   ]
  },
  {
   "cell_type": "code",
   "execution_count": 105,
   "metadata": {
    "id": "Gs9Fpu2nfe_x"
   },
   "outputs": [],
   "source": [
    "text_splitter = RecursiveCharacterTextSplitter(chunk_size=500, chunk_overlap=20)\n",
    "texts = text_splitter.split_documents(documents)"
   ]
  },
  {
   "cell_type": "code",
   "execution_count": 106,
   "metadata": {
    "colab": {
     "base_uri": "https://localhost:8080/"
    },
    "id": "BNieh-FlffDT",
    "outputId": "71e552dd-7e23-4688-9c9c-1092f571b2a9"
   },
   "outputs": [
    {
     "data": {
      "text/plain": [
       "165"
      ]
     },
     "execution_count": 106,
     "metadata": {},
     "output_type": "execute_result"
    }
   ],
   "source": [
    "len(texts)"
   ]
  },
  {
   "cell_type": "code",
   "execution_count": 107,
   "metadata": {
    "id": "6Rz9KgKNfz2d"
   },
   "outputs": [],
   "source": [
    "collection_name = \"Healthcare_collection\""
   ]
  },
  {
   "cell_type": "code",
   "execution_count": 108,
   "metadata": {
    "id": "fJT-drwOg0sJ"
   },
   "outputs": [],
   "source": [
    "# Check if the collection already exists\n",
    "if client.collection_exists(collection_name):\n",
    "    # Create a collection with the calculated vector size\n",
    "    client.delete_collection(collection_name=collection_name)\n",
    "    client.create_collection(\n",
    "            collection_name=collection_name,\n",
    "            vectors_config=VectorParams(size=vector_size, distance=\"Dot\")\n",
    "        )\n",
    "else:\n",
    "    client.create_collection(\n",
    "            collection_name=collection_name,\n",
    "            vectors_config=VectorParams(size=vector_size, distance=\"Dot\")\n",
    "        )"
   ]
  },
  {
   "cell_type": "code",
   "execution_count": 109,
   "metadata": {
    "colab": {
     "base_uri": "https://localhost:8080/"
    },
    "id": "rLbhvhXSg6ZJ",
    "outputId": "12cd7411-07f2-4051-d18f-3c00f44c81e2"
   },
   "outputs": [
    {
     "name": "stdout",
     "output_type": "stream",
     "text": [
      "Time taken is: 4.154428243637085 seconds\n"
     ]
    }
   ],
   "source": [
    "start =time.time()\n",
    "# Insert documents into the collection\n",
    "qdrant = Qdrant.from_documents(texts,embeddings_model,url=url,prefer_grpc=False,api_key=qdrant_api_key,collection_name=collection_name,force_recreate=False,distance_func=\"Dot\")\n",
    "end =time.time()\n",
    "print(\"Time taken is:\", end-start,\"seconds\")"
   ]
  },
  {
   "cell_type": "code",
   "execution_count": 110,
   "metadata": {
    "colab": {
     "base_uri": "https://localhost:8080/"
    },
    "id": "_5fvgJiZg-ij",
    "outputId": "e36eeaa9-6ea1-4ff8-ebad-e398bd0bd8a1"
   },
   "outputs": [
    {
     "data": {
      "text/plain": [
       "[Document(metadata={'source': 'https://en.wikipedia.org/wiki/Food_and_Drug_Administration', 'summary': \"The United States Food and Drug Administration (FDA or US FDA) is a federal agency of the Department of Health and Human Services. The FDA is responsible for protecting and promoting public health through the control and supervision of food safety, tobacco products, caffeine products, dietary supplements, prescription and over-the-counter pharmaceutical drugs (medications), vaccines, biopharmaceuticals, blood transfusions, medical devices, electromagnetic radiation emitting devices (ERED), cosmetics, animal foods & feed and veterinary products.\\nThe FDA's primary focus is enforcement of the Federal Food, Drug, and Cosmetic Act (FD&C). However, the agency also enforces other laws, notably Section 361 of the Public Health Service Act as well as associated regulations. Much of this regulatory-enforcement work is not directly related to food or drugs but involves other factors like regulating lasers, cellular phones, and condoms. In addition, the FDA takes control of diseases in the contexts varying from household pets to human sperm donated for use in assisted reproduction.\\nThe FDA is led by the Commissioner of Food and Drugs, appointed by the President with the advice and consent of the Senate. The Commissioner reports to the Secretary of Health and Human Services. Robert Califf is the current Commissioner as of 17 February 2022.\\nThe FDA's headquarters is located in the White Oak area of Silver Spring, Maryland. The agency has 223 field offices and 13 laboratories located across the 50 states, the United States Virgin Islands, and Puerto Rico. In 2008, the FDA began to post employees to foreign countries, including China, India, Costa Rica, Chile, Belgium, and the United Kingdom.\", 'title': 'Food and Drug Administration', '_id': '2f249dd1-7217-4245-a63c-bd7aaf411452', '_collection_name': 'Healthcare_collection'}, page_content='===== Post-market safety surveillance ====='),\n",
       " Document(metadata={'source': 'https://en.wikipedia.org/wiki/Food_and_Drug_Administration', 'summary': \"The United States Food and Drug Administration (FDA or US FDA) is a federal agency of the Department of Health and Human Services. The FDA is responsible for protecting and promoting public health through the control and supervision of food safety, tobacco products, caffeine products, dietary supplements, prescription and over-the-counter pharmaceutical drugs (medications), vaccines, biopharmaceuticals, blood transfusions, medical devices, electromagnetic radiation emitting devices (ERED), cosmetics, animal foods & feed and veterinary products.\\nThe FDA's primary focus is enforcement of the Federal Food, Drug, and Cosmetic Act (FD&C). However, the agency also enforces other laws, notably Section 361 of the Public Health Service Act as well as associated regulations. Much of this regulatory-enforcement work is not directly related to food or drugs but involves other factors like regulating lasers, cellular phones, and condoms. In addition, the FDA takes control of diseases in the contexts varying from household pets to human sperm donated for use in assisted reproduction.\\nThe FDA is led by the Commissioner of Food and Drugs, appointed by the President with the advice and consent of the Senate. The Commissioner reports to the Secretary of Health and Human Services. Robert Califf is the current Commissioner as of 17 February 2022.\\nThe FDA's headquarters is located in the White Oak area of Silver Spring, Maryland. The agency has 223 field offices and 13 laboratories located across the 50 states, the United States Virgin Islands, and Puerto Rico. In 2008, the FDA began to post employees to foreign countries, including China, India, Costa Rica, Chile, Belgium, and the United Kingdom.\", 'title': 'Food and Drug Administration', '_id': 'a3cf9576-30f6-4737-8d72-547c24a65b26', '_collection_name': 'Healthcare_collection'}, page_content='=== Post-marketing drug safety monitoring ==='),\n",
       " Document(metadata={'source': 'https://en.wikipedia.org/wiki/Food_and_Drug_Administration', 'summary': \"The United States Food and Drug Administration (FDA or US FDA) is a federal agency of the Department of Health and Human Services. The FDA is responsible for protecting and promoting public health through the control and supervision of food safety, tobacco products, caffeine products, dietary supplements, prescription and over-the-counter pharmaceutical drugs (medications), vaccines, biopharmaceuticals, blood transfusions, medical devices, electromagnetic radiation emitting devices (ERED), cosmetics, animal foods & feed and veterinary products.\\nThe FDA's primary focus is enforcement of the Federal Food, Drug, and Cosmetic Act (FD&C). However, the agency also enforces other laws, notably Section 361 of the Public Health Service Act as well as associated regulations. Much of this regulatory-enforcement work is not directly related to food or drugs but involves other factors like regulating lasers, cellular phones, and condoms. In addition, the FDA takes control of diseases in the contexts varying from household pets to human sperm donated for use in assisted reproduction.\\nThe FDA is led by the Commissioner of Food and Drugs, appointed by the President with the advice and consent of the Senate. The Commissioner reports to the Secretary of Health and Human Services. Robert Califf is the current Commissioner as of 17 February 2022.\\nThe FDA's headquarters is located in the White Oak area of Silver Spring, Maryland. The agency has 223 field offices and 13 laboratories located across the 50 states, the United States Virgin Islands, and Puerto Rico. In 2008, the FDA began to post employees to foreign countries, including China, India, Costa Rica, Chile, Belgium, and the United Kingdom.\", 'title': 'Food and Drug Administration', '_id': '12dcdf6a-28c3-4e8e-af01-83f3b3ec2cd2', '_collection_name': 'Healthcare_collection'}, page_content=\"A more recent example of the FDA's international work is their 2018 cooperation with regulatory and law-enforcement agencies worldwide through Interpol as part of Operation Pangea XI. The FDA targeted 465 websites that illegally sold potentially dangerous, unapproved versions of opioid, oncology, and antiviral prescription drugs to U.S. consumers. The agency focused on transaction laundering schemes in order to uncover the complex online drug network.\"),\n",
       " Document(metadata={'source': 'https://en.wikipedia.org/wiki/Food_and_Drug_Administration', 'summary': \"The United States Food and Drug Administration (FDA or US FDA) is a federal agency of the Department of Health and Human Services. The FDA is responsible for protecting and promoting public health through the control and supervision of food safety, tobacco products, caffeine products, dietary supplements, prescription and over-the-counter pharmaceutical drugs (medications), vaccines, biopharmaceuticals, blood transfusions, medical devices, electromagnetic radiation emitting devices (ERED), cosmetics, animal foods & feed and veterinary products.\\nThe FDA's primary focus is enforcement of the Federal Food, Drug, and Cosmetic Act (FD&C). However, the agency also enforces other laws, notably Section 361 of the Public Health Service Act as well as associated regulations. Much of this regulatory-enforcement work is not directly related to food or drugs but involves other factors like regulating lasers, cellular phones, and condoms. In addition, the FDA takes control of diseases in the contexts varying from household pets to human sperm donated for use in assisted reproduction.\\nThe FDA is led by the Commissioner of Food and Drugs, appointed by the President with the advice and consent of the Senate. The Commissioner reports to the Secretary of Health and Human Services. Robert Califf is the current Commissioner as of 17 February 2022.\\nThe FDA's headquarters is located in the White Oak area of Silver Spring, Maryland. The agency has 223 field offices and 13 laboratories located across the 50 states, the United States Virgin Islands, and Puerto Rico. In 2008, the FDA began to post employees to foreign countries, including China, India, Costa Rica, Chile, Belgium, and the United Kingdom.\", 'title': 'Food and Drug Administration', '_id': '3c05b2cd-cd33-44f5-99aa-1e771f075d80', '_collection_name': 'Healthcare_collection'}, page_content='The Office of Regulatory Affairs is considered the agency\\'s \"eyes and ears\", conducting the vast majority of the FDA\\'s work in the field. Its employees, known as Consumer Safety Officers, or more commonly known simply as investigators, inspect production, warehousing facilities, investigate complaints, illnesses, or outbreaks, and review documentation in the case of medical devices, drugs, biological products, and other items where it may be difficult to conduct a physical examination or take a')]"
      ]
     },
     "execution_count": 110,
     "metadata": {},
     "output_type": "execute_result"
    }
   ],
   "source": [
    "query = \"Summarize Post-market safety surveillance?\"\n",
    "qdrant.similarity_search(query)"
   ]
  },
  {
   "cell_type": "markdown",
   "metadata": {
    "id": "D_oB5kiuhsHA"
   },
   "source": [
    "**URLS**"
   ]
  },
  {
   "cell_type": "code",
   "execution_count": 111,
   "metadata": {
    "colab": {
     "base_uri": "https://localhost:8080/"
    },
    "id": "KLrJX5TththE",
    "outputId": "ba9d7dc3-ec5e-4c4e-e358-2ad265c68d57"
   },
   "outputs": [
    {
     "name": "stdin",
     "output_type": "stream",
     "text": [
      "Enter Link: https://advisera.com/13485academy/what-is-eu-mdr/#:~:text=Under%20the%20EU%20MDR%2C%20medical%20device%20manufacturers%20are,ensure%20ongoing%20compliance%20and%20safety%20of%20the%20devices\n"
     ]
    },
    {
     "name": "stdout",
     "output_type": "stream",
     "text": [
      "URL: ['https://advisera.com/13485academy/what-is-eu-mdr/#:~:text=Under%20the%20EU%20MDR%2C%20medical%20device%20manufacturers%20are,ensure%20ongoing%20compliance%20and%20safety%20of%20the%20devices']\n"
     ]
    }
   ],
   "source": [
    "#n_weblinks = int(input(\"How many web links you want the RAG agent to refer for response generation & insights? Enter here: \"))\n",
    "urls = []\n",
    "inp = input(\"Enter Link:\")\n",
    "urls.append(inp)\n",
    "print(\"URL:\", urls)"
   ]
  },
  {
   "cell_type": "code",
   "execution_count": 112,
   "metadata": {
    "colab": {
     "base_uri": "https://localhost:8080/"
    },
    "id": "skn3elIQhzyL",
    "outputId": "e58b78d7-2ab2-4a81-c6ac-33936a20b54e"
   },
   "outputs": [
    {
     "name": "stderr",
     "output_type": "stream",
     "text": [
      "100%|██████████| 1/1 [00:00<00:00,  7.53it/s]\n"
     ]
    }
   ],
   "source": [
    "loader = UnstructuredURLLoader(urls=urls, show_progress_bar=True)\n",
    "urls = loader.load()"
   ]
  },
  {
   "cell_type": "code",
   "execution_count": 116,
   "metadata": {},
   "outputs": [
    {
     "data": {
      "text/plain": [
       "[Document(metadata={'source': 'https://advisera.com/13485academy/what-is-eu-mdr/#:~:text=Under%20the%20EU%20MDR%2C%20medical%20device%20manufacturers%20are,ensure%20ongoing%20compliance%20and%20safety%20of%20the%20devices'}, page_content='403 Forbidden')]"
      ]
     },
     "execution_count": 116,
     "metadata": {},
     "output_type": "execute_result"
    }
   ],
   "source": [
    "urls"
   ]
  },
  {
   "cell_type": "code",
   "execution_count": 113,
   "metadata": {},
   "outputs": [
    {
     "data": {
      "text/plain": [
       "13"
      ]
     },
     "execution_count": 113,
     "metadata": {},
     "output_type": "execute_result"
    }
   ],
   "source": [
    "raw_text =urls[0].page_content\n",
    "len(raw_text)"
   ]
  },
  {
   "cell_type": "code",
   "execution_count": 114,
   "metadata": {},
   "outputs": [],
   "source": [
    "clean_url_text = clean(text=raw_text,\n",
    "            fix_unicode=True,\n",
    "            to_ascii=True,\n",
    "            lower=True,\n",
    "            no_line_breaks=False,\n",
    "            no_urls=False,\n",
    "            no_emails=False,\n",
    "            no_phone_numbers=False,\n",
    "            no_numbers=False,\n",
    "            no_digits=False,\n",
    "            no_currency_symbols=False,\n",
    "            no_punct=False,\n",
    "            lang=\"en\"\n",
    "            )"
   ]
  },
  {
   "cell_type": "code",
   "execution_count": 115,
   "metadata": {},
   "outputs": [
    {
     "data": {
      "text/plain": [
       "13"
      ]
     },
     "execution_count": 115,
     "metadata": {},
     "output_type": "execute_result"
    }
   ],
   "source": [
    "len(clean_url_text)"
   ]
  },
  {
   "cell_type": "code",
   "execution_count": 117,
   "metadata": {},
   "outputs": [],
   "source": [
    "from langchain.schema import Document\n",
    "metadata = {\n",
    "    \"source\": 'https://finance.ec.europa.eu/financial-crime/anti-money-laundering-and-countering-financing-terrorism-eu-level_en#legislation'\n",
    "}\n",
    "\n",
    "doc = Document(page_content=clean_url_text, metadata=metadata)\n",
    "document =[doc]"
   ]
  },
  {
   "cell_type": "code",
   "execution_count": 113,
   "metadata": {
    "id": "tUC76O2jiPYN"
   },
   "outputs": [],
   "source": [
    "text_splitter = RecursiveCharacterTextSplitter(chunk_size=500, chunk_overlap=20)\n",
    "texts = text_splitter.split_documents(document)"
   ]
  },
  {
   "cell_type": "code",
   "execution_count": 114,
   "metadata": {
    "colab": {
     "base_uri": "https://localhost:8080/"
    },
    "id": "qgd21eqyiUdC",
    "outputId": "2d6853a1-5038-441f-b20d-1e87903f3009"
   },
   "outputs": [
    {
     "data": {
      "text/plain": [
       "60"
      ]
     },
     "execution_count": 114,
     "metadata": {},
     "output_type": "execute_result"
    }
   ],
   "source": [
    "len(texts)"
   ]
  },
  {
   "cell_type": "code",
   "execution_count": 115,
   "metadata": {
    "colab": {
     "base_uri": "https://localhost:8080/"
    },
    "id": "xSvVuKJEifP9",
    "outputId": "a5ba0de7-0662-4227-edce-1b60001c6565"
   },
   "outputs": [
    {
     "name": "stdout",
     "output_type": "stream",
     "text": [
      "Time taken is: 6.629606485366821 seconds\n"
     ]
    }
   ],
   "source": [
    "start =time.time()\n",
    "# Insert documents into the collection\n",
    "qdrant = Qdrant.from_documents(texts,embeddings_model,url=url,prefer_grpc=False,api_key=qdrant_api_key,collection_name=collection_name,force_recreate=False,distance_func=\"Dot\")\n",
    "end =time.time()\n",
    "print(\"Time taken is:\", end-start,\"seconds\")"
   ]
  },
  {
   "cell_type": "code",
   "execution_count": 116,
   "metadata": {
    "colab": {
     "base_uri": "https://localhost:8080/"
    },
    "id": "VUaaC2SYik-X",
    "outputId": "3299243c-eddb-4557-94cb-a2f91c548c09"
   },
   "outputs": [
    {
     "data": {
      "text/plain": [
       "[(Document(metadata={'source': 'https://advisera.com/13485academy/what-is-eu-mdr/#:~:text=Under%20the%20EU%20MDR%2C%20medical%20device%20manufacturers%20are,ensure%20ongoing%20compliance%20and%20safety%20of%20the%20devices.', '_id': '3e50f80c-3284-4696-8fcc-b0590e988a8a', '_collection_name': 'Healthcare_collection'}, page_content='Overall, the extension of the MDR provides a realistic timeline for all parties involved to adapt to the new regulatory landscape and to continue providing safe and high-quality medical devices to patients in the European Union.\\n\\nWhat is EU MDR compliance?'),\n",
       "  0.8387462),\n",
       " (Document(metadata={'source': 'https://advisera.com/13485academy/what-is-eu-mdr/#:~:text=Under%20the%20EU%20MDR%2C%20medical%20device%20manufacturers%20are,ensure%20ongoing%20compliance%20and%20safety%20of%20the%20devices.', '_id': 'cd0308ca-23a2-4224-ab6d-64d420346b4d', '_collection_name': 'Healthcare_collection'}, page_content='Overall, EU MDR compliance plays a vital role in ensuring the quality and safety of medical devices in the European Union, ultimately protecting the health and well-being of patients.\\n\\nWhat is MDR certification?'),\n",
       "  0.81308234),\n",
       " (Document(metadata={'source': 'https://advisera.com/13485academy/what-is-eu-mdr/#:~:text=Under%20the%20EU%20MDR%2C%20medical%20device%20manufacturers%20are,ensure%20ongoing%20compliance%20and%20safety%20of%20the%20devices.', '_id': 'c1f7d28b-3893-454d-a557-a22e69d07bb8', '_collection_name': 'Healthcare_collection'}, page_content='Non-compliance with the EU MDR can have serious consequences for medical device manufacturers, including the inability to sell their products in the EU market, financial penalties, and damage to their reputation. Therefore, it is crucial for manufacturers to understand and adhere to the requirements of EU MDR compliance to ensure the safety and effectiveness of their medical devices.'),\n",
       "  0.7501461),\n",
       " (Document(metadata={'source': 'https://advisera.com/13485academy/what-is-eu-mdr/#:~:text=Under%20the%20EU%20MDR%2C%20medical%20device%20manufacturers%20are,ensure%20ongoing%20compliance%20and%20safety%20of%20the%20devices.', '_id': '6045c0ad-6325-4e60-a73b-72bcd0b072bb', '_collection_name': 'Healthcare_collection'}, page_content='EU MDR stands for European Union Medical Device Regulation. It is a set of regulations that govern the safety and performance requirements of medical devices in the European market. Besides “What does MDR stand for?”, many other questions need to be answered to show you the big picture of the EU Medical Device Regulation. What is the purpose of the MDR? Who needs to comply with the EU MDR? How many EU countries are impacted by the MDR? Where is the EU MDR applicable? Learn more in this article.'),\n",
       "  0.72749233)]"
      ]
     },
     "execution_count": 116,
     "metadata": {},
     "output_type": "execute_result"
    }
   ],
   "source": [
    "query = \"What is EU MDR compliance?\"\n",
    "qdrant.similarity_search_with_score(query)"
   ]
  },
  {
   "cell_type": "code",
   "execution_count": null,
   "metadata": {
    "id": "qr07NMNSizzS"
   },
   "outputs": [],
   "source": []
  }
 ],
 "metadata": {
  "colab": {
   "provenance": []
  },
  "kernelspec": {
   "display_name": "Python 3",
   "language": "python",
   "name": "python3"
  },
  "language_info": {
   "codemirror_mode": {
    "name": "ipython",
    "version": 3
   },
   "file_extension": ".py",
   "mimetype": "text/x-python",
   "name": "python",
   "nbconvert_exporter": "python",
   "pygments_lexer": "ipython3",
   "version": "3.10.10"
  },
  "widgets": {
   "application/vnd.jupyter.widget-state+json": {
    "025969b4b1d643b99066d4331cb37aea": {
     "model_module": "@jupyter-widgets/controls",
     "model_module_version": "1.5.0",
     "model_name": "HTMLModel",
     "state": {
      "_dom_classes": [],
      "_model_module": "@jupyter-widgets/controls",
      "_model_module_version": "1.5.0",
      "_model_name": "HTMLModel",
      "_view_count": null,
      "_view_module": "@jupyter-widgets/controls",
      "_view_module_version": "1.5.0",
      "_view_name": "HTMLView",
      "description": "",
      "description_tooltip": null,
      "layout": "IPY_MODEL_16b2824841da4c64892dbc0d238be414",
      "placeholder": "​",
      "style": "IPY_MODEL_480a899fd1a2430fb23382a01a1fd885",
      "value": " 133M/133M [00:07&lt;00:00, 21.0MB/s]"
     }
    },
    "09dd8141919347189b6268a11abf8fd5": {
     "model_module": "@jupyter-widgets/controls",
     "model_module_version": "1.5.0",
     "model_name": "FloatProgressModel",
     "state": {
      "_dom_classes": [],
      "_model_module": "@jupyter-widgets/controls",
      "_model_module_version": "1.5.0",
      "_model_name": "FloatProgressModel",
      "_view_count": null,
      "_view_module": "@jupyter-widgets/controls",
      "_view_module_version": "1.5.0",
      "_view_name": "ProgressView",
      "bar_style": "success",
      "description": "",
      "description_tooltip": null,
      "layout": "IPY_MODEL_acbc722e966448c7a42259f704aba82f",
      "max": 466247,
      "min": 0,
      "orientation": "horizontal",
      "style": "IPY_MODEL_b49faa9d8b2f4760ad76c2eb6ad3fedd",
      "value": 466247
     }
    },
    "0a900cb5417545468e53c59d66d2e5bd": {
     "model_module": "@jupyter-widgets/base",
     "model_module_version": "1.2.0",
     "model_name": "LayoutModel",
     "state": {
      "_model_module": "@jupyter-widgets/base",
      "_model_module_version": "1.2.0",
      "_model_name": "LayoutModel",
      "_view_count": null,
      "_view_module": "@jupyter-widgets/base",
      "_view_module_version": "1.2.0",
      "_view_name": "LayoutView",
      "align_content": null,
      "align_items": null,
      "align_self": null,
      "border": null,
      "bottom": null,
      "display": null,
      "flex": null,
      "flex_flow": null,
      "grid_area": null,
      "grid_auto_columns": null,
      "grid_auto_flow": null,
      "grid_auto_rows": null,
      "grid_column": null,
      "grid_gap": null,
      "grid_row": null,
      "grid_template_areas": null,
      "grid_template_columns": null,
      "grid_template_rows": null,
      "height": null,
      "justify_content": null,
      "justify_items": null,
      "left": null,
      "margin": null,
      "max_height": null,
      "max_width": null,
      "min_height": null,
      "min_width": null,
      "object_fit": null,
      "object_position": null,
      "order": null,
      "overflow": null,
      "overflow_x": null,
      "overflow_y": null,
      "padding": null,
      "right": null,
      "top": null,
      "visibility": null,
      "width": null
     }
    },
    "0b790eebc9e04dfb9d1ccf1089a353bb": {
     "model_module": "@jupyter-widgets/controls",
     "model_module_version": "1.5.0",
     "model_name": "HBoxModel",
     "state": {
      "_dom_classes": [],
      "_model_module": "@jupyter-widgets/controls",
      "_model_module_version": "1.5.0",
      "_model_name": "HBoxModel",
      "_view_count": null,
      "_view_module": "@jupyter-widgets/controls",
      "_view_module_version": "1.5.0",
      "_view_name": "HBoxView",
      "box_style": "",
      "children": [
       "IPY_MODEL_5a993d4614c0494ca4f729999f00256c",
       "IPY_MODEL_2566493e05064ee5b406b5aa08d38fed",
       "IPY_MODEL_4d52da43babf46b8a21cddd8f1d75c5e"
      ],
      "layout": "IPY_MODEL_cd0210303db04559a62acbeddbce8baf"
     }
    },
    "0bba04c1692242318d733e2278464b3c": {
     "model_module": "@jupyter-widgets/base",
     "model_module_version": "1.2.0",
     "model_name": "LayoutModel",
     "state": {
      "_model_module": "@jupyter-widgets/base",
      "_model_module_version": "1.2.0",
      "_model_name": "LayoutModel",
      "_view_count": null,
      "_view_module": "@jupyter-widgets/base",
      "_view_module_version": "1.2.0",
      "_view_name": "LayoutView",
      "align_content": null,
      "align_items": null,
      "align_self": null,
      "border": null,
      "bottom": null,
      "display": null,
      "flex": null,
      "flex_flow": null,
      "grid_area": null,
      "grid_auto_columns": null,
      "grid_auto_flow": null,
      "grid_auto_rows": null,
      "grid_column": null,
      "grid_gap": null,
      "grid_row": null,
      "grid_template_areas": null,
      "grid_template_columns": null,
      "grid_template_rows": null,
      "height": null,
      "justify_content": null,
      "justify_items": null,
      "left": null,
      "margin": null,
      "max_height": null,
      "max_width": null,
      "min_height": null,
      "min_width": null,
      "object_fit": null,
      "object_position": null,
      "order": null,
      "overflow": null,
      "overflow_x": null,
      "overflow_y": null,
      "padding": null,
      "right": null,
      "top": null,
      "visibility": null,
      "width": null
     }
    },
    "10b0389460184adcbfb24872a69a8079": {
     "model_module": "@jupyter-widgets/controls",
     "model_module_version": "1.5.0",
     "model_name": "HTMLModel",
     "state": {
      "_dom_classes": [],
      "_model_module": "@jupyter-widgets/controls",
      "_model_module_version": "1.5.0",
      "_model_name": "HTMLModel",
      "_view_count": null,
      "_view_module": "@jupyter-widgets/controls",
      "_view_module_version": "1.5.0",
      "_view_name": "HTMLView",
      "description": "",
      "description_tooltip": null,
      "layout": "IPY_MODEL_3dcab98063aa4cc79ab9fb767abb30bd",
      "placeholder": "​",
      "style": "IPY_MODEL_a02c0bd0e68c42f9802a7e49c84b5ed1",
      "value": "1_Pooling/config.json: 100%"
     }
    },
    "111fd9c141b748f6b7922b5af83e921c": {
     "model_module": "@jupyter-widgets/controls",
     "model_module_version": "1.5.0",
     "model_name": "ProgressStyleModel",
     "state": {
      "_model_module": "@jupyter-widgets/controls",
      "_model_module_version": "1.5.0",
      "_model_name": "ProgressStyleModel",
      "_view_count": null,
      "_view_module": "@jupyter-widgets/base",
      "_view_module_version": "1.2.0",
      "_view_name": "StyleView",
      "bar_color": null,
      "description_width": ""
     }
    },
    "112b613a127946ca85d0a9cdc97ed22e": {
     "model_module": "@jupyter-widgets/controls",
     "model_module_version": "1.5.0",
     "model_name": "ProgressStyleModel",
     "state": {
      "_model_module": "@jupyter-widgets/controls",
      "_model_module_version": "1.5.0",
      "_model_name": "ProgressStyleModel",
      "_view_count": null,
      "_view_module": "@jupyter-widgets/base",
      "_view_module_version": "1.2.0",
      "_view_name": "StyleView",
      "bar_color": null,
      "description_width": ""
     }
    },
    "16275bb0343d4ce19d7c5f4d477e039c": {
     "model_module": "@jupyter-widgets/controls",
     "model_module_version": "1.5.0",
     "model_name": "DescriptionStyleModel",
     "state": {
      "_model_module": "@jupyter-widgets/controls",
      "_model_module_version": "1.5.0",
      "_model_name": "DescriptionStyleModel",
      "_view_count": null,
      "_view_module": "@jupyter-widgets/base",
      "_view_module_version": "1.2.0",
      "_view_name": "StyleView",
      "description_width": ""
     }
    },
    "16b2824841da4c64892dbc0d238be414": {
     "model_module": "@jupyter-widgets/base",
     "model_module_version": "1.2.0",
     "model_name": "LayoutModel",
     "state": {
      "_model_module": "@jupyter-widgets/base",
      "_model_module_version": "1.2.0",
      "_model_name": "LayoutModel",
      "_view_count": null,
      "_view_module": "@jupyter-widgets/base",
      "_view_module_version": "1.2.0",
      "_view_name": "LayoutView",
      "align_content": null,
      "align_items": null,
      "align_self": null,
      "border": null,
      "bottom": null,
      "display": null,
      "flex": null,
      "flex_flow": null,
      "grid_area": null,
      "grid_auto_columns": null,
      "grid_auto_flow": null,
      "grid_auto_rows": null,
      "grid_column": null,
      "grid_gap": null,
      "grid_row": null,
      "grid_template_areas": null,
      "grid_template_columns": null,
      "grid_template_rows": null,
      "height": null,
      "justify_content": null,
      "justify_items": null,
      "left": null,
      "margin": null,
      "max_height": null,
      "max_width": null,
      "min_height": null,
      "min_width": null,
      "object_fit": null,
      "object_position": null,
      "order": null,
      "overflow": null,
      "overflow_x": null,
      "overflow_y": null,
      "padding": null,
      "right": null,
      "top": null,
      "visibility": null,
      "width": null
     }
    },
    "19ffba008fda4107b06796a55d73c4dd": {
     "model_module": "@jupyter-widgets/base",
     "model_module_version": "1.2.0",
     "model_name": "LayoutModel",
     "state": {
      "_model_module": "@jupyter-widgets/base",
      "_model_module_version": "1.2.0",
      "_model_name": "LayoutModel",
      "_view_count": null,
      "_view_module": "@jupyter-widgets/base",
      "_view_module_version": "1.2.0",
      "_view_name": "LayoutView",
      "align_content": null,
      "align_items": null,
      "align_self": null,
      "border": null,
      "bottom": null,
      "display": null,
      "flex": null,
      "flex_flow": null,
      "grid_area": null,
      "grid_auto_columns": null,
      "grid_auto_flow": null,
      "grid_auto_rows": null,
      "grid_column": null,
      "grid_gap": null,
      "grid_row": null,
      "grid_template_areas": null,
      "grid_template_columns": null,
      "grid_template_rows": null,
      "height": null,
      "justify_content": null,
      "justify_items": null,
      "left": null,
      "margin": null,
      "max_height": null,
      "max_width": null,
      "min_height": null,
      "min_width": null,
      "object_fit": null,
      "object_position": null,
      "order": null,
      "overflow": null,
      "overflow_x": null,
      "overflow_y": null,
      "padding": null,
      "right": null,
      "top": null,
      "visibility": null,
      "width": null
     }
    },
    "1be76586657f493baba89d9d47172a55": {
     "model_module": "@jupyter-widgets/controls",
     "model_module_version": "1.5.0",
     "model_name": "ProgressStyleModel",
     "state": {
      "_model_module": "@jupyter-widgets/controls",
      "_model_module_version": "1.5.0",
      "_model_name": "ProgressStyleModel",
      "_view_count": null,
      "_view_module": "@jupyter-widgets/base",
      "_view_module_version": "1.2.0",
      "_view_name": "StyleView",
      "bar_color": null,
      "description_width": ""
     }
    },
    "1e65ec20476b4d67929b5821585971e6": {
     "model_module": "@jupyter-widgets/controls",
     "model_module_version": "1.5.0",
     "model_name": "HBoxModel",
     "state": {
      "_dom_classes": [],
      "_model_module": "@jupyter-widgets/controls",
      "_model_module_version": "1.5.0",
      "_model_name": "HBoxModel",
      "_view_count": null,
      "_view_module": "@jupyter-widgets/controls",
      "_view_module_version": "1.5.0",
      "_view_name": "HBoxView",
      "box_style": "",
      "children": [
       "IPY_MODEL_3650f87a5ac24289865cac5c9b470bb1",
       "IPY_MODEL_a858a1afdd45446a8eb6c40a6094d6ba",
       "IPY_MODEL_22befc56d3a449fbb651140baf9a00d5"
      ],
      "layout": "IPY_MODEL_c123457be89f46b4b48ff6ad72332874"
     }
    },
    "20952f62c5a24bfa88ada09f25122c62": {
     "model_module": "@jupyter-widgets/controls",
     "model_module_version": "1.5.0",
     "model_name": "ProgressStyleModel",
     "state": {
      "_model_module": "@jupyter-widgets/controls",
      "_model_module_version": "1.5.0",
      "_model_name": "ProgressStyleModel",
      "_view_count": null,
      "_view_module": "@jupyter-widgets/base",
      "_view_module_version": "1.2.0",
      "_view_name": "StyleView",
      "bar_color": null,
      "description_width": ""
     }
    },
    "20d22c02228949a88dd73cbc66424dc5": {
     "model_module": "@jupyter-widgets/controls",
     "model_module_version": "1.5.0",
     "model_name": "HTMLModel",
     "state": {
      "_dom_classes": [],
      "_model_module": "@jupyter-widgets/controls",
      "_model_module_version": "1.5.0",
      "_model_name": "HTMLModel",
      "_view_count": null,
      "_view_module": "@jupyter-widgets/controls",
      "_view_module_version": "1.5.0",
      "_view_name": "HTMLView",
      "description": "",
      "description_tooltip": null,
      "layout": "IPY_MODEL_5b5b58e6f5ac4e8db07cdce262ce305b",
      "placeholder": "​",
      "style": "IPY_MODEL_de4495f1478f46f8a5ac7cbe64f736fb",
      "value": "config.json: 100%"
     }
    },
    "22befc56d3a449fbb651140baf9a00d5": {
     "model_module": "@jupyter-widgets/controls",
     "model_module_version": "1.5.0",
     "model_name": "HTMLModel",
     "state": {
      "_dom_classes": [],
      "_model_module": "@jupyter-widgets/controls",
      "_model_module_version": "1.5.0",
      "_model_name": "HTMLModel",
      "_view_count": null,
      "_view_module": "@jupyter-widgets/controls",
      "_view_module_version": "1.5.0",
      "_view_name": "HTMLView",
      "description": "",
      "description_tooltip": null,
      "layout": "IPY_MODEL_64581c3d3c3d4c70a799cb5b06851c27",
      "placeholder": "​",
      "style": "IPY_MODEL_46096783f5c84e039854aff632314eaf",
      "value": " 232k/232k [00:00&lt;00:00, 1.35MB/s]"
     }
    },
    "2440c6b73ae34b3f94f67cacab122a52": {
     "model_module": "@jupyter-widgets/controls",
     "model_module_version": "1.5.0",
     "model_name": "FloatProgressModel",
     "state": {
      "_dom_classes": [],
      "_model_module": "@jupyter-widgets/controls",
      "_model_module_version": "1.5.0",
      "_model_name": "FloatProgressModel",
      "_view_count": null,
      "_view_module": "@jupyter-widgets/controls",
      "_view_module_version": "1.5.0",
      "_view_name": "ProgressView",
      "bar_style": "success",
      "description": "",
      "description_tooltip": null,
      "layout": "IPY_MODEL_a78505109d3c4108b157c03a18e99bb6",
      "max": 190,
      "min": 0,
      "orientation": "horizontal",
      "style": "IPY_MODEL_25bf1b6569bb44b6a0e74599d4793c34",
      "value": 190
     }
    },
    "2566493e05064ee5b406b5aa08d38fed": {
     "model_module": "@jupyter-widgets/controls",
     "model_module_version": "1.5.0",
     "model_name": "FloatProgressModel",
     "state": {
      "_dom_classes": [],
      "_model_module": "@jupyter-widgets/controls",
      "_model_module_version": "1.5.0",
      "_model_name": "FloatProgressModel",
      "_view_count": null,
      "_view_module": "@jupyter-widgets/controls",
      "_view_module_version": "1.5.0",
      "_view_name": "ProgressView",
      "bar_style": "success",
      "description": "",
      "description_tooltip": null,
      "layout": "IPY_MODEL_7808a46a0d5041c4b04c156fc4d2a7d6",
      "max": 9956,
      "min": 0,
      "orientation": "horizontal",
      "style": "IPY_MODEL_20952f62c5a24bfa88ada09f25122c62",
      "value": 9956
     }
    },
    "25bf1b6569bb44b6a0e74599d4793c34": {
     "model_module": "@jupyter-widgets/controls",
     "model_module_version": "1.5.0",
     "model_name": "ProgressStyleModel",
     "state": {
      "_model_module": "@jupyter-widgets/controls",
      "_model_module_version": "1.5.0",
      "_model_name": "ProgressStyleModel",
      "_view_count": null,
      "_view_module": "@jupyter-widgets/base",
      "_view_module_version": "1.2.0",
      "_view_name": "StyleView",
      "bar_color": null,
      "description_width": ""
     }
    },
    "27d51655655a4eb5a0d87c4fe3974ca6": {
     "model_module": "@jupyter-widgets/base",
     "model_module_version": "1.2.0",
     "model_name": "LayoutModel",
     "state": {
      "_model_module": "@jupyter-widgets/base",
      "_model_module_version": "1.2.0",
      "_model_name": "LayoutModel",
      "_view_count": null,
      "_view_module": "@jupyter-widgets/base",
      "_view_module_version": "1.2.0",
      "_view_name": "LayoutView",
      "align_content": null,
      "align_items": null,
      "align_self": null,
      "border": null,
      "bottom": null,
      "display": null,
      "flex": null,
      "flex_flow": null,
      "grid_area": null,
      "grid_auto_columns": null,
      "grid_auto_flow": null,
      "grid_auto_rows": null,
      "grid_column": null,
      "grid_gap": null,
      "grid_row": null,
      "grid_template_areas": null,
      "grid_template_columns": null,
      "grid_template_rows": null,
      "height": null,
      "justify_content": null,
      "justify_items": null,
      "left": null,
      "margin": null,
      "max_height": null,
      "max_width": null,
      "min_height": null,
      "min_width": null,
      "object_fit": null,
      "object_position": null,
      "order": null,
      "overflow": null,
      "overflow_x": null,
      "overflow_y": null,
      "padding": null,
      "right": null,
      "top": null,
      "visibility": null,
      "width": null
     }
    },
    "2913c66e36c5489594cada15833ed0c4": {
     "model_module": "@jupyter-widgets/controls",
     "model_module_version": "1.5.0",
     "model_name": "HTMLModel",
     "state": {
      "_dom_classes": [],
      "_model_module": "@jupyter-widgets/controls",
      "_model_module_version": "1.5.0",
      "_model_name": "HTMLModel",
      "_view_count": null,
      "_view_module": "@jupyter-widgets/controls",
      "_view_module_version": "1.5.0",
      "_view_name": "HTMLView",
      "description": "",
      "description_tooltip": null,
      "layout": "IPY_MODEL_57f2a31f66fc4113852b8db3130b2600",
      "placeholder": "​",
      "style": "IPY_MODEL_7c8ff5569769424aad46f6a60324d532",
      "value": " 352/352 [00:00&lt;00:00, 21.9kB/s]"
     }
    },
    "29cbe9aefb9c49f391976e74b0204952": {
     "model_module": "@jupyter-widgets/controls",
     "model_module_version": "1.5.0",
     "model_name": "HTMLModel",
     "state": {
      "_dom_classes": [],
      "_model_module": "@jupyter-widgets/controls",
      "_model_module_version": "1.5.0",
      "_model_name": "HTMLModel",
      "_view_count": null,
      "_view_module": "@jupyter-widgets/controls",
      "_view_module_version": "1.5.0",
      "_view_name": "HTMLView",
      "description": "",
      "description_tooltip": null,
      "layout": "IPY_MODEL_9eb08887de344177ad213925cdd85ff4",
      "placeholder": "​",
      "style": "IPY_MODEL_474e0fdd32f64894aac34959fc47cdf3",
      "value": " 466k/466k [00:00&lt;00:00, 2.63MB/s]"
     }
    },
    "2bcee6ddbfc447e690e822decf74be02": {
     "model_module": "@jupyter-widgets/controls",
     "model_module_version": "1.5.0",
     "model_name": "DescriptionStyleModel",
     "state": {
      "_model_module": "@jupyter-widgets/controls",
      "_model_module_version": "1.5.0",
      "_model_name": "DescriptionStyleModel",
      "_view_count": null,
      "_view_module": "@jupyter-widgets/base",
      "_view_module_version": "1.2.0",
      "_view_name": "StyleView",
      "description_width": ""
     }
    },
    "2c0d1da35f7c4907b07034c759d98f4d": {
     "model_module": "@jupyter-widgets/controls",
     "model_module_version": "1.5.0",
     "model_name": "DescriptionStyleModel",
     "state": {
      "_model_module": "@jupyter-widgets/controls",
      "_model_module_version": "1.5.0",
      "_model_name": "DescriptionStyleModel",
      "_view_count": null,
      "_view_module": "@jupyter-widgets/base",
      "_view_module_version": "1.2.0",
      "_view_name": "StyleView",
      "description_width": ""
     }
    },
    "2cd188081d984d06963d0ac1e0d40405": {
     "model_module": "@jupyter-widgets/base",
     "model_module_version": "1.2.0",
     "model_name": "LayoutModel",
     "state": {
      "_model_module": "@jupyter-widgets/base",
      "_model_module_version": "1.2.0",
      "_model_name": "LayoutModel",
      "_view_count": null,
      "_view_module": "@jupyter-widgets/base",
      "_view_module_version": "1.2.0",
      "_view_name": "LayoutView",
      "align_content": null,
      "align_items": null,
      "align_self": null,
      "border": null,
      "bottom": null,
      "display": null,
      "flex": null,
      "flex_flow": null,
      "grid_area": null,
      "grid_auto_columns": null,
      "grid_auto_flow": null,
      "grid_auto_rows": null,
      "grid_column": null,
      "grid_gap": null,
      "grid_row": null,
      "grid_template_areas": null,
      "grid_template_columns": null,
      "grid_template_rows": null,
      "height": null,
      "justify_content": null,
      "justify_items": null,
      "left": null,
      "margin": null,
      "max_height": null,
      "max_width": null,
      "min_height": null,
      "min_width": null,
      "object_fit": null,
      "object_position": null,
      "order": null,
      "overflow": null,
      "overflow_x": null,
      "overflow_y": null,
      "padding": null,
      "right": null,
      "top": null,
      "visibility": null,
      "width": null
     }
    },
    "3650f87a5ac24289865cac5c9b470bb1": {
     "model_module": "@jupyter-widgets/controls",
     "model_module_version": "1.5.0",
     "model_name": "HTMLModel",
     "state": {
      "_dom_classes": [],
      "_model_module": "@jupyter-widgets/controls",
      "_model_module_version": "1.5.0",
      "_model_name": "HTMLModel",
      "_view_count": null,
      "_view_module": "@jupyter-widgets/controls",
      "_view_module_version": "1.5.0",
      "_view_name": "HTMLView",
      "description": "",
      "description_tooltip": null,
      "layout": "IPY_MODEL_d79e228338734b16b6c54d29b31a3195",
      "placeholder": "​",
      "style": "IPY_MODEL_bb1e91b9c751403c968d3df61cd5417c",
      "value": "vocab.txt: 100%"
     }
    },
    "3dcab98063aa4cc79ab9fb767abb30bd": {
     "model_module": "@jupyter-widgets/base",
     "model_module_version": "1.2.0",
     "model_name": "LayoutModel",
     "state": {
      "_model_module": "@jupyter-widgets/base",
      "_model_module_version": "1.2.0",
      "_model_name": "LayoutModel",
      "_view_count": null,
      "_view_module": "@jupyter-widgets/base",
      "_view_module_version": "1.2.0",
      "_view_name": "LayoutView",
      "align_content": null,
      "align_items": null,
      "align_self": null,
      "border": null,
      "bottom": null,
      "display": null,
      "flex": null,
      "flex_flow": null,
      "grid_area": null,
      "grid_auto_columns": null,
      "grid_auto_flow": null,
      "grid_auto_rows": null,
      "grid_column": null,
      "grid_gap": null,
      "grid_row": null,
      "grid_template_areas": null,
      "grid_template_columns": null,
      "grid_template_rows": null,
      "height": null,
      "justify_content": null,
      "justify_items": null,
      "left": null,
      "margin": null,
      "max_height": null,
      "max_width": null,
      "min_height": null,
      "min_width": null,
      "object_fit": null,
      "object_position": null,
      "order": null,
      "overflow": null,
      "overflow_x": null,
      "overflow_y": null,
      "padding": null,
      "right": null,
      "top": null,
      "visibility": null,
      "width": null
     }
    },
    "4269a09651d34156bc9923596538422b": {
     "model_module": "@jupyter-widgets/controls",
     "model_module_version": "1.5.0",
     "model_name": "HTMLModel",
     "state": {
      "_dom_classes": [],
      "_model_module": "@jupyter-widgets/controls",
      "_model_module_version": "1.5.0",
      "_model_name": "HTMLModel",
      "_view_count": null,
      "_view_module": "@jupyter-widgets/controls",
      "_view_module_version": "1.5.0",
      "_view_name": "HTMLView",
      "description": "",
      "description_tooltip": null,
      "layout": "IPY_MODEL_ce3509c8115048f4893180d0231272c1",
      "placeholder": "​",
      "style": "IPY_MODEL_16275bb0343d4ce19d7c5f4d477e039c",
      "value": "tokenizer_config.json: 100%"
     }
    },
    "43283fc55e284b50abc164f351f347d8": {
     "model_module": "@jupyter-widgets/controls",
     "model_module_version": "1.5.0",
     "model_name": "HTMLModel",
     "state": {
      "_dom_classes": [],
      "_model_module": "@jupyter-widgets/controls",
      "_model_module_version": "1.5.0",
      "_model_name": "HTMLModel",
      "_view_count": null,
      "_view_module": "@jupyter-widgets/controls",
      "_view_module_version": "1.5.0",
      "_view_name": "HTMLView",
      "description": "",
      "description_tooltip": null,
      "layout": "IPY_MODEL_4b8f4ffc1d664e28bb6042dc1168c19c",
      "placeholder": "​",
      "style": "IPY_MODEL_c4ec4535d2544eb897a76b9e9faa00e3",
      "value": " 573/573 [00:00&lt;00:00, 34.5kB/s]"
     }
    },
    "46096783f5c84e039854aff632314eaf": {
     "model_module": "@jupyter-widgets/controls",
     "model_module_version": "1.5.0",
     "model_name": "DescriptionStyleModel",
     "state": {
      "_model_module": "@jupyter-widgets/controls",
      "_model_module_version": "1.5.0",
      "_model_name": "DescriptionStyleModel",
      "_view_count": null,
      "_view_module": "@jupyter-widgets/base",
      "_view_module_version": "1.2.0",
      "_view_name": "StyleView",
      "description_width": ""
     }
    },
    "4706f81314d8423888eace4ff87066ac": {
     "model_module": "@jupyter-widgets/controls",
     "model_module_version": "1.5.0",
     "model_name": "HTMLModel",
     "state": {
      "_dom_classes": [],
      "_model_module": "@jupyter-widgets/controls",
      "_model_module_version": "1.5.0",
      "_model_name": "HTMLModel",
      "_view_count": null,
      "_view_module": "@jupyter-widgets/controls",
      "_view_module_version": "1.5.0",
      "_view_name": "HTMLView",
      "description": "",
      "description_tooltip": null,
      "layout": "IPY_MODEL_f79c76550e9547569760ae06b733e80a",
      "placeholder": "​",
      "style": "IPY_MODEL_6b28cf31200343928f374ea0e44957e3",
      "value": "special_tokens_map.json: 100%"
     }
    },
    "474e0fdd32f64894aac34959fc47cdf3": {
     "model_module": "@jupyter-widgets/controls",
     "model_module_version": "1.5.0",
     "model_name": "DescriptionStyleModel",
     "state": {
      "_model_module": "@jupyter-widgets/controls",
      "_model_module_version": "1.5.0",
      "_model_name": "DescriptionStyleModel",
      "_view_count": null,
      "_view_module": "@jupyter-widgets/base",
      "_view_module_version": "1.2.0",
      "_view_name": "StyleView",
      "description_width": ""
     }
    },
    "480a899fd1a2430fb23382a01a1fd885": {
     "model_module": "@jupyter-widgets/controls",
     "model_module_version": "1.5.0",
     "model_name": "DescriptionStyleModel",
     "state": {
      "_model_module": "@jupyter-widgets/controls",
      "_model_module_version": "1.5.0",
      "_model_name": "DescriptionStyleModel",
      "_view_count": null,
      "_view_module": "@jupyter-widgets/base",
      "_view_module_version": "1.2.0",
      "_view_name": "StyleView",
      "description_width": ""
     }
    },
    "48b0a73bbe7641d7a820c62728ea4f59": {
     "model_module": "@jupyter-widgets/base",
     "model_module_version": "1.2.0",
     "model_name": "LayoutModel",
     "state": {
      "_model_module": "@jupyter-widgets/base",
      "_model_module_version": "1.2.0",
      "_model_name": "LayoutModel",
      "_view_count": null,
      "_view_module": "@jupyter-widgets/base",
      "_view_module_version": "1.2.0",
      "_view_name": "LayoutView",
      "align_content": null,
      "align_items": null,
      "align_self": null,
      "border": null,
      "bottom": null,
      "display": null,
      "flex": null,
      "flex_flow": null,
      "grid_area": null,
      "grid_auto_columns": null,
      "grid_auto_flow": null,
      "grid_auto_rows": null,
      "grid_column": null,
      "grid_gap": null,
      "grid_row": null,
      "grid_template_areas": null,
      "grid_template_columns": null,
      "grid_template_rows": null,
      "height": null,
      "justify_content": null,
      "justify_items": null,
      "left": null,
      "margin": null,
      "max_height": null,
      "max_width": null,
      "min_height": null,
      "min_width": null,
      "object_fit": null,
      "object_position": null,
      "order": null,
      "overflow": null,
      "overflow_x": null,
      "overflow_y": null,
      "padding": null,
      "right": null,
      "top": null,
      "visibility": null,
      "width": null
     }
    },
    "4b8f4ffc1d664e28bb6042dc1168c19c": {
     "model_module": "@jupyter-widgets/base",
     "model_module_version": "1.2.0",
     "model_name": "LayoutModel",
     "state": {
      "_model_module": "@jupyter-widgets/base",
      "_model_module_version": "1.2.0",
      "_model_name": "LayoutModel",
      "_view_count": null,
      "_view_module": "@jupyter-widgets/base",
      "_view_module_version": "1.2.0",
      "_view_name": "LayoutView",
      "align_content": null,
      "align_items": null,
      "align_self": null,
      "border": null,
      "bottom": null,
      "display": null,
      "flex": null,
      "flex_flow": null,
      "grid_area": null,
      "grid_auto_columns": null,
      "grid_auto_flow": null,
      "grid_auto_rows": null,
      "grid_column": null,
      "grid_gap": null,
      "grid_row": null,
      "grid_template_areas": null,
      "grid_template_columns": null,
      "grid_template_rows": null,
      "height": null,
      "justify_content": null,
      "justify_items": null,
      "left": null,
      "margin": null,
      "max_height": null,
      "max_width": null,
      "min_height": null,
      "min_width": null,
      "object_fit": null,
      "object_position": null,
      "order": null,
      "overflow": null,
      "overflow_x": null,
      "overflow_y": null,
      "padding": null,
      "right": null,
      "top": null,
      "visibility": null,
      "width": null
     }
    },
    "4d1947f7916b497ea47b4d71d4738b2e": {
     "model_module": "@jupyter-widgets/controls",
     "model_module_version": "1.5.0",
     "model_name": "HBoxModel",
     "state": {
      "_dom_classes": [],
      "_model_module": "@jupyter-widgets/controls",
      "_model_module_version": "1.5.0",
      "_model_name": "HBoxModel",
      "_view_count": null,
      "_view_module": "@jupyter-widgets/controls",
      "_view_module_version": "1.5.0",
      "_view_name": "HBoxView",
      "box_style": "",
      "children": [
       "IPY_MODEL_10b0389460184adcbfb24872a69a8079",
       "IPY_MODEL_2440c6b73ae34b3f94f67cacab122a52",
       "IPY_MODEL_b46e780cd0a04a12bae3c414b75f2cab"
      ],
      "layout": "IPY_MODEL_c7914e77cf974c7fb60f1d368e471338"
     }
    },
    "4d52da43babf46b8a21cddd8f1d75c5e": {
     "model_module": "@jupyter-widgets/controls",
     "model_module_version": "1.5.0",
     "model_name": "HTMLModel",
     "state": {
      "_dom_classes": [],
      "_model_module": "@jupyter-widgets/controls",
      "_model_module_version": "1.5.0",
      "_model_name": "HTMLModel",
      "_view_count": null,
      "_view_module": "@jupyter-widgets/controls",
      "_view_module_version": "1.5.0",
      "_view_name": "HTMLView",
      "description": "",
      "description_tooltip": null,
      "layout": "IPY_MODEL_5a7c662c94474c9fb3654f7c7ab270af",
      "placeholder": "​",
      "style": "IPY_MODEL_f353552c1f554d94b3787fb0c645c159",
      "value": " 9.96k/9.96k [00:00&lt;00:00, 521kB/s]"
     }
    },
    "50885075c627469c8c97c7a869cf2394": {
     "model_module": "@jupyter-widgets/base",
     "model_module_version": "1.2.0",
     "model_name": "LayoutModel",
     "state": {
      "_model_module": "@jupyter-widgets/base",
      "_model_module_version": "1.2.0",
      "_model_name": "LayoutModel",
      "_view_count": null,
      "_view_module": "@jupyter-widgets/base",
      "_view_module_version": "1.2.0",
      "_view_name": "LayoutView",
      "align_content": null,
      "align_items": null,
      "align_self": null,
      "border": null,
      "bottom": null,
      "display": null,
      "flex": null,
      "flex_flow": null,
      "grid_area": null,
      "grid_auto_columns": null,
      "grid_auto_flow": null,
      "grid_auto_rows": null,
      "grid_column": null,
      "grid_gap": null,
      "grid_row": null,
      "grid_template_areas": null,
      "grid_template_columns": null,
      "grid_template_rows": null,
      "height": null,
      "justify_content": null,
      "justify_items": null,
      "left": null,
      "margin": null,
      "max_height": null,
      "max_width": null,
      "min_height": null,
      "min_width": null,
      "object_fit": null,
      "object_position": null,
      "order": null,
      "overflow": null,
      "overflow_x": null,
      "overflow_y": null,
      "padding": null,
      "right": null,
      "top": null,
      "visibility": null,
      "width": null
     }
    },
    "57997aaceed94a7fbc9f671a1508cdab": {
     "model_module": "@jupyter-widgets/controls",
     "model_module_version": "1.5.0",
     "model_name": "DescriptionStyleModel",
     "state": {
      "_model_module": "@jupyter-widgets/controls",
      "_model_module_version": "1.5.0",
      "_model_name": "DescriptionStyleModel",
      "_view_count": null,
      "_view_module": "@jupyter-widgets/base",
      "_view_module_version": "1.2.0",
      "_view_name": "StyleView",
      "description_width": ""
     }
    },
    "57f2a31f66fc4113852b8db3130b2600": {
     "model_module": "@jupyter-widgets/base",
     "model_module_version": "1.2.0",
     "model_name": "LayoutModel",
     "state": {
      "_model_module": "@jupyter-widgets/base",
      "_model_module_version": "1.2.0",
      "_model_name": "LayoutModel",
      "_view_count": null,
      "_view_module": "@jupyter-widgets/base",
      "_view_module_version": "1.2.0",
      "_view_name": "LayoutView",
      "align_content": null,
      "align_items": null,
      "align_self": null,
      "border": null,
      "bottom": null,
      "display": null,
      "flex": null,
      "flex_flow": null,
      "grid_area": null,
      "grid_auto_columns": null,
      "grid_auto_flow": null,
      "grid_auto_rows": null,
      "grid_column": null,
      "grid_gap": null,
      "grid_row": null,
      "grid_template_areas": null,
      "grid_template_columns": null,
      "grid_template_rows": null,
      "height": null,
      "justify_content": null,
      "justify_items": null,
      "left": null,
      "margin": null,
      "max_height": null,
      "max_width": null,
      "min_height": null,
      "min_width": null,
      "object_fit": null,
      "object_position": null,
      "order": null,
      "overflow": null,
      "overflow_x": null,
      "overflow_y": null,
      "padding": null,
      "right": null,
      "top": null,
      "visibility": null,
      "width": null
     }
    },
    "597420753ccf47db81aca5f226cacc4a": {
     "model_module": "@jupyter-widgets/base",
     "model_module_version": "1.2.0",
     "model_name": "LayoutModel",
     "state": {
      "_model_module": "@jupyter-widgets/base",
      "_model_module_version": "1.2.0",
      "_model_name": "LayoutModel",
      "_view_count": null,
      "_view_module": "@jupyter-widgets/base",
      "_view_module_version": "1.2.0",
      "_view_name": "LayoutView",
      "align_content": null,
      "align_items": null,
      "align_self": null,
      "border": null,
      "bottom": null,
      "display": null,
      "flex": null,
      "flex_flow": null,
      "grid_area": null,
      "grid_auto_columns": null,
      "grid_auto_flow": null,
      "grid_auto_rows": null,
      "grid_column": null,
      "grid_gap": null,
      "grid_row": null,
      "grid_template_areas": null,
      "grid_template_columns": null,
      "grid_template_rows": null,
      "height": null,
      "justify_content": null,
      "justify_items": null,
      "left": null,
      "margin": null,
      "max_height": null,
      "max_width": null,
      "min_height": null,
      "min_width": null,
      "object_fit": null,
      "object_position": null,
      "order": null,
      "overflow": null,
      "overflow_x": null,
      "overflow_y": null,
      "padding": null,
      "right": null,
      "top": null,
      "visibility": null,
      "width": null
     }
    },
    "5a7c662c94474c9fb3654f7c7ab270af": {
     "model_module": "@jupyter-widgets/base",
     "model_module_version": "1.2.0",
     "model_name": "LayoutModel",
     "state": {
      "_model_module": "@jupyter-widgets/base",
      "_model_module_version": "1.2.0",
      "_model_name": "LayoutModel",
      "_view_count": null,
      "_view_module": "@jupyter-widgets/base",
      "_view_module_version": "1.2.0",
      "_view_name": "LayoutView",
      "align_content": null,
      "align_items": null,
      "align_self": null,
      "border": null,
      "bottom": null,
      "display": null,
      "flex": null,
      "flex_flow": null,
      "grid_area": null,
      "grid_auto_columns": null,
      "grid_auto_flow": null,
      "grid_auto_rows": null,
      "grid_column": null,
      "grid_gap": null,
      "grid_row": null,
      "grid_template_areas": null,
      "grid_template_columns": null,
      "grid_template_rows": null,
      "height": null,
      "justify_content": null,
      "justify_items": null,
      "left": null,
      "margin": null,
      "max_height": null,
      "max_width": null,
      "min_height": null,
      "min_width": null,
      "object_fit": null,
      "object_position": null,
      "order": null,
      "overflow": null,
      "overflow_x": null,
      "overflow_y": null,
      "padding": null,
      "right": null,
      "top": null,
      "visibility": null,
      "width": null
     }
    },
    "5a993d4614c0494ca4f729999f00256c": {
     "model_module": "@jupyter-widgets/controls",
     "model_module_version": "1.5.0",
     "model_name": "HTMLModel",
     "state": {
      "_dom_classes": [],
      "_model_module": "@jupyter-widgets/controls",
      "_model_module_version": "1.5.0",
      "_model_name": "HTMLModel",
      "_view_count": null,
      "_view_module": "@jupyter-widgets/controls",
      "_view_module_version": "1.5.0",
      "_view_name": "HTMLView",
      "description": "",
      "description_tooltip": null,
      "layout": "IPY_MODEL_acee102de11449bcbdb3193c6ffe21d4",
      "placeholder": "​",
      "style": "IPY_MODEL_a03be1fae3144d35ae190027b15ee69b",
      "value": "README.md: 100%"
     }
    },
    "5b5b58e6f5ac4e8db07cdce262ce305b": {
     "model_module": "@jupyter-widgets/base",
     "model_module_version": "1.2.0",
     "model_name": "LayoutModel",
     "state": {
      "_model_module": "@jupyter-widgets/base",
      "_model_module_version": "1.2.0",
      "_model_name": "LayoutModel",
      "_view_count": null,
      "_view_module": "@jupyter-widgets/base",
      "_view_module_version": "1.2.0",
      "_view_name": "LayoutView",
      "align_content": null,
      "align_items": null,
      "align_self": null,
      "border": null,
      "bottom": null,
      "display": null,
      "flex": null,
      "flex_flow": null,
      "grid_area": null,
      "grid_auto_columns": null,
      "grid_auto_flow": null,
      "grid_auto_rows": null,
      "grid_column": null,
      "grid_gap": null,
      "grid_row": null,
      "grid_template_areas": null,
      "grid_template_columns": null,
      "grid_template_rows": null,
      "height": null,
      "justify_content": null,
      "justify_items": null,
      "left": null,
      "margin": null,
      "max_height": null,
      "max_width": null,
      "min_height": null,
      "min_width": null,
      "object_fit": null,
      "object_position": null,
      "order": null,
      "overflow": null,
      "overflow_x": null,
      "overflow_y": null,
      "padding": null,
      "right": null,
      "top": null,
      "visibility": null,
      "width": null
     }
    },
    "5dc35828d7b646a3b7149ec81cfa0251": {
     "model_module": "@jupyter-widgets/base",
     "model_module_version": "1.2.0",
     "model_name": "LayoutModel",
     "state": {
      "_model_module": "@jupyter-widgets/base",
      "_model_module_version": "1.2.0",
      "_model_name": "LayoutModel",
      "_view_count": null,
      "_view_module": "@jupyter-widgets/base",
      "_view_module_version": "1.2.0",
      "_view_name": "LayoutView",
      "align_content": null,
      "align_items": null,
      "align_self": null,
      "border": null,
      "bottom": null,
      "display": null,
      "flex": null,
      "flex_flow": null,
      "grid_area": null,
      "grid_auto_columns": null,
      "grid_auto_flow": null,
      "grid_auto_rows": null,
      "grid_column": null,
      "grid_gap": null,
      "grid_row": null,
      "grid_template_areas": null,
      "grid_template_columns": null,
      "grid_template_rows": null,
      "height": null,
      "justify_content": null,
      "justify_items": null,
      "left": null,
      "margin": null,
      "max_height": null,
      "max_width": null,
      "min_height": null,
      "min_width": null,
      "object_fit": null,
      "object_position": null,
      "order": null,
      "overflow": null,
      "overflow_x": null,
      "overflow_y": null,
      "padding": null,
      "right": null,
      "top": null,
      "visibility": null,
      "width": null
     }
    },
    "607b96f938544910b9f4572e20f6584a": {
     "model_module": "@jupyter-widgets/controls",
     "model_module_version": "1.5.0",
     "model_name": "FloatProgressModel",
     "state": {
      "_dom_classes": [],
      "_model_module": "@jupyter-widgets/controls",
      "_model_module_version": "1.5.0",
      "_model_name": "FloatProgressModel",
      "_view_count": null,
      "_view_module": "@jupyter-widgets/controls",
      "_view_module_version": "1.5.0",
      "_view_name": "ProgressView",
      "bar_style": "success",
      "description": "",
      "description_tooltip": null,
      "layout": "IPY_MODEL_27d51655655a4eb5a0d87c4fe3974ca6",
      "max": 573,
      "min": 0,
      "orientation": "horizontal",
      "style": "IPY_MODEL_112b613a127946ca85d0a9cdc97ed22e",
      "value": 573
     }
    },
    "611ca9e3378749009dbe46777b549127": {
     "model_module": "@jupyter-widgets/controls",
     "model_module_version": "1.5.0",
     "model_name": "ProgressStyleModel",
     "state": {
      "_model_module": "@jupyter-widgets/controls",
      "_model_module_version": "1.5.0",
      "_model_name": "ProgressStyleModel",
      "_view_count": null,
      "_view_module": "@jupyter-widgets/base",
      "_view_module_version": "1.2.0",
      "_view_name": "StyleView",
      "bar_color": null,
      "description_width": ""
     }
    },
    "613f4ecdecdf49bc9fd98fa005d0b8e6": {
     "model_module": "@jupyter-widgets/base",
     "model_module_version": "1.2.0",
     "model_name": "LayoutModel",
     "state": {
      "_model_module": "@jupyter-widgets/base",
      "_model_module_version": "1.2.0",
      "_model_name": "LayoutModel",
      "_view_count": null,
      "_view_module": "@jupyter-widgets/base",
      "_view_module_version": "1.2.0",
      "_view_name": "LayoutView",
      "align_content": null,
      "align_items": null,
      "align_self": null,
      "border": null,
      "bottom": null,
      "display": null,
      "flex": null,
      "flex_flow": null,
      "grid_area": null,
      "grid_auto_columns": null,
      "grid_auto_flow": null,
      "grid_auto_rows": null,
      "grid_column": null,
      "grid_gap": null,
      "grid_row": null,
      "grid_template_areas": null,
      "grid_template_columns": null,
      "grid_template_rows": null,
      "height": null,
      "justify_content": null,
      "justify_items": null,
      "left": null,
      "margin": null,
      "max_height": null,
      "max_width": null,
      "min_height": null,
      "min_width": null,
      "object_fit": null,
      "object_position": null,
      "order": null,
      "overflow": null,
      "overflow_x": null,
      "overflow_y": null,
      "padding": null,
      "right": null,
      "top": null,
      "visibility": null,
      "width": null
     }
    },
    "61cd1fb6a7864214920459af3f2a9a83": {
     "model_module": "@jupyter-widgets/controls",
     "model_module_version": "1.5.0",
     "model_name": "FloatProgressModel",
     "state": {
      "_dom_classes": [],
      "_model_module": "@jupyter-widgets/controls",
      "_model_module_version": "1.5.0",
      "_model_name": "FloatProgressModel",
      "_view_count": null,
      "_view_module": "@jupyter-widgets/controls",
      "_view_module_version": "1.5.0",
      "_view_name": "ProgressView",
      "bar_style": "success",
      "description": "",
      "description_tooltip": null,
      "layout": "IPY_MODEL_50885075c627469c8c97c7a869cf2394",
      "max": 349,
      "min": 0,
      "orientation": "horizontal",
      "style": "IPY_MODEL_858e1e048b324ee8a0ddb69fe685f377",
      "value": 349
     }
    },
    "62f9673afdb64ce1bda2b13536e96f2b": {
     "model_module": "@jupyter-widgets/controls",
     "model_module_version": "1.5.0",
     "model_name": "FloatProgressModel",
     "state": {
      "_dom_classes": [],
      "_model_module": "@jupyter-widgets/controls",
      "_model_module_version": "1.5.0",
      "_model_name": "FloatProgressModel",
      "_view_count": null,
      "_view_module": "@jupyter-widgets/controls",
      "_view_module_version": "1.5.0",
      "_view_name": "ProgressView",
      "bar_style": "success",
      "description": "",
      "description_tooltip": null,
      "layout": "IPY_MODEL_bc88037a504b4a9c881b5831490e42d0",
      "max": 133466304,
      "min": 0,
      "orientation": "horizontal",
      "style": "IPY_MODEL_111fd9c141b748f6b7922b5af83e921c",
      "value": 133466304
     }
    },
    "64581c3d3c3d4c70a799cb5b06851c27": {
     "model_module": "@jupyter-widgets/base",
     "model_module_version": "1.2.0",
     "model_name": "LayoutModel",
     "state": {
      "_model_module": "@jupyter-widgets/base",
      "_model_module_version": "1.2.0",
      "_model_name": "LayoutModel",
      "_view_count": null,
      "_view_module": "@jupyter-widgets/base",
      "_view_module_version": "1.2.0",
      "_view_name": "LayoutView",
      "align_content": null,
      "align_items": null,
      "align_self": null,
      "border": null,
      "bottom": null,
      "display": null,
      "flex": null,
      "flex_flow": null,
      "grid_area": null,
      "grid_auto_columns": null,
      "grid_auto_flow": null,
      "grid_auto_rows": null,
      "grid_column": null,
      "grid_gap": null,
      "grid_row": null,
      "grid_template_areas": null,
      "grid_template_columns": null,
      "grid_template_rows": null,
      "height": null,
      "justify_content": null,
      "justify_items": null,
      "left": null,
      "margin": null,
      "max_height": null,
      "max_width": null,
      "min_height": null,
      "min_width": null,
      "object_fit": null,
      "object_position": null,
      "order": null,
      "overflow": null,
      "overflow_x": null,
      "overflow_y": null,
      "padding": null,
      "right": null,
      "top": null,
      "visibility": null,
      "width": null
     }
    },
    "64f4fd050de64272befda3ef2cfef912": {
     "model_module": "@jupyter-widgets/base",
     "model_module_version": "1.2.0",
     "model_name": "LayoutModel",
     "state": {
      "_model_module": "@jupyter-widgets/base",
      "_model_module_version": "1.2.0",
      "_model_name": "LayoutModel",
      "_view_count": null,
      "_view_module": "@jupyter-widgets/base",
      "_view_module_version": "1.2.0",
      "_view_name": "LayoutView",
      "align_content": null,
      "align_items": null,
      "align_self": null,
      "border": null,
      "bottom": null,
      "display": null,
      "flex": null,
      "flex_flow": null,
      "grid_area": null,
      "grid_auto_columns": null,
      "grid_auto_flow": null,
      "grid_auto_rows": null,
      "grid_column": null,
      "grid_gap": null,
      "grid_row": null,
      "grid_template_areas": null,
      "grid_template_columns": null,
      "grid_template_rows": null,
      "height": null,
      "justify_content": null,
      "justify_items": null,
      "left": null,
      "margin": null,
      "max_height": null,
      "max_width": null,
      "min_height": null,
      "min_width": null,
      "object_fit": null,
      "object_position": null,
      "order": null,
      "overflow": null,
      "overflow_x": null,
      "overflow_y": null,
      "padding": null,
      "right": null,
      "top": null,
      "visibility": null,
      "width": null
     }
    },
    "6642f6f802944416badc11fe834d687b": {
     "model_module": "@jupyter-widgets/controls",
     "model_module_version": "1.5.0",
     "model_name": "FloatProgressModel",
     "state": {
      "_dom_classes": [],
      "_model_module": "@jupyter-widgets/controls",
      "_model_module_version": "1.5.0",
      "_model_name": "FloatProgressModel",
      "_view_count": null,
      "_view_module": "@jupyter-widgets/controls",
      "_view_module_version": "1.5.0",
      "_view_name": "ProgressView",
      "bar_style": "success",
      "description": "",
      "description_tooltip": null,
      "layout": "IPY_MODEL_842a563323dd4bd6913b7e144bf4d738",
      "max": 112,
      "min": 0,
      "orientation": "horizontal",
      "style": "IPY_MODEL_f31ea4644f9f4d32a290c242dde00d20",
      "value": 112
     }
    },
    "6833a871a2024614818059e5feef9f34": {
     "model_module": "@jupyter-widgets/controls",
     "model_module_version": "1.5.0",
     "model_name": "HBoxModel",
     "state": {
      "_dom_classes": [],
      "_model_module": "@jupyter-widgets/controls",
      "_model_module_version": "1.5.0",
      "_model_name": "HBoxModel",
      "_view_count": null,
      "_view_module": "@jupyter-widgets/controls",
      "_view_module_version": "1.5.0",
      "_view_name": "HBoxView",
      "box_style": "",
      "children": [
       "IPY_MODEL_4269a09651d34156bc9923596538422b",
       "IPY_MODEL_c6658252535b41ed8209d7c93e4ccb3b",
       "IPY_MODEL_2913c66e36c5489594cada15833ed0c4"
      ],
      "layout": "IPY_MODEL_2cd188081d984d06963d0ac1e0d40405"
     }
    },
    "6a67d78ebbc24f05b7ec24dd2b274745": {
     "model_module": "@jupyter-widgets/controls",
     "model_module_version": "1.5.0",
     "model_name": "HTMLModel",
     "state": {
      "_dom_classes": [],
      "_model_module": "@jupyter-widgets/controls",
      "_model_module_version": "1.5.0",
      "_model_name": "HTMLModel",
      "_view_count": null,
      "_view_module": "@jupyter-widgets/controls",
      "_view_module_version": "1.5.0",
      "_view_name": "HTMLView",
      "description": "",
      "description_tooltip": null,
      "layout": "IPY_MODEL_9031fab4e0f947289f78e7012c41b64c",
      "placeholder": "​",
      "style": "IPY_MODEL_79ac4f5dbecb4ab78c0e38d077c5eebd",
      "value": "model.safetensors: 100%"
     }
    },
    "6b28cf31200343928f374ea0e44957e3": {
     "model_module": "@jupyter-widgets/controls",
     "model_module_version": "1.5.0",
     "model_name": "DescriptionStyleModel",
     "state": {
      "_model_module": "@jupyter-widgets/controls",
      "_model_module_version": "1.5.0",
      "_model_name": "DescriptionStyleModel",
      "_view_count": null,
      "_view_module": "@jupyter-widgets/base",
      "_view_module_version": "1.2.0",
      "_view_name": "StyleView",
      "description_width": ""
     }
    },
    "744d9c867ca0499fa02a791fcc8ea7e7": {
     "model_module": "@jupyter-widgets/base",
     "model_module_version": "1.2.0",
     "model_name": "LayoutModel",
     "state": {
      "_model_module": "@jupyter-widgets/base",
      "_model_module_version": "1.2.0",
      "_model_name": "LayoutModel",
      "_view_count": null,
      "_view_module": "@jupyter-widgets/base",
      "_view_module_version": "1.2.0",
      "_view_name": "LayoutView",
      "align_content": null,
      "align_items": null,
      "align_self": null,
      "border": null,
      "bottom": null,
      "display": null,
      "flex": null,
      "flex_flow": null,
      "grid_area": null,
      "grid_auto_columns": null,
      "grid_auto_flow": null,
      "grid_auto_rows": null,
      "grid_column": null,
      "grid_gap": null,
      "grid_row": null,
      "grid_template_areas": null,
      "grid_template_columns": null,
      "grid_template_rows": null,
      "height": null,
      "justify_content": null,
      "justify_items": null,
      "left": null,
      "margin": null,
      "max_height": null,
      "max_width": null,
      "min_height": null,
      "min_width": null,
      "object_fit": null,
      "object_position": null,
      "order": null,
      "overflow": null,
      "overflow_x": null,
      "overflow_y": null,
      "padding": null,
      "right": null,
      "top": null,
      "visibility": null,
      "width": null
     }
    },
    "75586789270a4efcb6e0fd1debc9c225": {
     "model_module": "@jupyter-widgets/controls",
     "model_module_version": "1.5.0",
     "model_name": "ProgressStyleModel",
     "state": {
      "_model_module": "@jupyter-widgets/controls",
      "_model_module_version": "1.5.0",
      "_model_name": "ProgressStyleModel",
      "_view_count": null,
      "_view_module": "@jupyter-widgets/base",
      "_view_module_version": "1.2.0",
      "_view_name": "StyleView",
      "bar_color": null,
      "description_width": ""
     }
    },
    "7777308dea0244c2be6eecf1f3704a22": {
     "model_module": "@jupyter-widgets/controls",
     "model_module_version": "1.5.0",
     "model_name": "ProgressStyleModel",
     "state": {
      "_model_module": "@jupyter-widgets/controls",
      "_model_module_version": "1.5.0",
      "_model_name": "ProgressStyleModel",
      "_view_count": null,
      "_view_module": "@jupyter-widgets/base",
      "_view_module_version": "1.2.0",
      "_view_name": "StyleView",
      "bar_color": null,
      "description_width": ""
     }
    },
    "7808a46a0d5041c4b04c156fc4d2a7d6": {
     "model_module": "@jupyter-widgets/base",
     "model_module_version": "1.2.0",
     "model_name": "LayoutModel",
     "state": {
      "_model_module": "@jupyter-widgets/base",
      "_model_module_version": "1.2.0",
      "_model_name": "LayoutModel",
      "_view_count": null,
      "_view_module": "@jupyter-widgets/base",
      "_view_module_version": "1.2.0",
      "_view_name": "LayoutView",
      "align_content": null,
      "align_items": null,
      "align_self": null,
      "border": null,
      "bottom": null,
      "display": null,
      "flex": null,
      "flex_flow": null,
      "grid_area": null,
      "grid_auto_columns": null,
      "grid_auto_flow": null,
      "grid_auto_rows": null,
      "grid_column": null,
      "grid_gap": null,
      "grid_row": null,
      "grid_template_areas": null,
      "grid_template_columns": null,
      "grid_template_rows": null,
      "height": null,
      "justify_content": null,
      "justify_items": null,
      "left": null,
      "margin": null,
      "max_height": null,
      "max_width": null,
      "min_height": null,
      "min_width": null,
      "object_fit": null,
      "object_position": null,
      "order": null,
      "overflow": null,
      "overflow_x": null,
      "overflow_y": null,
      "padding": null,
      "right": null,
      "top": null,
      "visibility": null,
      "width": null
     }
    },
    "79ac4f5dbecb4ab78c0e38d077c5eebd": {
     "model_module": "@jupyter-widgets/controls",
     "model_module_version": "1.5.0",
     "model_name": "DescriptionStyleModel",
     "state": {
      "_model_module": "@jupyter-widgets/controls",
      "_model_module_version": "1.5.0",
      "_model_name": "DescriptionStyleModel",
      "_view_count": null,
      "_view_module": "@jupyter-widgets/base",
      "_view_module_version": "1.2.0",
      "_view_name": "StyleView",
      "description_width": ""
     }
    },
    "7a3af1a4f5b4415482d58e140149e66b": {
     "model_module": "@jupyter-widgets/controls",
     "model_module_version": "1.5.0",
     "model_name": "DescriptionStyleModel",
     "state": {
      "_model_module": "@jupyter-widgets/controls",
      "_model_module_version": "1.5.0",
      "_model_name": "DescriptionStyleModel",
      "_view_count": null,
      "_view_module": "@jupyter-widgets/base",
      "_view_module_version": "1.2.0",
      "_view_name": "StyleView",
      "description_width": ""
     }
    },
    "7b786e8d0be7438a852cfe574f6387fd": {
     "model_module": "@jupyter-widgets/controls",
     "model_module_version": "1.5.0",
     "model_name": "HBoxModel",
     "state": {
      "_dom_classes": [],
      "_model_module": "@jupyter-widgets/controls",
      "_model_module_version": "1.5.0",
      "_model_name": "HBoxModel",
      "_view_count": null,
      "_view_module": "@jupyter-widgets/controls",
      "_view_module_version": "1.5.0",
      "_view_name": "HBoxView",
      "box_style": "",
      "children": [
       "IPY_MODEL_abe82e98b56e4574aa102f5668acf059",
       "IPY_MODEL_b92b2a16ecf34e01bfd1573e745fd8d6",
       "IPY_MODEL_ed2feafc088a4e19a9e933f7551dc271"
      ],
      "layout": "IPY_MODEL_d976e9a70962423db062148cb21ec2b2"
     }
    },
    "7c7edcbcd8664dada21266b144c9f5de": {
     "model_module": "@jupyter-widgets/controls",
     "model_module_version": "1.5.0",
     "model_name": "HTMLModel",
     "state": {
      "_dom_classes": [],
      "_model_module": "@jupyter-widgets/controls",
      "_model_module_version": "1.5.0",
      "_model_name": "HTMLModel",
      "_view_count": null,
      "_view_module": "@jupyter-widgets/controls",
      "_view_module_version": "1.5.0",
      "_view_name": "HTMLView",
      "description": "",
      "description_tooltip": null,
      "layout": "IPY_MODEL_19ffba008fda4107b06796a55d73c4dd",
      "placeholder": "​",
      "style": "IPY_MODEL_7a3af1a4f5b4415482d58e140149e66b",
      "value": "sentence_bert_config.json: 100%"
     }
    },
    "7c8ff5569769424aad46f6a60324d532": {
     "model_module": "@jupyter-widgets/controls",
     "model_module_version": "1.5.0",
     "model_name": "DescriptionStyleModel",
     "state": {
      "_model_module": "@jupyter-widgets/controls",
      "_model_module_version": "1.5.0",
      "_model_name": "DescriptionStyleModel",
      "_view_count": null,
      "_view_module": "@jupyter-widgets/base",
      "_view_module_version": "1.2.0",
      "_view_name": "StyleView",
      "description_width": ""
     }
    },
    "7f26006cc6b240cd849f9608bc0bc5ce": {
     "model_module": "@jupyter-widgets/base",
     "model_module_version": "1.2.0",
     "model_name": "LayoutModel",
     "state": {
      "_model_module": "@jupyter-widgets/base",
      "_model_module_version": "1.2.0",
      "_model_name": "LayoutModel",
      "_view_count": null,
      "_view_module": "@jupyter-widgets/base",
      "_view_module_version": "1.2.0",
      "_view_name": "LayoutView",
      "align_content": null,
      "align_items": null,
      "align_self": null,
      "border": null,
      "bottom": null,
      "display": null,
      "flex": null,
      "flex_flow": null,
      "grid_area": null,
      "grid_auto_columns": null,
      "grid_auto_flow": null,
      "grid_auto_rows": null,
      "grid_column": null,
      "grid_gap": null,
      "grid_row": null,
      "grid_template_areas": null,
      "grid_template_columns": null,
      "grid_template_rows": null,
      "height": null,
      "justify_content": null,
      "justify_items": null,
      "left": null,
      "margin": null,
      "max_height": null,
      "max_width": null,
      "min_height": null,
      "min_width": null,
      "object_fit": null,
      "object_position": null,
      "order": null,
      "overflow": null,
      "overflow_x": null,
      "overflow_y": null,
      "padding": null,
      "right": null,
      "top": null,
      "visibility": null,
      "width": null
     }
    },
    "842a563323dd4bd6913b7e144bf4d738": {
     "model_module": "@jupyter-widgets/base",
     "model_module_version": "1.2.0",
     "model_name": "LayoutModel",
     "state": {
      "_model_module": "@jupyter-widgets/base",
      "_model_module_version": "1.2.0",
      "_model_name": "LayoutModel",
      "_view_count": null,
      "_view_module": "@jupyter-widgets/base",
      "_view_module_version": "1.2.0",
      "_view_name": "LayoutView",
      "align_content": null,
      "align_items": null,
      "align_self": null,
      "border": null,
      "bottom": null,
      "display": null,
      "flex": null,
      "flex_flow": null,
      "grid_area": null,
      "grid_auto_columns": null,
      "grid_auto_flow": null,
      "grid_auto_rows": null,
      "grid_column": null,
      "grid_gap": null,
      "grid_row": null,
      "grid_template_areas": null,
      "grid_template_columns": null,
      "grid_template_rows": null,
      "height": null,
      "justify_content": null,
      "justify_items": null,
      "left": null,
      "margin": null,
      "max_height": null,
      "max_width": null,
      "min_height": null,
      "min_width": null,
      "object_fit": null,
      "object_position": null,
      "order": null,
      "overflow": null,
      "overflow_x": null,
      "overflow_y": null,
      "padding": null,
      "right": null,
      "top": null,
      "visibility": null,
      "width": null
     }
    },
    "858e1e048b324ee8a0ddb69fe685f377": {
     "model_module": "@jupyter-widgets/controls",
     "model_module_version": "1.5.0",
     "model_name": "ProgressStyleModel",
     "state": {
      "_model_module": "@jupyter-widgets/controls",
      "_model_module_version": "1.5.0",
      "_model_name": "ProgressStyleModel",
      "_view_count": null,
      "_view_module": "@jupyter-widgets/base",
      "_view_module_version": "1.2.0",
      "_view_name": "StyleView",
      "bar_color": null,
      "description_width": ""
     }
    },
    "88bfd8944cf94bb887cacec2e7989951": {
     "model_module": "@jupyter-widgets/base",
     "model_module_version": "1.2.0",
     "model_name": "LayoutModel",
     "state": {
      "_model_module": "@jupyter-widgets/base",
      "_model_module_version": "1.2.0",
      "_model_name": "LayoutModel",
      "_view_count": null,
      "_view_module": "@jupyter-widgets/base",
      "_view_module_version": "1.2.0",
      "_view_name": "LayoutView",
      "align_content": null,
      "align_items": null,
      "align_self": null,
      "border": null,
      "bottom": null,
      "display": null,
      "flex": null,
      "flex_flow": null,
      "grid_area": null,
      "grid_auto_columns": null,
      "grid_auto_flow": null,
      "grid_auto_rows": null,
      "grid_column": null,
      "grid_gap": null,
      "grid_row": null,
      "grid_template_areas": null,
      "grid_template_columns": null,
      "grid_template_rows": null,
      "height": null,
      "justify_content": null,
      "justify_items": null,
      "left": null,
      "margin": null,
      "max_height": null,
      "max_width": null,
      "min_height": null,
      "min_width": null,
      "object_fit": null,
      "object_position": null,
      "order": null,
      "overflow": null,
      "overflow_x": null,
      "overflow_y": null,
      "padding": null,
      "right": null,
      "top": null,
      "visibility": null,
      "width": null
     }
    },
    "8f1c9b4baa1b4f0d9b2c14cfbefcce14": {
     "model_module": "@jupyter-widgets/controls",
     "model_module_version": "1.5.0",
     "model_name": "DescriptionStyleModel",
     "state": {
      "_model_module": "@jupyter-widgets/controls",
      "_model_module_version": "1.5.0",
      "_model_name": "DescriptionStyleModel",
      "_view_count": null,
      "_view_module": "@jupyter-widgets/base",
      "_view_module_version": "1.2.0",
      "_view_name": "StyleView",
      "description_width": ""
     }
    },
    "9031fab4e0f947289f78e7012c41b64c": {
     "model_module": "@jupyter-widgets/base",
     "model_module_version": "1.2.0",
     "model_name": "LayoutModel",
     "state": {
      "_model_module": "@jupyter-widgets/base",
      "_model_module_version": "1.2.0",
      "_model_name": "LayoutModel",
      "_view_count": null,
      "_view_module": "@jupyter-widgets/base",
      "_view_module_version": "1.2.0",
      "_view_name": "LayoutView",
      "align_content": null,
      "align_items": null,
      "align_self": null,
      "border": null,
      "bottom": null,
      "display": null,
      "flex": null,
      "flex_flow": null,
      "grid_area": null,
      "grid_auto_columns": null,
      "grid_auto_flow": null,
      "grid_auto_rows": null,
      "grid_column": null,
      "grid_gap": null,
      "grid_row": null,
      "grid_template_areas": null,
      "grid_template_columns": null,
      "grid_template_rows": null,
      "height": null,
      "justify_content": null,
      "justify_items": null,
      "left": null,
      "margin": null,
      "max_height": null,
      "max_width": null,
      "min_height": null,
      "min_width": null,
      "object_fit": null,
      "object_position": null,
      "order": null,
      "overflow": null,
      "overflow_x": null,
      "overflow_y": null,
      "padding": null,
      "right": null,
      "top": null,
      "visibility": null,
      "width": null
     }
    },
    "9eb08887de344177ad213925cdd85ff4": {
     "model_module": "@jupyter-widgets/base",
     "model_module_version": "1.2.0",
     "model_name": "LayoutModel",
     "state": {
      "_model_module": "@jupyter-widgets/base",
      "_model_module_version": "1.2.0",
      "_model_name": "LayoutModel",
      "_view_count": null,
      "_view_module": "@jupyter-widgets/base",
      "_view_module_version": "1.2.0",
      "_view_name": "LayoutView",
      "align_content": null,
      "align_items": null,
      "align_self": null,
      "border": null,
      "bottom": null,
      "display": null,
      "flex": null,
      "flex_flow": null,
      "grid_area": null,
      "grid_auto_columns": null,
      "grid_auto_flow": null,
      "grid_auto_rows": null,
      "grid_column": null,
      "grid_gap": null,
      "grid_row": null,
      "grid_template_areas": null,
      "grid_template_columns": null,
      "grid_template_rows": null,
      "height": null,
      "justify_content": null,
      "justify_items": null,
      "left": null,
      "margin": null,
      "max_height": null,
      "max_width": null,
      "min_height": null,
      "min_width": null,
      "object_fit": null,
      "object_position": null,
      "order": null,
      "overflow": null,
      "overflow_x": null,
      "overflow_y": null,
      "padding": null,
      "right": null,
      "top": null,
      "visibility": null,
      "width": null
     }
    },
    "a02c0bd0e68c42f9802a7e49c84b5ed1": {
     "model_module": "@jupyter-widgets/controls",
     "model_module_version": "1.5.0",
     "model_name": "DescriptionStyleModel",
     "state": {
      "_model_module": "@jupyter-widgets/controls",
      "_model_module_version": "1.5.0",
      "_model_name": "DescriptionStyleModel",
      "_view_count": null,
      "_view_module": "@jupyter-widgets/base",
      "_view_module_version": "1.2.0",
      "_view_name": "StyleView",
      "description_width": ""
     }
    },
    "a03be1fae3144d35ae190027b15ee69b": {
     "model_module": "@jupyter-widgets/controls",
     "model_module_version": "1.5.0",
     "model_name": "DescriptionStyleModel",
     "state": {
      "_model_module": "@jupyter-widgets/controls",
      "_model_module_version": "1.5.0",
      "_model_name": "DescriptionStyleModel",
      "_view_count": null,
      "_view_module": "@jupyter-widgets/base",
      "_view_module_version": "1.2.0",
      "_view_name": "StyleView",
      "description_width": ""
     }
    },
    "a78505109d3c4108b157c03a18e99bb6": {
     "model_module": "@jupyter-widgets/base",
     "model_module_version": "1.2.0",
     "model_name": "LayoutModel",
     "state": {
      "_model_module": "@jupyter-widgets/base",
      "_model_module_version": "1.2.0",
      "_model_name": "LayoutModel",
      "_view_count": null,
      "_view_module": "@jupyter-widgets/base",
      "_view_module_version": "1.2.0",
      "_view_name": "LayoutView",
      "align_content": null,
      "align_items": null,
      "align_self": null,
      "border": null,
      "bottom": null,
      "display": null,
      "flex": null,
      "flex_flow": null,
      "grid_area": null,
      "grid_auto_columns": null,
      "grid_auto_flow": null,
      "grid_auto_rows": null,
      "grid_column": null,
      "grid_gap": null,
      "grid_row": null,
      "grid_template_areas": null,
      "grid_template_columns": null,
      "grid_template_rows": null,
      "height": null,
      "justify_content": null,
      "justify_items": null,
      "left": null,
      "margin": null,
      "max_height": null,
      "max_width": null,
      "min_height": null,
      "min_width": null,
      "object_fit": null,
      "object_position": null,
      "order": null,
      "overflow": null,
      "overflow_x": null,
      "overflow_y": null,
      "padding": null,
      "right": null,
      "top": null,
      "visibility": null,
      "width": null
     }
    },
    "a80cc3498c104fe2acc4a276b9e7fb30": {
     "model_module": "@jupyter-widgets/base",
     "model_module_version": "1.2.0",
     "model_name": "LayoutModel",
     "state": {
      "_model_module": "@jupyter-widgets/base",
      "_model_module_version": "1.2.0",
      "_model_name": "LayoutModel",
      "_view_count": null,
      "_view_module": "@jupyter-widgets/base",
      "_view_module_version": "1.2.0",
      "_view_name": "LayoutView",
      "align_content": null,
      "align_items": null,
      "align_self": null,
      "border": null,
      "bottom": null,
      "display": null,
      "flex": null,
      "flex_flow": null,
      "grid_area": null,
      "grid_auto_columns": null,
      "grid_auto_flow": null,
      "grid_auto_rows": null,
      "grid_column": null,
      "grid_gap": null,
      "grid_row": null,
      "grid_template_areas": null,
      "grid_template_columns": null,
      "grid_template_rows": null,
      "height": null,
      "justify_content": null,
      "justify_items": null,
      "left": null,
      "margin": null,
      "max_height": null,
      "max_width": null,
      "min_height": null,
      "min_width": null,
      "object_fit": null,
      "object_position": null,
      "order": null,
      "overflow": null,
      "overflow_x": null,
      "overflow_y": null,
      "padding": null,
      "right": null,
      "top": null,
      "visibility": null,
      "width": null
     }
    },
    "a858a1afdd45446a8eb6c40a6094d6ba": {
     "model_module": "@jupyter-widgets/controls",
     "model_module_version": "1.5.0",
     "model_name": "FloatProgressModel",
     "state": {
      "_dom_classes": [],
      "_model_module": "@jupyter-widgets/controls",
      "_model_module_version": "1.5.0",
      "_model_name": "FloatProgressModel",
      "_view_count": null,
      "_view_module": "@jupyter-widgets/controls",
      "_view_module_version": "1.5.0",
      "_view_name": "ProgressView",
      "bar_style": "success",
      "description": "",
      "description_tooltip": null,
      "layout": "IPY_MODEL_dfa44288797e4a1b9b9f05072c025478",
      "max": 231508,
      "min": 0,
      "orientation": "horizontal",
      "style": "IPY_MODEL_1be76586657f493baba89d9d47172a55",
      "value": 231508
     }
    },
    "a93807fa280e40b481c5255c1dd41f04": {
     "model_module": "@jupyter-widgets/controls",
     "model_module_version": "1.5.0",
     "model_name": "DescriptionStyleModel",
     "state": {
      "_model_module": "@jupyter-widgets/controls",
      "_model_module_version": "1.5.0",
      "_model_name": "DescriptionStyleModel",
      "_view_count": null,
      "_view_module": "@jupyter-widgets/base",
      "_view_module_version": "1.2.0",
      "_view_name": "StyleView",
      "description_width": ""
     }
    },
    "abe82e98b56e4574aa102f5668acf059": {
     "model_module": "@jupyter-widgets/controls",
     "model_module_version": "1.5.0",
     "model_name": "HTMLModel",
     "state": {
      "_dom_classes": [],
      "_model_module": "@jupyter-widgets/controls",
      "_model_module_version": "1.5.0",
      "_model_name": "HTMLModel",
      "_view_count": null,
      "_view_module": "@jupyter-widgets/controls",
      "_view_module_version": "1.5.0",
      "_view_name": "HTMLView",
      "description": "",
      "description_tooltip": null,
      "layout": "IPY_MODEL_d2f53e83054a40629cc03c1270da3c39",
      "placeholder": "​",
      "style": "IPY_MODEL_2bcee6ddbfc447e690e822decf74be02",
      "value": "config_sentence_transformers.json: 100%"
     }
    },
    "ac186c5e9fd74c9eac4c06dd50855936": {
     "model_module": "@jupyter-widgets/controls",
     "model_module_version": "1.5.0",
     "model_name": "FloatProgressModel",
     "state": {
      "_dom_classes": [],
      "_model_module": "@jupyter-widgets/controls",
      "_model_module_version": "1.5.0",
      "_model_name": "FloatProgressModel",
      "_view_count": null,
      "_view_module": "@jupyter-widgets/controls",
      "_view_module_version": "1.5.0",
      "_view_name": "ProgressView",
      "bar_style": "success",
      "description": "",
      "description_tooltip": null,
      "layout": "IPY_MODEL_64f4fd050de64272befda3ef2cfef912",
      "max": 53,
      "min": 0,
      "orientation": "horizontal",
      "style": "IPY_MODEL_7777308dea0244c2be6eecf1f3704a22",
      "value": 53
     }
    },
    "acbc722e966448c7a42259f704aba82f": {
     "model_module": "@jupyter-widgets/base",
     "model_module_version": "1.2.0",
     "model_name": "LayoutModel",
     "state": {
      "_model_module": "@jupyter-widgets/base",
      "_model_module_version": "1.2.0",
      "_model_name": "LayoutModel",
      "_view_count": null,
      "_view_module": "@jupyter-widgets/base",
      "_view_module_version": "1.2.0",
      "_view_name": "LayoutView",
      "align_content": null,
      "align_items": null,
      "align_self": null,
      "border": null,
      "bottom": null,
      "display": null,
      "flex": null,
      "flex_flow": null,
      "grid_area": null,
      "grid_auto_columns": null,
      "grid_auto_flow": null,
      "grid_auto_rows": null,
      "grid_column": null,
      "grid_gap": null,
      "grid_row": null,
      "grid_template_areas": null,
      "grid_template_columns": null,
      "grid_template_rows": null,
      "height": null,
      "justify_content": null,
      "justify_items": null,
      "left": null,
      "margin": null,
      "max_height": null,
      "max_width": null,
      "min_height": null,
      "min_width": null,
      "object_fit": null,
      "object_position": null,
      "order": null,
      "overflow": null,
      "overflow_x": null,
      "overflow_y": null,
      "padding": null,
      "right": null,
      "top": null,
      "visibility": null,
      "width": null
     }
    },
    "acee102de11449bcbdb3193c6ffe21d4": {
     "model_module": "@jupyter-widgets/base",
     "model_module_version": "1.2.0",
     "model_name": "LayoutModel",
     "state": {
      "_model_module": "@jupyter-widgets/base",
      "_model_module_version": "1.2.0",
      "_model_name": "LayoutModel",
      "_view_count": null,
      "_view_module": "@jupyter-widgets/base",
      "_view_module_version": "1.2.0",
      "_view_name": "LayoutView",
      "align_content": null,
      "align_items": null,
      "align_self": null,
      "border": null,
      "bottom": null,
      "display": null,
      "flex": null,
      "flex_flow": null,
      "grid_area": null,
      "grid_auto_columns": null,
      "grid_auto_flow": null,
      "grid_auto_rows": null,
      "grid_column": null,
      "grid_gap": null,
      "grid_row": null,
      "grid_template_areas": null,
      "grid_template_columns": null,
      "grid_template_rows": null,
      "height": null,
      "justify_content": null,
      "justify_items": null,
      "left": null,
      "margin": null,
      "max_height": null,
      "max_width": null,
      "min_height": null,
      "min_width": null,
      "object_fit": null,
      "object_position": null,
      "order": null,
      "overflow": null,
      "overflow_x": null,
      "overflow_y": null,
      "padding": null,
      "right": null,
      "top": null,
      "visibility": null,
      "width": null
     }
    },
    "ad581a8f94b74141baf4d80cc7890d1b": {
     "model_module": "@jupyter-widgets/controls",
     "model_module_version": "1.5.0",
     "model_name": "HTMLModel",
     "state": {
      "_dom_classes": [],
      "_model_module": "@jupyter-widgets/controls",
      "_model_module_version": "1.5.0",
      "_model_name": "HTMLModel",
      "_view_count": null,
      "_view_module": "@jupyter-widgets/controls",
      "_view_module_version": "1.5.0",
      "_view_name": "HTMLView",
      "description": "",
      "description_tooltip": null,
      "layout": "IPY_MODEL_0a900cb5417545468e53c59d66d2e5bd",
      "placeholder": "​",
      "style": "IPY_MODEL_2c0d1da35f7c4907b07034c759d98f4d",
      "value": " 349/349 [00:00&lt;00:00, 16.9kB/s]"
     }
    },
    "adcd43c1ecb84bde9ae9c9218296f293": {
     "model_module": "@jupyter-widgets/controls",
     "model_module_version": "1.5.0",
     "model_name": "HBoxModel",
     "state": {
      "_dom_classes": [],
      "_model_module": "@jupyter-widgets/controls",
      "_model_module_version": "1.5.0",
      "_model_name": "HBoxModel",
      "_view_count": null,
      "_view_module": "@jupyter-widgets/controls",
      "_view_module_version": "1.5.0",
      "_view_name": "HBoxView",
      "box_style": "",
      "children": [
       "IPY_MODEL_ed3854aa1b484170bc074b86b6093a1e",
       "IPY_MODEL_09dd8141919347189b6268a11abf8fd5",
       "IPY_MODEL_29cbe9aefb9c49f391976e74b0204952"
      ],
      "layout": "IPY_MODEL_f2e9c52f67f74b31b388323266019dc8"
     }
    },
    "b361cf85a79c4dca96695895b21651b0": {
     "model_module": "@jupyter-widgets/controls",
     "model_module_version": "1.5.0",
     "model_name": "HBoxModel",
     "state": {
      "_dom_classes": [],
      "_model_module": "@jupyter-widgets/controls",
      "_model_module_version": "1.5.0",
      "_model_name": "HBoxModel",
      "_view_count": null,
      "_view_module": "@jupyter-widgets/controls",
      "_view_module_version": "1.5.0",
      "_view_name": "HBoxView",
      "box_style": "",
      "children": [
       "IPY_MODEL_4706f81314d8423888eace4ff87066ac",
       "IPY_MODEL_6642f6f802944416badc11fe834d687b",
       "IPY_MODEL_eb47d743a2ba4c94bc38af5214536897"
      ],
      "layout": "IPY_MODEL_0bba04c1692242318d733e2278464b3c"
     }
    },
    "b3db694dee8846d3acf2016d68681fd7": {
     "model_module": "@jupyter-widgets/base",
     "model_module_version": "1.2.0",
     "model_name": "LayoutModel",
     "state": {
      "_model_module": "@jupyter-widgets/base",
      "_model_module_version": "1.2.0",
      "_model_name": "LayoutModel",
      "_view_count": null,
      "_view_module": "@jupyter-widgets/base",
      "_view_module_version": "1.2.0",
      "_view_name": "LayoutView",
      "align_content": null,
      "align_items": null,
      "align_self": null,
      "border": null,
      "bottom": null,
      "display": null,
      "flex": null,
      "flex_flow": null,
      "grid_area": null,
      "grid_auto_columns": null,
      "grid_auto_flow": null,
      "grid_auto_rows": null,
      "grid_column": null,
      "grid_gap": null,
      "grid_row": null,
      "grid_template_areas": null,
      "grid_template_columns": null,
      "grid_template_rows": null,
      "height": null,
      "justify_content": null,
      "justify_items": null,
      "left": null,
      "margin": null,
      "max_height": null,
      "max_width": null,
      "min_height": null,
      "min_width": null,
      "object_fit": null,
      "object_position": null,
      "order": null,
      "overflow": null,
      "overflow_x": null,
      "overflow_y": null,
      "padding": null,
      "right": null,
      "top": null,
      "visibility": null,
      "width": null
     }
    },
    "b46e780cd0a04a12bae3c414b75f2cab": {
     "model_module": "@jupyter-widgets/controls",
     "model_module_version": "1.5.0",
     "model_name": "HTMLModel",
     "state": {
      "_dom_classes": [],
      "_model_module": "@jupyter-widgets/controls",
      "_model_module_version": "1.5.0",
      "_model_name": "HTMLModel",
      "_view_count": null,
      "_view_module": "@jupyter-widgets/controls",
      "_view_module_version": "1.5.0",
      "_view_name": "HTMLView",
      "description": "",
      "description_tooltip": null,
      "layout": "IPY_MODEL_744d9c867ca0499fa02a791fcc8ea7e7",
      "placeholder": "​",
      "style": "IPY_MODEL_eb7b42058da947c09407613be0ba84d0",
      "value": " 190/190 [00:00&lt;00:00, 11.5kB/s]"
     }
    },
    "b49faa9d8b2f4760ad76c2eb6ad3fedd": {
     "model_module": "@jupyter-widgets/controls",
     "model_module_version": "1.5.0",
     "model_name": "ProgressStyleModel",
     "state": {
      "_model_module": "@jupyter-widgets/controls",
      "_model_module_version": "1.5.0",
      "_model_name": "ProgressStyleModel",
      "_view_count": null,
      "_view_module": "@jupyter-widgets/base",
      "_view_module_version": "1.2.0",
      "_view_name": "StyleView",
      "bar_color": null,
      "description_width": ""
     }
    },
    "b92b2a16ecf34e01bfd1573e745fd8d6": {
     "model_module": "@jupyter-widgets/controls",
     "model_module_version": "1.5.0",
     "model_name": "FloatProgressModel",
     "state": {
      "_dom_classes": [],
      "_model_module": "@jupyter-widgets/controls",
      "_model_module_version": "1.5.0",
      "_model_name": "FloatProgressModel",
      "_view_count": null,
      "_view_module": "@jupyter-widgets/controls",
      "_view_module_version": "1.5.0",
      "_view_name": "ProgressView",
      "bar_style": "success",
      "description": "",
      "description_tooltip": null,
      "layout": "IPY_MODEL_a80cc3498c104fe2acc4a276b9e7fb30",
      "max": 116,
      "min": 0,
      "orientation": "horizontal",
      "style": "IPY_MODEL_75586789270a4efcb6e0fd1debc9c225",
      "value": 116
     }
    },
    "bb1e91b9c751403c968d3df61cd5417c": {
     "model_module": "@jupyter-widgets/controls",
     "model_module_version": "1.5.0",
     "model_name": "DescriptionStyleModel",
     "state": {
      "_model_module": "@jupyter-widgets/controls",
      "_model_module_version": "1.5.0",
      "_model_name": "DescriptionStyleModel",
      "_view_count": null,
      "_view_module": "@jupyter-widgets/base",
      "_view_module_version": "1.2.0",
      "_view_name": "StyleView",
      "description_width": ""
     }
    },
    "bc88037a504b4a9c881b5831490e42d0": {
     "model_module": "@jupyter-widgets/base",
     "model_module_version": "1.2.0",
     "model_name": "LayoutModel",
     "state": {
      "_model_module": "@jupyter-widgets/base",
      "_model_module_version": "1.2.0",
      "_model_name": "LayoutModel",
      "_view_count": null,
      "_view_module": "@jupyter-widgets/base",
      "_view_module_version": "1.2.0",
      "_view_name": "LayoutView",
      "align_content": null,
      "align_items": null,
      "align_self": null,
      "border": null,
      "bottom": null,
      "display": null,
      "flex": null,
      "flex_flow": null,
      "grid_area": null,
      "grid_auto_columns": null,
      "grid_auto_flow": null,
      "grid_auto_rows": null,
      "grid_column": null,
      "grid_gap": null,
      "grid_row": null,
      "grid_template_areas": null,
      "grid_template_columns": null,
      "grid_template_rows": null,
      "height": null,
      "justify_content": null,
      "justify_items": null,
      "left": null,
      "margin": null,
      "max_height": null,
      "max_width": null,
      "min_height": null,
      "min_width": null,
      "object_fit": null,
      "object_position": null,
      "order": null,
      "overflow": null,
      "overflow_x": null,
      "overflow_y": null,
      "padding": null,
      "right": null,
      "top": null,
      "visibility": null,
      "width": null
     }
    },
    "c10bcf8050694d8a8be51ec6092e5e03": {
     "model_module": "@jupyter-widgets/controls",
     "model_module_version": "1.5.0",
     "model_name": "HBoxModel",
     "state": {
      "_dom_classes": [],
      "_model_module": "@jupyter-widgets/controls",
      "_model_module_version": "1.5.0",
      "_model_name": "HBoxModel",
      "_view_count": null,
      "_view_module": "@jupyter-widgets/controls",
      "_view_module_version": "1.5.0",
      "_view_name": "HBoxView",
      "box_style": "",
      "children": [
       "IPY_MODEL_6a67d78ebbc24f05b7ec24dd2b274745",
       "IPY_MODEL_62f9673afdb64ce1bda2b13536e96f2b",
       "IPY_MODEL_025969b4b1d643b99066d4331cb37aea"
      ],
      "layout": "IPY_MODEL_5dc35828d7b646a3b7149ec81cfa0251"
     }
    },
    "c123457be89f46b4b48ff6ad72332874": {
     "model_module": "@jupyter-widgets/base",
     "model_module_version": "1.2.0",
     "model_name": "LayoutModel",
     "state": {
      "_model_module": "@jupyter-widgets/base",
      "_model_module_version": "1.2.0",
      "_model_name": "LayoutModel",
      "_view_count": null,
      "_view_module": "@jupyter-widgets/base",
      "_view_module_version": "1.2.0",
      "_view_name": "LayoutView",
      "align_content": null,
      "align_items": null,
      "align_self": null,
      "border": null,
      "bottom": null,
      "display": null,
      "flex": null,
      "flex_flow": null,
      "grid_area": null,
      "grid_auto_columns": null,
      "grid_auto_flow": null,
      "grid_auto_rows": null,
      "grid_column": null,
      "grid_gap": null,
      "grid_row": null,
      "grid_template_areas": null,
      "grid_template_columns": null,
      "grid_template_rows": null,
      "height": null,
      "justify_content": null,
      "justify_items": null,
      "left": null,
      "margin": null,
      "max_height": null,
      "max_width": null,
      "min_height": null,
      "min_width": null,
      "object_fit": null,
      "object_position": null,
      "order": null,
      "overflow": null,
      "overflow_x": null,
      "overflow_y": null,
      "padding": null,
      "right": null,
      "top": null,
      "visibility": null,
      "width": null
     }
    },
    "c4ec4535d2544eb897a76b9e9faa00e3": {
     "model_module": "@jupyter-widgets/controls",
     "model_module_version": "1.5.0",
     "model_name": "DescriptionStyleModel",
     "state": {
      "_model_module": "@jupyter-widgets/controls",
      "_model_module_version": "1.5.0",
      "_model_name": "DescriptionStyleModel",
      "_view_count": null,
      "_view_module": "@jupyter-widgets/base",
      "_view_module_version": "1.2.0",
      "_view_name": "StyleView",
      "description_width": ""
     }
    },
    "c6658252535b41ed8209d7c93e4ccb3b": {
     "model_module": "@jupyter-widgets/controls",
     "model_module_version": "1.5.0",
     "model_name": "FloatProgressModel",
     "state": {
      "_dom_classes": [],
      "_model_module": "@jupyter-widgets/controls",
      "_model_module_version": "1.5.0",
      "_model_name": "FloatProgressModel",
      "_view_count": null,
      "_view_module": "@jupyter-widgets/controls",
      "_view_module_version": "1.5.0",
      "_view_name": "ProgressView",
      "bar_style": "success",
      "description": "",
      "description_tooltip": null,
      "layout": "IPY_MODEL_7f26006cc6b240cd849f9608bc0bc5ce",
      "max": 352,
      "min": 0,
      "orientation": "horizontal",
      "style": "IPY_MODEL_611ca9e3378749009dbe46777b549127",
      "value": 352
     }
    },
    "c7914e77cf974c7fb60f1d368e471338": {
     "model_module": "@jupyter-widgets/base",
     "model_module_version": "1.2.0",
     "model_name": "LayoutModel",
     "state": {
      "_model_module": "@jupyter-widgets/base",
      "_model_module_version": "1.2.0",
      "_model_name": "LayoutModel",
      "_view_count": null,
      "_view_module": "@jupyter-widgets/base",
      "_view_module_version": "1.2.0",
      "_view_name": "LayoutView",
      "align_content": null,
      "align_items": null,
      "align_self": null,
      "border": null,
      "bottom": null,
      "display": null,
      "flex": null,
      "flex_flow": null,
      "grid_area": null,
      "grid_auto_columns": null,
      "grid_auto_flow": null,
      "grid_auto_rows": null,
      "grid_column": null,
      "grid_gap": null,
      "grid_row": null,
      "grid_template_areas": null,
      "grid_template_columns": null,
      "grid_template_rows": null,
      "height": null,
      "justify_content": null,
      "justify_items": null,
      "left": null,
      "margin": null,
      "max_height": null,
      "max_width": null,
      "min_height": null,
      "min_width": null,
      "object_fit": null,
      "object_position": null,
      "order": null,
      "overflow": null,
      "overflow_x": null,
      "overflow_y": null,
      "padding": null,
      "right": null,
      "top": null,
      "visibility": null,
      "width": null
     }
    },
    "ca9ea383ce824625a0486056eafb43da": {
     "model_module": "@jupyter-widgets/base",
     "model_module_version": "1.2.0",
     "model_name": "LayoutModel",
     "state": {
      "_model_module": "@jupyter-widgets/base",
      "_model_module_version": "1.2.0",
      "_model_name": "LayoutModel",
      "_view_count": null,
      "_view_module": "@jupyter-widgets/base",
      "_view_module_version": "1.2.0",
      "_view_name": "LayoutView",
      "align_content": null,
      "align_items": null,
      "align_self": null,
      "border": null,
      "bottom": null,
      "display": null,
      "flex": null,
      "flex_flow": null,
      "grid_area": null,
      "grid_auto_columns": null,
      "grid_auto_flow": null,
      "grid_auto_rows": null,
      "grid_column": null,
      "grid_gap": null,
      "grid_row": null,
      "grid_template_areas": null,
      "grid_template_columns": null,
      "grid_template_rows": null,
      "height": null,
      "justify_content": null,
      "justify_items": null,
      "left": null,
      "margin": null,
      "max_height": null,
      "max_width": null,
      "min_height": null,
      "min_width": null,
      "object_fit": null,
      "object_position": null,
      "order": null,
      "overflow": null,
      "overflow_x": null,
      "overflow_y": null,
      "padding": null,
      "right": null,
      "top": null,
      "visibility": null,
      "width": null
     }
    },
    "cd0210303db04559a62acbeddbce8baf": {
     "model_module": "@jupyter-widgets/base",
     "model_module_version": "1.2.0",
     "model_name": "LayoutModel",
     "state": {
      "_model_module": "@jupyter-widgets/base",
      "_model_module_version": "1.2.0",
      "_model_name": "LayoutModel",
      "_view_count": null,
      "_view_module": "@jupyter-widgets/base",
      "_view_module_version": "1.2.0",
      "_view_name": "LayoutView",
      "align_content": null,
      "align_items": null,
      "align_self": null,
      "border": null,
      "bottom": null,
      "display": null,
      "flex": null,
      "flex_flow": null,
      "grid_area": null,
      "grid_auto_columns": null,
      "grid_auto_flow": null,
      "grid_auto_rows": null,
      "grid_column": null,
      "grid_gap": null,
      "grid_row": null,
      "grid_template_areas": null,
      "grid_template_columns": null,
      "grid_template_rows": null,
      "height": null,
      "justify_content": null,
      "justify_items": null,
      "left": null,
      "margin": null,
      "max_height": null,
      "max_width": null,
      "min_height": null,
      "min_width": null,
      "object_fit": null,
      "object_position": null,
      "order": null,
      "overflow": null,
      "overflow_x": null,
      "overflow_y": null,
      "padding": null,
      "right": null,
      "top": null,
      "visibility": null,
      "width": null
     }
    },
    "ce3509c8115048f4893180d0231272c1": {
     "model_module": "@jupyter-widgets/base",
     "model_module_version": "1.2.0",
     "model_name": "LayoutModel",
     "state": {
      "_model_module": "@jupyter-widgets/base",
      "_model_module_version": "1.2.0",
      "_model_name": "LayoutModel",
      "_view_count": null,
      "_view_module": "@jupyter-widgets/base",
      "_view_module_version": "1.2.0",
      "_view_name": "LayoutView",
      "align_content": null,
      "align_items": null,
      "align_self": null,
      "border": null,
      "bottom": null,
      "display": null,
      "flex": null,
      "flex_flow": null,
      "grid_area": null,
      "grid_auto_columns": null,
      "grid_auto_flow": null,
      "grid_auto_rows": null,
      "grid_column": null,
      "grid_gap": null,
      "grid_row": null,
      "grid_template_areas": null,
      "grid_template_columns": null,
      "grid_template_rows": null,
      "height": null,
      "justify_content": null,
      "justify_items": null,
      "left": null,
      "margin": null,
      "max_height": null,
      "max_width": null,
      "min_height": null,
      "min_width": null,
      "object_fit": null,
      "object_position": null,
      "order": null,
      "overflow": null,
      "overflow_x": null,
      "overflow_y": null,
      "padding": null,
      "right": null,
      "top": null,
      "visibility": null,
      "width": null
     }
    },
    "ce77fa045f6a47a383e3f45ca818752c": {
     "model_module": "@jupyter-widgets/controls",
     "model_module_version": "1.5.0",
     "model_name": "HBoxModel",
     "state": {
      "_dom_classes": [],
      "_model_module": "@jupyter-widgets/controls",
      "_model_module_version": "1.5.0",
      "_model_name": "HBoxModel",
      "_view_count": null,
      "_view_module": "@jupyter-widgets/controls",
      "_view_module_version": "1.5.0",
      "_view_name": "HBoxView",
      "box_style": "",
      "children": [
       "IPY_MODEL_20d22c02228949a88dd73cbc66424dc5",
       "IPY_MODEL_607b96f938544910b9f4572e20f6584a",
       "IPY_MODEL_43283fc55e284b50abc164f351f347d8"
      ],
      "layout": "IPY_MODEL_88bfd8944cf94bb887cacec2e7989951"
     }
    },
    "d0a7c773049a45028803a71768985894": {
     "model_module": "@jupyter-widgets/controls",
     "model_module_version": "1.5.0",
     "model_name": "HBoxModel",
     "state": {
      "_dom_classes": [],
      "_model_module": "@jupyter-widgets/controls",
      "_model_module_version": "1.5.0",
      "_model_name": "HBoxModel",
      "_view_count": null,
      "_view_module": "@jupyter-widgets/controls",
      "_view_module_version": "1.5.0",
      "_view_name": "HBoxView",
      "box_style": "",
      "children": [
       "IPY_MODEL_e3d7c6e91bf54c0ea628283ffd758909",
       "IPY_MODEL_61cd1fb6a7864214920459af3f2a9a83",
       "IPY_MODEL_ad581a8f94b74141baf4d80cc7890d1b"
      ],
      "layout": "IPY_MODEL_ca9ea383ce824625a0486056eafb43da"
     }
    },
    "d2f53e83054a40629cc03c1270da3c39": {
     "model_module": "@jupyter-widgets/base",
     "model_module_version": "1.2.0",
     "model_name": "LayoutModel",
     "state": {
      "_model_module": "@jupyter-widgets/base",
      "_model_module_version": "1.2.0",
      "_model_name": "LayoutModel",
      "_view_count": null,
      "_view_module": "@jupyter-widgets/base",
      "_view_module_version": "1.2.0",
      "_view_name": "LayoutView",
      "align_content": null,
      "align_items": null,
      "align_self": null,
      "border": null,
      "bottom": null,
      "display": null,
      "flex": null,
      "flex_flow": null,
      "grid_area": null,
      "grid_auto_columns": null,
      "grid_auto_flow": null,
      "grid_auto_rows": null,
      "grid_column": null,
      "grid_gap": null,
      "grid_row": null,
      "grid_template_areas": null,
      "grid_template_columns": null,
      "grid_template_rows": null,
      "height": null,
      "justify_content": null,
      "justify_items": null,
      "left": null,
      "margin": null,
      "max_height": null,
      "max_width": null,
      "min_height": null,
      "min_width": null,
      "object_fit": null,
      "object_position": null,
      "order": null,
      "overflow": null,
      "overflow_x": null,
      "overflow_y": null,
      "padding": null,
      "right": null,
      "top": null,
      "visibility": null,
      "width": null
     }
    },
    "d79e228338734b16b6c54d29b31a3195": {
     "model_module": "@jupyter-widgets/base",
     "model_module_version": "1.2.0",
     "model_name": "LayoutModel",
     "state": {
      "_model_module": "@jupyter-widgets/base",
      "_model_module_version": "1.2.0",
      "_model_name": "LayoutModel",
      "_view_count": null,
      "_view_module": "@jupyter-widgets/base",
      "_view_module_version": "1.2.0",
      "_view_name": "LayoutView",
      "align_content": null,
      "align_items": null,
      "align_self": null,
      "border": null,
      "bottom": null,
      "display": null,
      "flex": null,
      "flex_flow": null,
      "grid_area": null,
      "grid_auto_columns": null,
      "grid_auto_flow": null,
      "grid_auto_rows": null,
      "grid_column": null,
      "grid_gap": null,
      "grid_row": null,
      "grid_template_areas": null,
      "grid_template_columns": null,
      "grid_template_rows": null,
      "height": null,
      "justify_content": null,
      "justify_items": null,
      "left": null,
      "margin": null,
      "max_height": null,
      "max_width": null,
      "min_height": null,
      "min_width": null,
      "object_fit": null,
      "object_position": null,
      "order": null,
      "overflow": null,
      "overflow_x": null,
      "overflow_y": null,
      "padding": null,
      "right": null,
      "top": null,
      "visibility": null,
      "width": null
     }
    },
    "d822bb181d554468ac95a2576ccb039c": {
     "model_module": "@jupyter-widgets/base",
     "model_module_version": "1.2.0",
     "model_name": "LayoutModel",
     "state": {
      "_model_module": "@jupyter-widgets/base",
      "_model_module_version": "1.2.0",
      "_model_name": "LayoutModel",
      "_view_count": null,
      "_view_module": "@jupyter-widgets/base",
      "_view_module_version": "1.2.0",
      "_view_name": "LayoutView",
      "align_content": null,
      "align_items": null,
      "align_self": null,
      "border": null,
      "bottom": null,
      "display": null,
      "flex": null,
      "flex_flow": null,
      "grid_area": null,
      "grid_auto_columns": null,
      "grid_auto_flow": null,
      "grid_auto_rows": null,
      "grid_column": null,
      "grid_gap": null,
      "grid_row": null,
      "grid_template_areas": null,
      "grid_template_columns": null,
      "grid_template_rows": null,
      "height": null,
      "justify_content": null,
      "justify_items": null,
      "left": null,
      "margin": null,
      "max_height": null,
      "max_width": null,
      "min_height": null,
      "min_width": null,
      "object_fit": null,
      "object_position": null,
      "order": null,
      "overflow": null,
      "overflow_x": null,
      "overflow_y": null,
      "padding": null,
      "right": null,
      "top": null,
      "visibility": null,
      "width": null
     }
    },
    "d976e9a70962423db062148cb21ec2b2": {
     "model_module": "@jupyter-widgets/base",
     "model_module_version": "1.2.0",
     "model_name": "LayoutModel",
     "state": {
      "_model_module": "@jupyter-widgets/base",
      "_model_module_version": "1.2.0",
      "_model_name": "LayoutModel",
      "_view_count": null,
      "_view_module": "@jupyter-widgets/base",
      "_view_module_version": "1.2.0",
      "_view_name": "LayoutView",
      "align_content": null,
      "align_items": null,
      "align_self": null,
      "border": null,
      "bottom": null,
      "display": null,
      "flex": null,
      "flex_flow": null,
      "grid_area": null,
      "grid_auto_columns": null,
      "grid_auto_flow": null,
      "grid_auto_rows": null,
      "grid_column": null,
      "grid_gap": null,
      "grid_row": null,
      "grid_template_areas": null,
      "grid_template_columns": null,
      "grid_template_rows": null,
      "height": null,
      "justify_content": null,
      "justify_items": null,
      "left": null,
      "margin": null,
      "max_height": null,
      "max_width": null,
      "min_height": null,
      "min_width": null,
      "object_fit": null,
      "object_position": null,
      "order": null,
      "overflow": null,
      "overflow_x": null,
      "overflow_y": null,
      "padding": null,
      "right": null,
      "top": null,
      "visibility": null,
      "width": null
     }
    },
    "de4495f1478f46f8a5ac7cbe64f736fb": {
     "model_module": "@jupyter-widgets/controls",
     "model_module_version": "1.5.0",
     "model_name": "DescriptionStyleModel",
     "state": {
      "_model_module": "@jupyter-widgets/controls",
      "_model_module_version": "1.5.0",
      "_model_name": "DescriptionStyleModel",
      "_view_count": null,
      "_view_module": "@jupyter-widgets/base",
      "_view_module_version": "1.2.0",
      "_view_name": "StyleView",
      "description_width": ""
     }
    },
    "dfa44288797e4a1b9b9f05072c025478": {
     "model_module": "@jupyter-widgets/base",
     "model_module_version": "1.2.0",
     "model_name": "LayoutModel",
     "state": {
      "_model_module": "@jupyter-widgets/base",
      "_model_module_version": "1.2.0",
      "_model_name": "LayoutModel",
      "_view_count": null,
      "_view_module": "@jupyter-widgets/base",
      "_view_module_version": "1.2.0",
      "_view_name": "LayoutView",
      "align_content": null,
      "align_items": null,
      "align_self": null,
      "border": null,
      "bottom": null,
      "display": null,
      "flex": null,
      "flex_flow": null,
      "grid_area": null,
      "grid_auto_columns": null,
      "grid_auto_flow": null,
      "grid_auto_rows": null,
      "grid_column": null,
      "grid_gap": null,
      "grid_row": null,
      "grid_template_areas": null,
      "grid_template_columns": null,
      "grid_template_rows": null,
      "height": null,
      "justify_content": null,
      "justify_items": null,
      "left": null,
      "margin": null,
      "max_height": null,
      "max_width": null,
      "min_height": null,
      "min_width": null,
      "object_fit": null,
      "object_position": null,
      "order": null,
      "overflow": null,
      "overflow_x": null,
      "overflow_y": null,
      "padding": null,
      "right": null,
      "top": null,
      "visibility": null,
      "width": null
     }
    },
    "e3d7c6e91bf54c0ea628283ffd758909": {
     "model_module": "@jupyter-widgets/controls",
     "model_module_version": "1.5.0",
     "model_name": "HTMLModel",
     "state": {
      "_dom_classes": [],
      "_model_module": "@jupyter-widgets/controls",
      "_model_module_version": "1.5.0",
      "_model_name": "HTMLModel",
      "_view_count": null,
      "_view_module": "@jupyter-widgets/controls",
      "_view_module_version": "1.5.0",
      "_view_name": "HTMLView",
      "description": "",
      "description_tooltip": null,
      "layout": "IPY_MODEL_d822bb181d554468ac95a2576ccb039c",
      "placeholder": "​",
      "style": "IPY_MODEL_f0e52ff9e33745d59dd626e3be805d27",
      "value": "modules.json: 100%"
     }
    },
    "e8c40b3ebef54d0190122cf2011ed2cd": {
     "model_module": "@jupyter-widgets/controls",
     "model_module_version": "1.5.0",
     "model_name": "HBoxModel",
     "state": {
      "_dom_classes": [],
      "_model_module": "@jupyter-widgets/controls",
      "_model_module_version": "1.5.0",
      "_model_name": "HBoxModel",
      "_view_count": null,
      "_view_module": "@jupyter-widgets/controls",
      "_view_module_version": "1.5.0",
      "_view_name": "HBoxView",
      "box_style": "",
      "children": [
       "IPY_MODEL_7c7edcbcd8664dada21266b144c9f5de",
       "IPY_MODEL_ac186c5e9fd74c9eac4c06dd50855936",
       "IPY_MODEL_ee691533cfb74a9ea57929188fa9d029"
      ],
      "layout": "IPY_MODEL_f2a2dae9f88c49ec899eb713cbbf7823"
     }
    },
    "eb47d743a2ba4c94bc38af5214536897": {
     "model_module": "@jupyter-widgets/controls",
     "model_module_version": "1.5.0",
     "model_name": "HTMLModel",
     "state": {
      "_dom_classes": [],
      "_model_module": "@jupyter-widgets/controls",
      "_model_module_version": "1.5.0",
      "_model_name": "HTMLModel",
      "_view_count": null,
      "_view_module": "@jupyter-widgets/controls",
      "_view_module_version": "1.5.0",
      "_view_name": "HTMLView",
      "description": "",
      "description_tooltip": null,
      "layout": "IPY_MODEL_597420753ccf47db81aca5f226cacc4a",
      "placeholder": "​",
      "style": "IPY_MODEL_ee18727fddf34202ac4c262321abb200",
      "value": " 112/112 [00:00&lt;00:00, 3.98kB/s]"
     }
    },
    "eb7b42058da947c09407613be0ba84d0": {
     "model_module": "@jupyter-widgets/controls",
     "model_module_version": "1.5.0",
     "model_name": "DescriptionStyleModel",
     "state": {
      "_model_module": "@jupyter-widgets/controls",
      "_model_module_version": "1.5.0",
      "_model_name": "DescriptionStyleModel",
      "_view_count": null,
      "_view_module": "@jupyter-widgets/base",
      "_view_module_version": "1.2.0",
      "_view_name": "StyleView",
      "description_width": ""
     }
    },
    "ed2feafc088a4e19a9e933f7551dc271": {
     "model_module": "@jupyter-widgets/controls",
     "model_module_version": "1.5.0",
     "model_name": "HTMLModel",
     "state": {
      "_dom_classes": [],
      "_model_module": "@jupyter-widgets/controls",
      "_model_module_version": "1.5.0",
      "_model_name": "HTMLModel",
      "_view_count": null,
      "_view_module": "@jupyter-widgets/controls",
      "_view_module_version": "1.5.0",
      "_view_name": "HTMLView",
      "description": "",
      "description_tooltip": null,
      "layout": "IPY_MODEL_613f4ecdecdf49bc9fd98fa005d0b8e6",
      "placeholder": "​",
      "style": "IPY_MODEL_57997aaceed94a7fbc9f671a1508cdab",
      "value": " 116/116 [00:00&lt;00:00, 7.03kB/s]"
     }
    },
    "ed3854aa1b484170bc074b86b6093a1e": {
     "model_module": "@jupyter-widgets/controls",
     "model_module_version": "1.5.0",
     "model_name": "HTMLModel",
     "state": {
      "_dom_classes": [],
      "_model_module": "@jupyter-widgets/controls",
      "_model_module_version": "1.5.0",
      "_model_name": "HTMLModel",
      "_view_count": null,
      "_view_module": "@jupyter-widgets/controls",
      "_view_module_version": "1.5.0",
      "_view_name": "HTMLView",
      "description": "",
      "description_tooltip": null,
      "layout": "IPY_MODEL_b3db694dee8846d3acf2016d68681fd7",
      "placeholder": "​",
      "style": "IPY_MODEL_a93807fa280e40b481c5255c1dd41f04",
      "value": "tokenizer.json: 100%"
     }
    },
    "ee18727fddf34202ac4c262321abb200": {
     "model_module": "@jupyter-widgets/controls",
     "model_module_version": "1.5.0",
     "model_name": "DescriptionStyleModel",
     "state": {
      "_model_module": "@jupyter-widgets/controls",
      "_model_module_version": "1.5.0",
      "_model_name": "DescriptionStyleModel",
      "_view_count": null,
      "_view_module": "@jupyter-widgets/base",
      "_view_module_version": "1.2.0",
      "_view_name": "StyleView",
      "description_width": ""
     }
    },
    "ee691533cfb74a9ea57929188fa9d029": {
     "model_module": "@jupyter-widgets/controls",
     "model_module_version": "1.5.0",
     "model_name": "HTMLModel",
     "state": {
      "_dom_classes": [],
      "_model_module": "@jupyter-widgets/controls",
      "_model_module_version": "1.5.0",
      "_model_name": "HTMLModel",
      "_view_count": null,
      "_view_module": "@jupyter-widgets/controls",
      "_view_module_version": "1.5.0",
      "_view_name": "HTMLView",
      "description": "",
      "description_tooltip": null,
      "layout": "IPY_MODEL_48b0a73bbe7641d7a820c62728ea4f59",
      "placeholder": "​",
      "style": "IPY_MODEL_8f1c9b4baa1b4f0d9b2c14cfbefcce14",
      "value": " 53.0/53.0 [00:00&lt;00:00, 1.79kB/s]"
     }
    },
    "f0e52ff9e33745d59dd626e3be805d27": {
     "model_module": "@jupyter-widgets/controls",
     "model_module_version": "1.5.0",
     "model_name": "DescriptionStyleModel",
     "state": {
      "_model_module": "@jupyter-widgets/controls",
      "_model_module_version": "1.5.0",
      "_model_name": "DescriptionStyleModel",
      "_view_count": null,
      "_view_module": "@jupyter-widgets/base",
      "_view_module_version": "1.2.0",
      "_view_name": "StyleView",
      "description_width": ""
     }
    },
    "f2a2dae9f88c49ec899eb713cbbf7823": {
     "model_module": "@jupyter-widgets/base",
     "model_module_version": "1.2.0",
     "model_name": "LayoutModel",
     "state": {
      "_model_module": "@jupyter-widgets/base",
      "_model_module_version": "1.2.0",
      "_model_name": "LayoutModel",
      "_view_count": null,
      "_view_module": "@jupyter-widgets/base",
      "_view_module_version": "1.2.0",
      "_view_name": "LayoutView",
      "align_content": null,
      "align_items": null,
      "align_self": null,
      "border": null,
      "bottom": null,
      "display": null,
      "flex": null,
      "flex_flow": null,
      "grid_area": null,
      "grid_auto_columns": null,
      "grid_auto_flow": null,
      "grid_auto_rows": null,
      "grid_column": null,
      "grid_gap": null,
      "grid_row": null,
      "grid_template_areas": null,
      "grid_template_columns": null,
      "grid_template_rows": null,
      "height": null,
      "justify_content": null,
      "justify_items": null,
      "left": null,
      "margin": null,
      "max_height": null,
      "max_width": null,
      "min_height": null,
      "min_width": null,
      "object_fit": null,
      "object_position": null,
      "order": null,
      "overflow": null,
      "overflow_x": null,
      "overflow_y": null,
      "padding": null,
      "right": null,
      "top": null,
      "visibility": null,
      "width": null
     }
    },
    "f2e9c52f67f74b31b388323266019dc8": {
     "model_module": "@jupyter-widgets/base",
     "model_module_version": "1.2.0",
     "model_name": "LayoutModel",
     "state": {
      "_model_module": "@jupyter-widgets/base",
      "_model_module_version": "1.2.0",
      "_model_name": "LayoutModel",
      "_view_count": null,
      "_view_module": "@jupyter-widgets/base",
      "_view_module_version": "1.2.0",
      "_view_name": "LayoutView",
      "align_content": null,
      "align_items": null,
      "align_self": null,
      "border": null,
      "bottom": null,
      "display": null,
      "flex": null,
      "flex_flow": null,
      "grid_area": null,
      "grid_auto_columns": null,
      "grid_auto_flow": null,
      "grid_auto_rows": null,
      "grid_column": null,
      "grid_gap": null,
      "grid_row": null,
      "grid_template_areas": null,
      "grid_template_columns": null,
      "grid_template_rows": null,
      "height": null,
      "justify_content": null,
      "justify_items": null,
      "left": null,
      "margin": null,
      "max_height": null,
      "max_width": null,
      "min_height": null,
      "min_width": null,
      "object_fit": null,
      "object_position": null,
      "order": null,
      "overflow": null,
      "overflow_x": null,
      "overflow_y": null,
      "padding": null,
      "right": null,
      "top": null,
      "visibility": null,
      "width": null
     }
    },
    "f31ea4644f9f4d32a290c242dde00d20": {
     "model_module": "@jupyter-widgets/controls",
     "model_module_version": "1.5.0",
     "model_name": "ProgressStyleModel",
     "state": {
      "_model_module": "@jupyter-widgets/controls",
      "_model_module_version": "1.5.0",
      "_model_name": "ProgressStyleModel",
      "_view_count": null,
      "_view_module": "@jupyter-widgets/base",
      "_view_module_version": "1.2.0",
      "_view_name": "StyleView",
      "bar_color": null,
      "description_width": ""
     }
    },
    "f353552c1f554d94b3787fb0c645c159": {
     "model_module": "@jupyter-widgets/controls",
     "model_module_version": "1.5.0",
     "model_name": "DescriptionStyleModel",
     "state": {
      "_model_module": "@jupyter-widgets/controls",
      "_model_module_version": "1.5.0",
      "_model_name": "DescriptionStyleModel",
      "_view_count": null,
      "_view_module": "@jupyter-widgets/base",
      "_view_module_version": "1.2.0",
      "_view_name": "StyleView",
      "description_width": ""
     }
    },
    "f79c76550e9547569760ae06b733e80a": {
     "model_module": "@jupyter-widgets/base",
     "model_module_version": "1.2.0",
     "model_name": "LayoutModel",
     "state": {
      "_model_module": "@jupyter-widgets/base",
      "_model_module_version": "1.2.0",
      "_model_name": "LayoutModel",
      "_view_count": null,
      "_view_module": "@jupyter-widgets/base",
      "_view_module_version": "1.2.0",
      "_view_name": "LayoutView",
      "align_content": null,
      "align_items": null,
      "align_self": null,
      "border": null,
      "bottom": null,
      "display": null,
      "flex": null,
      "flex_flow": null,
      "grid_area": null,
      "grid_auto_columns": null,
      "grid_auto_flow": null,
      "grid_auto_rows": null,
      "grid_column": null,
      "grid_gap": null,
      "grid_row": null,
      "grid_template_areas": null,
      "grid_template_columns": null,
      "grid_template_rows": null,
      "height": null,
      "justify_content": null,
      "justify_items": null,
      "left": null,
      "margin": null,
      "max_height": null,
      "max_width": null,
      "min_height": null,
      "min_width": null,
      "object_fit": null,
      "object_position": null,
      "order": null,
      "overflow": null,
      "overflow_x": null,
      "overflow_y": null,
      "padding": null,
      "right": null,
      "top": null,
      "visibility": null,
      "width": null
     }
    }
   }
  }
 },
 "nbformat": 4,
 "nbformat_minor": 4
}
